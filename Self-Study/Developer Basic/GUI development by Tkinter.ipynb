{
 "cells": [
  {
   "cell_type": "markdown",
   "metadata": {},
   "source": [
    "# GUI Programming with Tkinter\n",
    "\n",
    " - 참고 : https://realpython.com/python-gui-tkinter/  "
   ]
  },
  {
   "cell_type": "markdown",
   "metadata": {},
   "source": [
    "![titlee](Untitled_3.png)"
   ]
  },
  {
   "cell_type": "code",
   "execution_count": 1,
   "metadata": {},
   "outputs": [
    {
     "name": "stdout",
     "output_type": "stream",
     "text": [
      "코드 실행 중..🛸\n",
      "완료!\n"
     ]
    }
   ],
   "source": [
    "from tkinter import *\n",
    "import tkinter.ttk as ttk\n",
    "\n",
    "print('코드 실행 중..🛸')\n",
    "window = Tk()\n",
    "window.title(\"My First GUI\")\n",
    "\n",
    "#Window 크기 조정\n",
    "window.geometry(\"900x800\")\n",
    "window.resizable(True, True) # 가로세로 크기 조절 불가능\n",
    "\n",
    "#라벨 생성\n",
    "label1 = ttk.Label(window, text = 'Hello')\n",
    "label1.grid(column = 0, row = 0)\n",
    "\n",
    "#텍스트박스 생성\n",
    "text = Text(window, width = 60, height = 40)\n",
    "text.grid(column = 1, row = 0, padx =20, pady = 10)\n",
    "\n",
    "#버튼 생성\n",
    "b1=Button(window, text='click', width=10)\n",
    "b1.grid(column=1 ,row=1)\n",
    "\n",
    "\n",
    "window.mainloop()\n",
    "print('완료!')"
   ]
  },
  {
   "cell_type": "markdown",
   "metadata": {},
   "source": [
    " - 이벤트: 프로그램에 의해 감지되고 처리될 수 있는 동작이나 사건\n",
    " \n",
    " - 이벤트 루프: 프로그램의 이벤트나 메시지를 대기하다가 그것을 쓰레드에 보내는(dispatch) 프로그래밍 구조체"
   ]
  },
  {
   "cell_type": "code",
   "execution_count": 15,
   "metadata": {},
   "outputs": [
    {
     "name": "stdout",
     "output_type": "stream",
     "text": [
      "코드 실행 중..🛸\n",
      "완료!\n"
     ]
    }
   ],
   "source": [
    "from tkinter import *\n",
    "import tkinter.ttk as ttk\n",
    "import tkinter.messagebox as tmb\n",
    "\n",
    "print('코드 실행 중..🛸')\n",
    "window = Tk()   \n",
    "window.title(\"ex3_Button\")   \n",
    "window.geometry(\"480x320\") \n",
    "\n",
    "label1 = ttk.Label(window, text=\"Label\")\n",
    "label1.grid(column=0, row=0)\n",
    "\n",
    "# 버튼클릭 이벤트 핸들러 정의\n",
    "def click():\n",
    "    label1.configure(text='버튼이 눌렸습니다.')   # 버튼이 눌리면 라벨 텍스트값을 바꿉니다.\n",
    "    tmb.showinfo(\"버튼\", \"버튼클릭!!\")                 # 그리고 메시지박스로 버튼클릭을 알립니다.\n",
    "\n",
    "# 버튼 생성\n",
    "action = ttk.Button(window, text=\"버튼을 눌러주세요\", command=click)   \n",
    "action.grid(row=0, column=1)\n",
    "\n",
    "window.mainloop()\n",
    "print('완료!')"
   ]
  },
  {
   "cell_type": "markdown",
   "metadata": {},
   "source": [
    " - click() 함수 : 이벤트 핸들러 . 버튼이 클릭되면 호줄되는 동작\n",
    "\n",
    " - Button 인스턴스에 command키워드를 이용해 함수를 바인딩\n",
    " \n",
    " - command 키워드에 전달될 때는 콜백 함수라고 한다.\n",
    " \n",
    " - 콜백함수 : 이벤트 바인딩에 의해 호출되는 함수.\n",
    "\n",
    "![title](Untitled_12.png)\n",
    " "
   ]
  },
  {
   "cell_type": "code",
   "execution_count": 16,
   "metadata": {},
   "outputs": [
    {
     "name": "stdout",
     "output_type": "stream",
     "text": [
      "코드 실행 중..🛸\n",
      "완료!\n"
     ]
    }
   ],
   "source": [
    "from tkinter import *\n",
    "import tkinter.ttk as ttk\n",
    "import tkinter.messagebox as tmb\n",
    "\n",
    "print('코드 실행 중..🛸')\n",
    "window = Tk()   \n",
    "window.title(\"ex3_Button\")   \n",
    "window.geometry(\"480x320\") \n",
    "\n",
    "label1 = ttk.Label(window, text=\"Label\")\n",
    "label1.grid(column=0, row=0)\n",
    "\n",
    "# 콤보 생성\n",
    "combo = ttk.Combobox(window, width=10)\n",
    "combo['values']= (\"A\", \"B\", \"C\")\n",
    "combo.current(0) #set the selected item\n",
    "combo.grid(row=1, column=1)\n",
    "\n",
    "# 버튼클릭 이벤트 핸들러 정의\n",
    "def click():\n",
    "    label1.configure(text='버튼이 눌렸습니다.')   # 버튼이 눌리면 라벨 텍스트값을 바꿉니다.\n",
    "    tmb.showinfo(\"버튼\", combo.get())                # 메시지박스로 combo.get()을 통해 가져온 메뉴값을 출력합니다.\n",
    "\n",
    "# 버튼 생성\n",
    "action = ttk.Button(window, text=\"버튼을 눌러주세요\", command=click)   \n",
    "action.grid(row=0, column=1)\n",
    "\n",
    "window.mainloop()\n",
    "print('완료!')"
   ]
  },
  {
   "cell_type": "code",
   "execution_count": 17,
   "metadata": {},
   "outputs": [
    {
     "name": "stdout",
     "output_type": "stream",
     "text": [
      "코드 실행 중..🛸\n",
      "완료!\n"
     ]
    }
   ],
   "source": [
    "from tkinter import *\n",
    "import tkinter.ttk as ttk\n",
    "\n",
    "print('코드 실행 중..🛸')\n",
    "window = Tk()   \n",
    "window.title(\"ex3_Button\")   \n",
    "window.geometry(\"1024x512\")     # 윈도우 크기를 좀더 키웁시다.\n",
    "\n",
    "label1 = ttk.Label(window, text=\"Label\")\n",
    "label1.grid(column=0, row=0)\n",
    "\n",
    "combo = ttk.Combobox(window, width=10)\n",
    "combo['values']= (\"A\", \"B\", \"C\")\n",
    "combo.current(0) #set the selected item\n",
    "combo.grid(row=1, column=1)\n",
    "\n",
    "# 텍스트 박스 2개 생성\n",
    "text1 = Text(window, width=60, height=40)\n",
    "text2 = Text(window, width=60, height=40)\n",
    "text1.grid(row=2, column=0, padx=20, pady=10)   \n",
    "text2.grid(row=2, column=1, padx=20, pady=10)\n",
    "\n",
    "# 버튼클릭 이벤트 핸들러 정의\n",
    "def click():\n",
    "    label1.configure(text='버튼이 눌렸습니다.')   \n",
    "    text1_string = text1.get(\"1.0\",\"end\")   # text1의 텍스트값을 가져와서\n",
    "    text2_string = \"{} and {}\".format(text1_string, combo.get()) # text2에 들어갈 텍스트값을 생성한 후\n",
    "    text2.delete(1.0, \"end\")     # text2의 텍스트값을 초기화하고 나서 \n",
    "    text2.insert(\"end\", text2_string)   # text2에 새로 생성한 텍스트를 넣어줍니다.  \n",
    "\n",
    "action = ttk.Button(window, text=\"버튼을 눌러주세요\", command=click)   \n",
    "action.grid(row=0, column=1)\n",
    "\n",
    "window.mainloop()\n",
    "print('완료!')"
   ]
  },
  {
   "cell_type": "markdown",
   "metadata": {},
   "source": [
    "### Layout\n",
    "\n",
    " - grid = .grid(row= 0 , column=0)    = 0,0에 위치시키겠다.\n",
    " \n",
    " - pack = .pack() 가운데 위치시키겠다.\n",
    " - .pack(side = 'left', padx=20) 왼쪽 가운데,20 x축에서 20만큼 여백\n",
    " \n",
    " - place = .place(x=50,y=50)   50,50 에 위치\n",
    " "
   ]
  },
  {
   "cell_type": "markdown",
   "metadata": {},
   "source": [
    "# 구글 번역기 만들기\n"
   ]
  },
  {
   "cell_type": "markdown",
   "metadata": {},
   "source": [
    "``` \n",
    "$ pip install googletrans\n",
    "```\n"
   ]
  },
  {
   "cell_type": "code",
   "execution_count": 19,
   "metadata": {},
   "outputs": [
    {
     "data": {
      "text/plain": [
       "'Hello'"
      ]
     },
     "execution_count": 19,
     "metadata": {},
     "output_type": "execute_result"
    }
   ],
   "source": [
    "from googletrans import Translator\n",
    "\n",
    "def translate(input_str, lang='en'):\n",
    "    translator = Translator()\n",
    "    result = translator.translate(input_str, dest=lang)\n",
    "    return result.text\n",
    "\n",
    "translate('안녕하세요', lang='en')"
   ]
  },
  {
   "cell_type": "code",
   "execution_count": 42,
   "metadata": {},
   "outputs": [
    {
     "name": "stdout",
     "output_type": "stream",
     "text": [
      "코드 실행 중..🛸\n",
      "완료!\n"
     ]
    }
   ],
   "source": [
    "from tkinter import *\n",
    "import tkinter.ttk as ttk\n",
    "from googletrans import Translator\n",
    "\n",
    "print('코드 실행 중..🛸')\n",
    "window = Tk()\n",
    "window.title(\"나의 구글 번역기\")\n",
    "window.geometry(\"1024x512\")\n",
    "\n",
    "# 라벨 생성\n",
    "labe11=ttk.Label(window, text = '문장을 입력하세요')\n",
    "labe12=ttk.Label(window, text = '번역 결과')\n",
    "label3=ttk.Label(window, text = '언어를 선택하세요')\n",
    "labe11.grid(row=0, column=0)\n",
    "labe12.grid(row =0, column=1)\n",
    "label3.grid(row=1, column=0)\n",
    "\n",
    "# 콤보박스 생성\n",
    "combo=ttk.Combobox(window, width=10)\n",
    "combo['values']=(\"en\",\"ko\")\n",
    "combo.current(0)\n",
    "combo.grid(row = 1, column=1)\n",
    "\n",
    "# 텍스트 박스 생성\n",
    "text1=Text(window, width=60, height=40)\n",
    "text2=Text(window, width=60, height=40)\n",
    "text1.grid(row=2,column=0)\n",
    "text2.grid(row=2,column=1)\n",
    "\n",
    "# 번역기 함수\n",
    "def translate(input_str, lang='en'):\n",
    "    translator = Translator()\n",
    "    result = translator.translate(input_str, dest=combo.get())\n",
    "    return result.text\n",
    "\n",
    "# 버튼클릭 콜백 함수    \n",
    "def click():\n",
    "    text1_string=text1.get('1.0','end')\n",
    "    text2_string=translate(text1_string)\n",
    "    text2.delete(1.0,'end')\n",
    "    text2.insert('end',text2_string)\n",
    "    \n",
    "\n",
    "# 버튼 생성    \n",
    "b1=ttk.Button(window,text='번역하기',command=click)\n",
    "b1.place(x=700,y=8)\n",
    "\n",
    "window.mainloop()\n",
    "print('완료!')"
   ]
  },
  {
   "cell_type": "code",
   "execution_count": 4,
   "metadata": {},
   "outputs": [
    {
     "name": "stdout",
     "output_type": "stream",
     "text": [
      "코드 실행 중..🛸\n",
      "완료!\n"
     ]
    }
   ],
   "source": [
    "from tkinter import *\n",
    "import tkinter.ttk as ttk\n",
    "from googletrans import Translator\n",
    "\n",
    "print('코드 실행 중..🛸')\n",
    "window = Tk()\n",
    "window.title(\"나의 구글 번역기\")\n",
    "\n",
    "window.geometry(\"1024x512\")\n",
    "\n",
    "label1 = Label(window, text=\"번역전\")\n",
    "label2 = Label(window, text=\"번역후\")\n",
    "label1.grid(row=0, column=0, padx=20, pady=10)\n",
    "label2.grid(row=0, column=2, padx=20, pady=10)\n",
    "\n",
    "combo = ttk.Combobox(window, width=10)\n",
    "combo['values']= (\"en\", \"ko\", \"ja\")\n",
    "combo.current(0) #set the selected item\n",
    "combo.grid(row=0, column=1)\n",
    "\n",
    "text1 = Text(window, width=60, height=40)\n",
    "text2 = Text(window, width=60, height=40)\n",
    "text1.grid(row=1, column=0, padx=20, pady=10)\n",
    "text2.grid(row=1, column=2, padx=20, pady=10)\n",
    "\n",
    "\n",
    "def translate(input_str, lang='en'):\n",
    "    translator = Translator()\n",
    "    result = translator.translate(input_str, dest=lang)\n",
    "    return result.text\n",
    "\n",
    "def click():\n",
    "    intput_str = text1.get(\"1.0\",\"end\")\n",
    "    lang=combo.get()\n",
    "    output_str = translate(intput_str, lang=lang)\n",
    "    text2.delete(1.0, \"end\")\n",
    "    text2.insert(\"end\", output_str)\n",
    "\n",
    "action = ttk.Button(window, text=\"번역\", command=click)   \n",
    "action.grid(row=1, column=1)\n",
    "\n",
    "window.mainloop()\n",
    "print('완료!')"
   ]
  },
  {
   "cell_type": "code",
   "execution_count": null,
   "metadata": {},
   "outputs": [],
   "source": []
  }
 ],
 "metadata": {
  "kernelspec": {
   "display_name": "Python 3",
   "language": "python",
   "name": "python3"
  },
  "language_info": {
   "codemirror_mode": {
    "name": "ipython",
    "version": 3
   },
   "file_extension": ".py",
   "mimetype": "text/x-python",
   "name": "python",
   "nbconvert_exporter": "python",
   "pygments_lexer": "ipython3",
   "version": "3.7.6"
  }
 },
 "nbformat": 4,
 "nbformat_minor": 4
}
