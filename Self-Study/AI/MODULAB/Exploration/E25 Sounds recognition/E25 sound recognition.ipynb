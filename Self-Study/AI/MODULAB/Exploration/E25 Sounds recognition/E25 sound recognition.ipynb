{
 "cells": [
  {
   "cell_type": "markdown",
   "metadata": {},
   "source": [
    "1. 데이터 처리와 분류\n",
    "\n",
    "라벨 데이터 처리하기\n",
    "sklearn의 rain_test_split함수를 이용하여 train, test 분리\n",
    "2. 학습을 위한 하이퍼파라미터 설정\n",
    "\n",
    "3. 데이터셋 구성\n",
    "\n",
    "tf.data.Dataset을 이용\n",
    "from_tensor_slices 함수에 return 받길 원하는 데이터를 튜플 (data, label) 형태로 넣어서 사용\n",
    "map과 batch를 이용한 데이터 전처리\n",
    "4. 2차원 Spectrogram 데이터를 처리하는 모델 구성\n",
    "\n",
    "2차원 Spectrogram 데이터의 시간축 방향으로 Conv1D layer를 적용, 혹은 Conv2D layer를 적용 가능\n",
    "\n",
    "batchnorm, dropout, dense layer 등을 이용\n",
    "\n",
    "12개의 단어 class를 구분하는 loss를 사용하고 Adam optimizer를 사용\n",
    "\n",
    "모델 가중치를 저장하는 checkpoint callback 함수 추가\n",
    "\n",
    "다양한 모델의 실험을 진행해 보시기 바랍니다.\n",
    "\n",
    "\n",
    "#### 1.학습 후, 학습이 어떻게 진행됐는지 그래프로 출력\n",
    "\n",
    "loss, accuracy를 그래프로 표현\n",
    "#### 2. Test dataset을 이용해서 모델의 성능을 평가\n",
    "\n",
    "저장한 weight 불러오기\n",
    "모델의 예측값과 정답값이 얼마나 일치하는지 확인"
   ]
  },
  {
   "cell_type": "markdown",
   "metadata": {},
   "source": [
    "```\n",
    "$ mkdir -p ~/aiffel/speech_recognition/data\n",
    "$ mkdir -p ~/aiffel/speech_recognition/models\n",
    "$ wget http://bigfile.mail.naver.com/bigfileupload/download?fid=8QbZaAIq1NKXFoMjK3YXaxbwF3YZKAUmKxgwaxulFAMqFCYwFog9FquwFxvlHrMrpxg9KAtwFAt9K6K9F4udpx0oKxFvKxCoFq+vpo+0 -O speech_wav_8000.npz\n",
    "$ mv speech_wav_8000.npz ~/aiffel/speech_recognition/data\n",
    "```"
   ]
  },
  {
   "cell_type": "code",
   "execution_count": 2,
   "metadata": {},
   "outputs": [],
   "source": [
    "import librosa\n",
    "\n",
    "def wav2spec(wav, fft_size=258): # spectrogram shape을 맞추기위해서 size 변형\n",
    "    D = np.abs(librosa.stft(wav, n_fft=fft_size))\n",
    "    return D\n"
   ]
  },
  {
   "cell_type": "code",
   "execution_count": 5,
   "metadata": {},
   "outputs": [],
   "source": [
    "import IPython.display as ipd\n",
    "import random\n",
    "import numpy as np\n",
    "import os\n",
    "\n",
    "data_path = os.getenv(\"HOME\")+'/aiffel/speech_recognition/data/speech_wav_8000.npz'\n",
    "speech_data = np.load(data_path)\n",
    "# 데이터 선택\n",
    "rand = random.randint(0, len(speech_data[\"wav_vals\"]))\n",
    "\n",
    "sr = 8000 # 1초동안 재생되는 샘플의 갯수\n",
    "data = speech_data[\"wav_vals\"][rand]"
   ]
  },
  {
   "cell_type": "code",
   "execution_count": 6,
   "metadata": {},
   "outputs": [
    {
     "name": "stdout",
     "output_type": "stream",
     "text": [
      "Waveform shape :  (8000,)\n",
      "Spectrogram shape :  (130, 126)\n"
     ]
    }
   ],
   "source": [
    "spec = wav2spec(data)\n",
    "print(\"Waveform shape : \",data.shape)\n",
    "print(\"Spectrogram shape : \",spec.shape)"
   ]
  },
  {
   "cell_type": "code",
   "execution_count": 8,
   "metadata": {},
   "outputs": [],
   "source": [
    "target_list = ['yes', 'no', 'up', 'down', 'left', 'right', 'on', 'off', 'stop', 'go']\n",
    "\n",
    "label_value = target_list\n",
    "label_value.append('unknown')\n",
    "label_value.append('silence')\n",
    "\n",
    "new_label_value = dict()\n",
    "for i, l in enumerate(label_value):\n",
    "    new_label_value[l] = i\n",
    "label_value = new_label_value"
   ]
  },
  {
   "cell_type": "code",
   "execution_count": 9,
   "metadata": {},
   "outputs": [
    {
     "name": "stdout",
     "output_type": "stream",
     "text": [
      "✅\n"
     ]
    }
   ],
   "source": [
    "temp = []\n",
    "for v in speech_data[\"label_vals\"]:\n",
    "    temp.append(label_value[v[0]])\n",
    "label_data = np.array(temp)\n",
    "print(\"✅\")"
   ]
  },
  {
   "cell_type": "code",
   "execution_count": 14,
   "metadata": {},
   "outputs": [
    {
     "data": {
      "text/plain": [
       "8000"
      ]
     },
     "execution_count": 14,
     "metadata": {},
     "output_type": "execute_result"
    }
   ],
   "source": [
    "len(data)"
   ]
  },
  {
   "cell_type": "code",
   "execution_count": 13,
   "metadata": {},
   "outputs": [
    {
     "data": {
      "text/plain": [
       "130"
      ]
     },
     "execution_count": 13,
     "metadata": {},
     "output_type": "execute_result"
    }
   ],
   "source": [
    "len(spec)"
   ]
  },
  {
   "cell_type": "code",
   "execution_count": 21,
   "metadata": {},
   "outputs": [
    {
     "data": {
      "text/plain": [
       "(8000,)"
      ]
     },
     "execution_count": 21,
     "metadata": {},
     "output_type": "execute_result"
    }
   ],
   "source": [
    "data.shape"
   ]
  },
  {
   "cell_type": "code",
   "execution_count": 23,
   "metadata": {},
   "outputs": [
    {
     "data": {
      "text/plain": [
       "numpy.ndarray"
      ]
     },
     "execution_count": 23,
     "metadata": {},
     "output_type": "execute_result"
    }
   ],
   "source": [
    "type(speech_data[\"wav_vals\"])"
   ]
  },
  {
   "cell_type": "code",
   "execution_count": 34,
   "metadata": {},
   "outputs": [],
   "source": [
    "a=np.array([])"
   ]
  },
  {
   "cell_type": "code",
   "execution_count": 35,
   "metadata": {},
   "outputs": [],
   "source": [
    "a=np.append(a,[1])"
   ]
  },
  {
   "cell_type": "code",
   "execution_count": 36,
   "metadata": {},
   "outputs": [],
   "source": [
    "a=np.append(a,[2])"
   ]
  },
  {
   "cell_type": "code",
   "execution_count": 37,
   "metadata": {},
   "outputs": [
    {
     "data": {
      "text/plain": [
       "array([1., 2.])"
      ]
     },
     "execution_count": 37,
     "metadata": {},
     "output_type": "execute_result"
    }
   ],
   "source": [
    "a"
   ]
  },
  {
   "cell_type": "code",
   "execution_count": 38,
   "metadata": {},
   "outputs": [
    {
     "data": {
      "text/plain": [
       "(2,)"
      ]
     },
     "execution_count": 38,
     "metadata": {},
     "output_type": "execute_result"
    }
   ],
   "source": [
    "a.shape"
   ]
  },
  {
   "cell_type": "code",
   "execution_count": 17,
   "metadata": {},
   "outputs": [],
   "source": [
    "for data in speech_data[\"wav_vals\"]:\n",
    "    spec = wav2spec(data)"
   ]
  },
  {
   "cell_type": "code",
   "execution_count": null,
   "metadata": {},
   "outputs": [],
   "source": [
    "spec="
   ]
  },
  {
   "cell_type": "code",
   "execution_count": 20,
   "metadata": {},
   "outputs": [
    {
     "ename": "ValueError",
     "evalue": "Found input variables with inconsistent numbers of samples: [130, 50620]",
     "output_type": "error",
     "traceback": [
      "\u001b[0;31m---------------------------------------------------------------------------\u001b[0m",
      "\u001b[0;31mValueError\u001b[0m                                Traceback (most recent call last)",
      "\u001b[0;32m<ipython-input-20-3b3bb34b6abb>\u001b[0m in \u001b[0;36m<module>\u001b[0;34m\u001b[0m\n\u001b[1;32m      5\u001b[0m                                                                 \u001b[0mlabel_data\u001b[0m\u001b[0;34m,\u001b[0m\u001b[0;34m\u001b[0m\u001b[0;34m\u001b[0m\u001b[0m\n\u001b[1;32m      6\u001b[0m                                                                 \u001b[0mtest_size\u001b[0m\u001b[0;34m=\u001b[0m\u001b[0;36m0.1\u001b[0m\u001b[0;34m,\u001b[0m\u001b[0;34m\u001b[0m\u001b[0;34m\u001b[0m\u001b[0m\n\u001b[0;32m----> 7\u001b[0;31m                                                                 shuffle=True)\n\u001b[0m\u001b[1;32m      8\u001b[0m \u001b[0mprint\u001b[0m\u001b[0;34m(\u001b[0m\u001b[0mtrain_wav\u001b[0m\u001b[0;34m)\u001b[0m\u001b[0;34m\u001b[0m\u001b[0;34m\u001b[0m\u001b[0m\n\u001b[1;32m      9\u001b[0m \u001b[0;34m\u001b[0m\u001b[0m\n",
      "\u001b[0;32m~/anaconda3/envs/aiffel/lib/python3.7/site-packages/sklearn/model_selection/_split.py\u001b[0m in \u001b[0;36mtrain_test_split\u001b[0;34m(*arrays, **options)\u001b[0m\n\u001b[1;32m   2125\u001b[0m         \u001b[0;32mraise\u001b[0m \u001b[0mTypeError\u001b[0m\u001b[0;34m(\u001b[0m\u001b[0;34m\"Invalid parameters passed: %s\"\u001b[0m \u001b[0;34m%\u001b[0m \u001b[0mstr\u001b[0m\u001b[0;34m(\u001b[0m\u001b[0moptions\u001b[0m\u001b[0;34m)\u001b[0m\u001b[0;34m)\u001b[0m\u001b[0;34m\u001b[0m\u001b[0;34m\u001b[0m\u001b[0m\n\u001b[1;32m   2126\u001b[0m \u001b[0;34m\u001b[0m\u001b[0m\n\u001b[0;32m-> 2127\u001b[0;31m     \u001b[0marrays\u001b[0m \u001b[0;34m=\u001b[0m \u001b[0mindexable\u001b[0m\u001b[0;34m(\u001b[0m\u001b[0;34m*\u001b[0m\u001b[0marrays\u001b[0m\u001b[0;34m)\u001b[0m\u001b[0;34m\u001b[0m\u001b[0;34m\u001b[0m\u001b[0m\n\u001b[0m\u001b[1;32m   2128\u001b[0m \u001b[0;34m\u001b[0m\u001b[0m\n\u001b[1;32m   2129\u001b[0m     \u001b[0mn_samples\u001b[0m \u001b[0;34m=\u001b[0m \u001b[0m_num_samples\u001b[0m\u001b[0;34m(\u001b[0m\u001b[0marrays\u001b[0m\u001b[0;34m[\u001b[0m\u001b[0;36m0\u001b[0m\u001b[0;34m]\u001b[0m\u001b[0;34m)\u001b[0m\u001b[0;34m\u001b[0m\u001b[0;34m\u001b[0m\u001b[0m\n",
      "\u001b[0;32m~/anaconda3/envs/aiffel/lib/python3.7/site-packages/sklearn/utils/validation.py\u001b[0m in \u001b[0;36mindexable\u001b[0;34m(*iterables)\u001b[0m\n\u001b[1;32m    291\u001b[0m     \"\"\"\n\u001b[1;32m    292\u001b[0m     \u001b[0mresult\u001b[0m \u001b[0;34m=\u001b[0m \u001b[0;34m[\u001b[0m\u001b[0m_make_indexable\u001b[0m\u001b[0;34m(\u001b[0m\u001b[0mX\u001b[0m\u001b[0;34m)\u001b[0m \u001b[0;32mfor\u001b[0m \u001b[0mX\u001b[0m \u001b[0;32min\u001b[0m \u001b[0miterables\u001b[0m\u001b[0;34m]\u001b[0m\u001b[0;34m\u001b[0m\u001b[0;34m\u001b[0m\u001b[0m\n\u001b[0;32m--> 293\u001b[0;31m     \u001b[0mcheck_consistent_length\u001b[0m\u001b[0;34m(\u001b[0m\u001b[0;34m*\u001b[0m\u001b[0mresult\u001b[0m\u001b[0;34m)\u001b[0m\u001b[0;34m\u001b[0m\u001b[0;34m\u001b[0m\u001b[0m\n\u001b[0m\u001b[1;32m    294\u001b[0m     \u001b[0;32mreturn\u001b[0m \u001b[0mresult\u001b[0m\u001b[0;34m\u001b[0m\u001b[0;34m\u001b[0m\u001b[0m\n\u001b[1;32m    295\u001b[0m \u001b[0;34m\u001b[0m\u001b[0m\n",
      "\u001b[0;32m~/anaconda3/envs/aiffel/lib/python3.7/site-packages/sklearn/utils/validation.py\u001b[0m in \u001b[0;36mcheck_consistent_length\u001b[0;34m(*arrays)\u001b[0m\n\u001b[1;32m    255\u001b[0m     \u001b[0;32mif\u001b[0m \u001b[0mlen\u001b[0m\u001b[0;34m(\u001b[0m\u001b[0muniques\u001b[0m\u001b[0;34m)\u001b[0m \u001b[0;34m>\u001b[0m \u001b[0;36m1\u001b[0m\u001b[0;34m:\u001b[0m\u001b[0;34m\u001b[0m\u001b[0;34m\u001b[0m\u001b[0m\n\u001b[1;32m    256\u001b[0m         raise ValueError(\"Found input variables with inconsistent numbers of\"\n\u001b[0;32m--> 257\u001b[0;31m                          \" samples: %r\" % [int(l) for l in lengths])\n\u001b[0m\u001b[1;32m    258\u001b[0m \u001b[0;34m\u001b[0m\u001b[0m\n\u001b[1;32m    259\u001b[0m \u001b[0;34m\u001b[0m\u001b[0m\n",
      "\u001b[0;31mValueError\u001b[0m: Found input variables with inconsistent numbers of samples: [130, 50620]"
     ]
    }
   ],
   "source": [
    "from sklearn.model_selection import train_test_split\n",
    "\n",
    "sr = 5\n",
    "train_wav, test_wav, train_label, test_label = train_test_split(spec, \n",
    "                                                                label_data, \n",
    "                                                                test_size=0.1,\n",
    "                                                                shuffle=True)\n",
    "print(train_wav)\n",
    "\n",
    "train_wav = train_wav.reshape([-1,40,40,sr]) # add channel for CNN\n",
    "test_wav = test_wav.reshape([-1,40,40,sr])\n",
    "print(\"✅\")"
   ]
  },
  {
   "cell_type": "code",
   "execution_count": 19,
   "metadata": {},
   "outputs": [
    {
     "name": "stdout",
     "output_type": "stream",
     "text": [
      "train data :  (45558, 40, 40, 5)\n",
      "train labels :  (45558,)\n",
      "test data :  (5062, 40, 40, 5)\n",
      "test labels :  (5062,)\n",
      "✅\n"
     ]
    }
   ],
   "source": [
    "print(\"train data : \", train_wav.shape)\n",
    "print(\"train labels : \", train_label.shape)\n",
    "print(\"test data : \", test_wav.shape)\n",
    "print(\"test labels : \", test_label.shape)\n",
    "print(\"✅\")"
   ]
  },
  {
   "cell_type": "code",
   "execution_count": 57,
   "metadata": {},
   "outputs": [
    {
     "data": {
      "text/plain": [
       "'/home/aiffel/aiffel/speech_recognition/models/wav'"
      ]
     },
     "execution_count": 57,
     "metadata": {},
     "output_type": "execute_result"
    }
   ],
   "source": [
    "batch_size = 128\n",
    "max_epochs = 20\n",
    "\n",
    "# the save point\n",
    "checkpoint_dir = os.getenv('HOME')+'/aiffel/speech_recognition/models/wav'\n",
    "\n",
    "checkpoint_dir"
   ]
  },
  {
   "cell_type": "code",
   "execution_count": 58,
   "metadata": {},
   "outputs": [
    {
     "name": "stdout",
     "output_type": "stream",
     "text": [
      "✅\n"
     ]
    }
   ],
   "source": [
    "def one_hot_label(wav, label):\n",
    "    label = tf.one_hot(label, depth=12)\n",
    "    return wav, label\n",
    "print(\"✅\")"
   ]
  },
  {
   "cell_type": "code",
   "execution_count": 59,
   "metadata": {},
   "outputs": [
    {
     "name": "stdout",
     "output_type": "stream",
     "text": [
      "<BatchDataset shapes: ((None, 40, 40, 5), (None, 12)), types: (tf.float32, tf.float32)>\n",
      "<BatchDataset shapes: ((None, 40, 40, 5), (None, 12)), types: (tf.float32, tf.float32)>\n",
      "✅\n"
     ]
    }
   ],
   "source": [
    "import tensorflow as tf\n",
    "\n",
    "# for train\n",
    "train_dataset = tf.data.Dataset.from_tensor_slices((train_wav, train_label))\n",
    "train_dataset = train_dataset.map(one_hot_label)\n",
    "train_dataset = train_dataset.repeat().batch(batch_size=batch_size)\n",
    "print(train_dataset)\n",
    "\n",
    "# for test\n",
    "test_dataset = tf.data.Dataset.from_tensor_slices((test_wav, test_label))\n",
    "test_dataset = test_dataset.map(one_hot_label)\n",
    "test_dataset = test_dataset.batch(batch_size=batch_size)\n",
    "print(test_dataset)\n",
    "print(\"✅\")"
   ]
  },
  {
   "cell_type": "code",
   "execution_count": 61,
   "metadata": {},
   "outputs": [
    {
     "name": "stdout",
     "output_type": "stream",
     "text": [
      "Model: \"functional_1\"\n",
      "_________________________________________________________________\n",
      "Layer (type)                 Output Shape              Param #   \n",
      "=================================================================\n",
      "input_17 (InputLayer)        [(None, 40, 40, 5)]       0         \n",
      "_________________________________________________________________\n",
      "conv2d_103 (Conv2D)          (None, 40, 40, 32)        12992     \n",
      "_________________________________________________________________\n",
      "conv2d_104 (Conv2D)          (None, 40, 40, 32)        82976     \n",
      "_________________________________________________________________\n",
      "max_pooling2d_43 (MaxPooling (None, 20, 20, 32)        0         \n",
      "_________________________________________________________________\n",
      "conv2d_105 (Conv2D)          (None, 20, 20, 64)        165952    \n",
      "_________________________________________________________________\n",
      "conv2d_106 (Conv2D)          (None, 20, 20, 64)        331840    \n",
      "_________________________________________________________________\n",
      "max_pooling2d_44 (MaxPooling (None, 10, 10, 64)        0         \n",
      "_________________________________________________________________\n",
      "conv2d_107 (Conv2D)          (None, 10, 10, 128)       663680    \n",
      "_________________________________________________________________\n",
      "conv2d_108 (Conv2D)          (None, 10, 10, 128)       1327232   \n",
      "_________________________________________________________________\n",
      "conv2d_109 (Conv2D)          (None, 10, 10, 128)       1327232   \n",
      "_________________________________________________________________\n",
      "max_pooling2d_45 (MaxPooling (None, 5, 5, 128)         0         \n",
      "_________________________________________________________________\n",
      "conv2d_110 (Conv2D)          (None, 5, 5, 256)         2654464   \n",
      "_________________________________________________________________\n",
      "conv2d_111 (Conv2D)          (None, 5, 5, 256)         5308672   \n",
      "_________________________________________________________________\n",
      "conv2d_112 (Conv2D)          (None, 5, 5, 256)         5308672   \n",
      "_________________________________________________________________\n",
      "max_pooling2d_46 (MaxPooling (None, 2, 2, 256)         0         \n",
      "_________________________________________________________________\n",
      "dropout (Dropout)            (None, 2, 2, 256)         0         \n",
      "_________________________________________________________________\n",
      "flatten (Flatten)            (None, 1024)              0         \n",
      "_________________________________________________________________\n",
      "dense (Dense)                (None, 256)               262400    \n",
      "_________________________________________________________________\n",
      "batch_normalization (BatchNo (None, 256)               1024      \n",
      "_________________________________________________________________\n",
      "activation (Activation)      (None, 256)               0         \n",
      "_________________________________________________________________\n",
      "dense_1 (Dense)              (None, 12)                3084      \n",
      "=================================================================\n",
      "Total params: 17,450,220\n",
      "Trainable params: 17,449,708\n",
      "Non-trainable params: 512\n",
      "_________________________________________________________________\n"
     ]
    }
   ],
   "source": [
    "from tensorflow.keras import layers\n",
    "\n",
    "input_tensor = layers.Input(shape=(40,40,sr))\n",
    "\n",
    "x = layers.Conv2D(32, 9, padding='same', activation='relu')(input_tensor)\n",
    "x = layers.Conv2D(32, 9, padding='same', activation='relu')(x)\n",
    "x = layers.MaxPool2D()(x)\n",
    "\n",
    "x = layers.Conv2D(64, 9, padding='same', activation='relu')(x)\n",
    "x = layers.Conv2D(64, 9, padding='same', activation='relu')(x)\n",
    "x = layers.MaxPooling2D(pool_size=(2,2))(x)\n",
    "\n",
    "x = layers.Conv2D(128, 9, padding='same', activation='relu')(x)\n",
    "x = layers.Conv2D(128, 9, padding='same', activation='relu')(x)\n",
    "x = layers.Conv2D(128, 9, padding='same', activation='relu')(x)\n",
    "x = layers.MaxPooling2D(pool_size=(2,2))(x)\n",
    "\n",
    "x = layers.Conv2D(256, 9, padding='same', activation='relu')(x)\n",
    "x = layers.Conv2D(256, 9, padding='same', activation='relu')(x)\n",
    "x = layers.Conv2D(256, 9, padding='same', activation='relu')(x)\n",
    "x = layers.MaxPooling2D(pool_size=(2,2))(x)\n",
    "x = layers.Dropout(0.5)(x)\n",
    "\n",
    "x = layers.Flatten()(x)\n",
    "x = layers.Dense(256)(x)\n",
    "x = layers.BatchNormalization()(x)\n",
    "x = layers.Activation('relu')(x)\n",
    "\n",
    "output_tensor = layers.Dense(12)(x)\n",
    "\n",
    "model_wav = tf.keras.Model(input_tensor, output_tensor)\n",
    "\n",
    "model_wav.summary()"
   ]
  },
  {
   "cell_type": "code",
   "execution_count": 62,
   "metadata": {},
   "outputs": [
    {
     "name": "stdout",
     "output_type": "stream",
     "text": [
      "✅\n"
     ]
    }
   ],
   "source": [
    "optimizer=tf.keras.optimizers.Adam(1e-4)\n",
    "model_wav.compile(loss=tf.keras.losses.CategoricalCrossentropy(from_logits=True),\n",
    "             optimizer=optimizer,\n",
    "             metrics=['accuracy'])\n",
    "print(\"✅\")"
   ]
  },
  {
   "cell_type": "code",
   "execution_count": 63,
   "metadata": {},
   "outputs": [
    {
     "name": "stdout",
     "output_type": "stream",
     "text": [
      "✅\n"
     ]
    }
   ],
   "source": [
    "cp_callback = tf.keras.callbacks.ModelCheckpoint(checkpoint_dir,\n",
    "                                                 save_weights_only=True,\n",
    "                                                 monitor='val_loss',\n",
    "                                                 mode='auto',\n",
    "                                                 save_best_only=True,\n",
    "                                                 verbose=1)\n",
    "print(\"✅\")"
   ]
  },
  {
   "cell_type": "code",
   "execution_count": 64,
   "metadata": {},
   "outputs": [
    {
     "name": "stdout",
     "output_type": "stream",
     "text": [
      "Epoch 1/20\n",
      "  2/355 [..............................] - ETA: 15s - loss: 2.4872 - accuracy: 0.0625WARNING:tensorflow:Callbacks method `on_train_batch_end` is slow compared to the batch time (batch time: 0.0332s vs `on_train_batch_end` time: 0.0516s). Check your callbacks.\n",
      "355/355 [==============================] - ETA: 0s - loss: 2.1900 - accuracy: 0.2039\n",
      "Epoch 00001: val_loss improved from inf to 2.11643, saving model to /home/aiffel/aiffel/speech_recognition/models/wav\n",
      "355/355 [==============================] - 27s 76ms/step - loss: 2.1900 - accuracy: 0.2039 - val_loss: 2.1164 - val_accuracy: 0.2857\n",
      "Epoch 2/20\n",
      "355/355 [==============================] - ETA: 0s - loss: 1.6527 - accuracy: 0.3916\n",
      "Epoch 00002: val_loss improved from 2.11643 to 1.35379, saving model to /home/aiffel/aiffel/speech_recognition/models/wav\n",
      "355/355 [==============================] - 27s 76ms/step - loss: 1.6527 - accuracy: 0.3916 - val_loss: 1.3538 - val_accuracy: 0.5162\n",
      "Epoch 3/20\n",
      "355/355 [==============================] - ETA: 0s - loss: 1.1969 - accuracy: 0.5815\n",
      "Epoch 00003: val_loss improved from 1.35379 to 1.14055, saving model to /home/aiffel/aiffel/speech_recognition/models/wav\n",
      "355/355 [==============================] - 28s 80ms/step - loss: 1.1969 - accuracy: 0.5815 - val_loss: 1.1405 - val_accuracy: 0.5974\n",
      "Epoch 4/20\n",
      "355/355 [==============================] - ETA: 0s - loss: 0.9577 - accuracy: 0.6699\n",
      "Epoch 00004: val_loss improved from 1.14055 to 0.92019, saving model to /home/aiffel/aiffel/speech_recognition/models/wav\n",
      "355/355 [==============================] - 28s 78ms/step - loss: 0.9577 - accuracy: 0.6699 - val_loss: 0.9202 - val_accuracy: 0.6899\n",
      "Epoch 5/20\n",
      "355/355 [==============================] - ETA: 0s - loss: 0.7931 - accuracy: 0.7292\n",
      "Epoch 00005: val_loss improved from 0.92019 to 0.75590, saving model to /home/aiffel/aiffel/speech_recognition/models/wav\n",
      "355/355 [==============================] - 28s 78ms/step - loss: 0.7931 - accuracy: 0.7292 - val_loss: 0.7559 - val_accuracy: 0.7418\n",
      "Epoch 6/20\n",
      "355/355 [==============================] - ETA: 0s - loss: 0.6565 - accuracy: 0.7817\n",
      "Epoch 00006: val_loss did not improve from 0.75590\n",
      "355/355 [==============================] - 27s 77ms/step - loss: 0.6565 - accuracy: 0.7817 - val_loss: 0.8349 - val_accuracy: 0.7336\n",
      "Epoch 7/20\n",
      "355/355 [==============================] - ETA: 0s - loss: 0.5649 - accuracy: 0.8123\n",
      "Epoch 00007: val_loss improved from 0.75590 to 0.62446, saving model to /home/aiffel/aiffel/speech_recognition/models/wav\n",
      "355/355 [==============================] - 28s 78ms/step - loss: 0.5649 - accuracy: 0.8123 - val_loss: 0.6245 - val_accuracy: 0.7965\n",
      "Epoch 8/20\n",
      "355/355 [==============================] - ETA: 0s - loss: 0.4767 - accuracy: 0.8423\n",
      "Epoch 00008: val_loss improved from 0.62446 to 0.60750, saving model to /home/aiffel/aiffel/speech_recognition/models/wav\n",
      "355/355 [==============================] - 28s 80ms/step - loss: 0.4767 - accuracy: 0.8423 - val_loss: 0.6075 - val_accuracy: 0.8047\n",
      "Epoch 9/20\n",
      "355/355 [==============================] - ETA: 0s - loss: 0.4100 - accuracy: 0.8665\n",
      "Epoch 00009: val_loss did not improve from 0.60750\n",
      "355/355 [==============================] - 28s 80ms/step - loss: 0.4100 - accuracy: 0.8665 - val_loss: 0.6133 - val_accuracy: 0.8049\n",
      "Epoch 10/20\n",
      "355/355 [==============================] - ETA: 0s - loss: 0.3558 - accuracy: 0.8844\n",
      "Epoch 00010: val_loss improved from 0.60750 to 0.58790, saving model to /home/aiffel/aiffel/speech_recognition/models/wav\n",
      "355/355 [==============================] - 28s 80ms/step - loss: 0.3558 - accuracy: 0.8844 - val_loss: 0.5879 - val_accuracy: 0.8213\n",
      "Epoch 11/20\n",
      "355/355 [==============================] - ETA: 0s - loss: 0.3169 - accuracy: 0.8964\n",
      "Epoch 00011: val_loss improved from 0.58790 to 0.52424, saving model to /home/aiffel/aiffel/speech_recognition/models/wav\n",
      "355/355 [==============================] - 29s 81ms/step - loss: 0.3169 - accuracy: 0.8964 - val_loss: 0.5242 - val_accuracy: 0.8427\n",
      "Epoch 12/20\n",
      "355/355 [==============================] - ETA: 0s - loss: 0.2882 - accuracy: 0.9057\n",
      "Epoch 00012: val_loss improved from 0.52424 to 0.49962, saving model to /home/aiffel/aiffel/speech_recognition/models/wav\n",
      "355/355 [==============================] - 28s 80ms/step - loss: 0.2882 - accuracy: 0.9057 - val_loss: 0.4996 - val_accuracy: 0.8526\n",
      "Epoch 13/20\n",
      "355/355 [==============================] - ETA: 0s - loss: 0.2437 - accuracy: 0.9202\n",
      "Epoch 00013: val_loss improved from 0.49962 to 0.48787, saving model to /home/aiffel/aiffel/speech_recognition/models/wav\n",
      "355/355 [==============================] - 28s 79ms/step - loss: 0.2437 - accuracy: 0.9202 - val_loss: 0.4879 - val_accuracy: 0.8558\n",
      "Epoch 14/20\n",
      "355/355 [==============================] - ETA: 0s - loss: 0.2163 - accuracy: 0.9293\n",
      "Epoch 00014: val_loss did not improve from 0.48787\n",
      "355/355 [==============================] - 28s 79ms/step - loss: 0.2163 - accuracy: 0.9293 - val_loss: 0.5467 - val_accuracy: 0.8431\n",
      "Epoch 15/20\n",
      "355/355 [==============================] - ETA: 0s - loss: 0.2009 - accuracy: 0.9333\n",
      "Epoch 00015: val_loss improved from 0.48787 to 0.48108, saving model to /home/aiffel/aiffel/speech_recognition/models/wav\n",
      "355/355 [==============================] - 28s 80ms/step - loss: 0.2009 - accuracy: 0.9333 - val_loss: 0.4811 - val_accuracy: 0.8596\n",
      "Epoch 16/20\n",
      "355/355 [==============================] - ETA: 0s - loss: 0.1825 - accuracy: 0.9398\n",
      "Epoch 00016: val_loss did not improve from 0.48108\n",
      "355/355 [==============================] - 28s 78ms/step - loss: 0.1825 - accuracy: 0.9398 - val_loss: 0.4931 - val_accuracy: 0.8606\n",
      "Epoch 17/20\n",
      "355/355 [==============================] - ETA: 0s - loss: 0.1649 - accuracy: 0.9463\n",
      "Epoch 00017: val_loss improved from 0.48108 to 0.44590, saving model to /home/aiffel/aiffel/speech_recognition/models/wav\n",
      "355/355 [==============================] - 29s 81ms/step - loss: 0.1649 - accuracy: 0.9463 - val_loss: 0.4459 - val_accuracy: 0.8822\n",
      "Epoch 18/20\n",
      "355/355 [==============================] - ETA: 0s - loss: 0.1551 - accuracy: 0.9490\n",
      "Epoch 00018: val_loss improved from 0.44590 to 0.42735, saving model to /home/aiffel/aiffel/speech_recognition/models/wav\n",
      "355/355 [==============================] - 29s 81ms/step - loss: 0.1551 - accuracy: 0.9490 - val_loss: 0.4274 - val_accuracy: 0.8868\n",
      "Epoch 19/20\n",
      "355/355 [==============================] - ETA: 0s - loss: 0.1436 - accuracy: 0.9531\n",
      "Epoch 00019: val_loss did not improve from 0.42735\n",
      "355/355 [==============================] - 28s 80ms/step - loss: 0.1436 - accuracy: 0.9531 - val_loss: 0.4920 - val_accuracy: 0.8690\n",
      "Epoch 20/20\n",
      "355/355 [==============================] - ETA: 0s - loss: 0.1290 - accuracy: 0.9579\n",
      "Epoch 00020: val_loss did not improve from 0.42735\n",
      "355/355 [==============================] - 28s 80ms/step - loss: 0.1290 - accuracy: 0.9579 - val_loss: 0.4796 - val_accuracy: 0.8814\n",
      "✅\n"
     ]
    }
   ],
   "source": [
    "#30분 내외 소요\n",
    "history_wav = model_wav.fit(train_dataset, epochs=max_epochs,\n",
    "                    steps_per_epoch=len(train_wav) // batch_size,\n",
    "                    validation_data=test_dataset,\n",
    "                    validation_steps=len(test_wav) // batch_size,\n",
    "                    callbacks=[cp_callback]\n",
    "                    )\n",
    "print(\"✅\")"
   ]
  },
  {
   "cell_type": "code",
   "execution_count": 65,
   "metadata": {},
   "outputs": [
    {
     "data": {
      "image/png": "[encoded data removed]",
      "text/plain": [
       "<Figure size 576x576 with 2 Axes>"
      ]
     },
     "metadata": {
      "needs_background": "light"
     },
     "output_type": "display_data"
    },
    {
     "name": "stdout",
     "output_type": "stream",
     "text": [
      "✅\n"
     ]
    }
   ],
   "source": [
    "import matplotlib.pyplot as plt\n",
    "\n",
    "acc = history_wav.history['accuracy']\n",
    "val_acc = history_wav.history['val_accuracy']\n",
    "\n",
    "loss=history_wav.history['loss']\n",
    "val_loss=history_wav.history['val_loss']\n",
    "\n",
    "epochs_range = range(len(acc))\n",
    "\n",
    "plt.figure(figsize=(8, 8))\n",
    "plt.subplot(1, 2, 1)\n",
    "plt.plot(epochs_range, acc, label='Training Accuracy')\n",
    "plt.plot(epochs_range, val_acc, label='Validation Accuracy')\n",
    "plt.legend(loc='lower right')\n",
    "plt.title('Training and Validation Accuracy')\n",
    "\n",
    "plt.subplot(1, 2, 2)\n",
    "plt.plot(epochs_range, loss, label='Training Loss')\n",
    "plt.plot(epochs_range, val_loss, label='Validation Loss')\n",
    "plt.legend(loc='upper right')\n",
    "plt.title('Training and Validation Loss')\n",
    "plt.show()\n",
    "print(\"✅\")"
   ]
  },
  {
   "cell_type": "code",
   "execution_count": 66,
   "metadata": {},
   "outputs": [
    {
     "name": "stdout",
     "output_type": "stream",
     "text": [
      "✅\n"
     ]
    }
   ],
   "source": [
    "model_wav.load_weights(checkpoint_dir)\n",
    "print(\"✅\")"
   ]
  },
  {
   "cell_type": "code",
   "execution_count": 67,
   "metadata": {},
   "outputs": [
    {
     "name": "stdout",
     "output_type": "stream",
     "text": [
      "40/40 [==============================] - 5s 115ms/step - loss: 0.4285 - accuracy: 0.8864\n",
      "✅\n"
     ]
    }
   ],
   "source": [
    "results = model_wav.evaluate(test_dataset)\n",
    "print(\"✅\")"
   ]
  },
  {
   "cell_type": "code",
   "execution_count": 68,
   "metadata": {
    "scrolled": true
   },
   "outputs": [
    {
     "name": "stdout",
     "output_type": "stream",
     "text": [
      "loss value: 0.428\n",
      "accuracy value: 88.6409%\n",
      "✅\n"
     ]
    }
   ],
   "source": [
    "# loss\n",
    "print(\"loss value: {:.3f}\".format(results[0]))\n",
    "# accuracy\n",
    "print(\"accuracy value: {:.4f}%\".format(results[1]*100))\n",
    "print(\"✅\")"
   ]
  },
  {
   "cell_type": "code",
   "execution_count": 69,
   "metadata": {},
   "outputs": [
    {
     "name": "stdout",
     "output_type": "stream",
     "text": [
      "label :  on\n"
     ]
    },
    {
     "data": {
      "text/html": [
       "\n",
       "                <audio  controls=\"controls\" >\n",
       "                    <source src=\"data:audio/wav;base64,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\" type=\"audio/wav\" />\n",
       "                    Your browser does not support the audio element.\n",
       "                </audio>\n",
       "              "
      ],
      "text/plain": [
       "<IPython.lib.display.Audio object>"
      ]
     },
     "execution_count": 69,
     "metadata": {},
     "output_type": "execute_result"
    }
   ],
   "source": [
    "inv_label_value = {v: k for k, v in label_value.items()}\n",
    "batch_index = np.random.choice(len(test_wav), size=1, replace=False)\n",
    "\n",
    "batch_xs = test_wav[batch_index]\n",
    "batch_ys = test_label[batch_index]\n",
    "y_pred_ = model_wav(batch_xs, training=False)\n",
    "\n",
    "print(\"label : \", str(inv_label_value[batch_ys[0]]))\n",
    "\n",
    "ipd.Audio(batch_xs.reshape(8000,), rate=8000)"
   ]
  },
  {
   "cell_type": "code",
   "execution_count": 70,
   "metadata": {},
   "outputs": [
    {
     "name": "stdout",
     "output_type": "stream",
     "text": [
      "y_pred: unknown\n",
      "✅\n"
     ]
    }
   ],
   "source": [
    "if np.argmax(y_pred_) == test_label[i]:\n",
    "    print(\"y_pred: \" + str(inv_label_value[np.argmax(y_pred_)]))\n",
    "else:\n",
    "    print(\"y_pred: \" + str(inv_label_value[np.argmax(y_pred_)]))\n",
    "print(\"✅\")"
   ]
  },
  {
   "cell_type": "code",
   "execution_count": 71,
   "metadata": {},
   "outputs": [
    {
     "name": "stdout",
     "output_type": "stream",
     "text": [
      "Model: \"functional_3\"\n",
      "__________________________________________________________________________________________________\n",
      "Layer (type)                    Output Shape         Param #     Connected to                     \n",
      "==================================================================================================\n",
      "input_18 (InputLayer)           [(None, 40, 40, 5)]  0                                            \n",
      "__________________________________________________________________________________________________\n",
      "conv2d_113 (Conv2D)             (None, 40, 40, 32)   12992       input_18[0][0]                   \n",
      "__________________________________________________________________________________________________\n",
      "conv2d_114 (Conv2D)             (None, 40, 40, 32)   82976       conv2d_113[0][0]                 \n",
      "__________________________________________________________________________________________________\n",
      "max_pooling2d_47 (MaxPooling2D) (None, 20, 20, 32)   0           conv2d_114[0][0]                 \n",
      "__________________________________________________________________________________________________\n",
      "conv2d_115 (Conv2D)             (None, 20, 20, 64)   165952      max_pooling2d_47[0][0]           \n",
      "__________________________________________________________________________________________________\n",
      "conv2d_116 (Conv2D)             (None, 20, 20, 64)   331840      conv2d_115[0][0]                 \n",
      "__________________________________________________________________________________________________\n",
      "tf_op_layer_concat (TensorFlowO [(None, 20, 20, 96)] 0           conv2d_116[0][0]                 \n",
      "                                                                 max_pooling2d_47[0][0]           \n",
      "__________________________________________________________________________________________________\n",
      "max_pooling2d_48 (MaxPooling2D) (None, 10, 10, 96)   0           tf_op_layer_concat[0][0]         \n",
      "__________________________________________________________________________________________________\n",
      "conv2d_117 (Conv2D)             (None, 10, 10, 128)  995456      max_pooling2d_48[0][0]           \n",
      "__________________________________________________________________________________________________\n",
      "conv2d_118 (Conv2D)             (None, 10, 10, 128)  1327232     conv2d_117[0][0]                 \n",
      "__________________________________________________________________________________________________\n",
      "conv2d_119 (Conv2D)             (None, 10, 10, 128)  1327232     conv2d_118[0][0]                 \n",
      "__________________________________________________________________________________________________\n",
      "tf_op_layer_concat_1 (TensorFlo [(None, 10, 10, 224) 0           conv2d_119[0][0]                 \n",
      "                                                                 max_pooling2d_48[0][0]           \n",
      "__________________________________________________________________________________________________\n",
      "max_pooling2d_49 (MaxPooling2D) (None, 5, 5, 224)    0           tf_op_layer_concat_1[0][0]       \n",
      "__________________________________________________________________________________________________\n",
      "conv2d_120 (Conv2D)             (None, 5, 5, 256)    4645120     max_pooling2d_49[0][0]           \n",
      "__________________________________________________________________________________________________\n",
      "conv2d_121 (Conv2D)             (None, 5, 5, 256)    5308672     conv2d_120[0][0]                 \n",
      "__________________________________________________________________________________________________\n",
      "conv2d_122 (Conv2D)             (None, 5, 5, 256)    5308672     conv2d_121[0][0]                 \n",
      "__________________________________________________________________________________________________\n",
      "tf_op_layer_concat_2 (TensorFlo [(None, 5, 5, 480)]  0           conv2d_122[0][0]                 \n",
      "                                                                 max_pooling2d_49[0][0]           \n",
      "__________________________________________________________________________________________________\n",
      "max_pooling2d_50 (MaxPooling2D) (None, 2, 2, 480)    0           tf_op_layer_concat_2[0][0]       \n",
      "__________________________________________________________________________________________________\n",
      "dropout_1 (Dropout)             (None, 2, 2, 480)    0           max_pooling2d_50[0][0]           \n",
      "__________________________________________________________________________________________________\n",
      "flatten_1 (Flatten)             (None, 1920)         0           dropout_1[0][0]                  \n",
      "__________________________________________________________________________________________________\n",
      "dense_2 (Dense)                 (None, 256)          491776      flatten_1[0][0]                  \n",
      "__________________________________________________________________________________________________\n",
      "batch_normalization_1 (BatchNor (None, 256)          1024        dense_2[0][0]                    \n",
      "__________________________________________________________________________________________________\n",
      "activation_1 (Activation)       (None, 256)          0           batch_normalization_1[0][0]      \n",
      "__________________________________________________________________________________________________\n",
      "dense_3 (Dense)                 (None, 12)           3084        activation_1[0][0]               \n",
      "==================================================================================================\n",
      "Total params: 20,002,028\n",
      "Trainable params: 20,001,516\n",
      "Non-trainable params: 512\n",
      "__________________________________________________________________________________________________\n"
     ]
    }
   ],
   "source": [
    "input_tensor = layers.Input(shape=(40,40,sr))\n",
    "\n",
    "x = layers.Conv2D(32, 9, padding='same', activation='relu')(input_tensor)\n",
    "x = layers.Conv2D(32, 9, padding='same', activation='relu')(x)\n",
    "skip_1 = layers.MaxPool2D()(x)\n",
    "\n",
    "x = layers.Conv2D(64, 9, padding='same', activation='relu')(skip_1)\n",
    "x = layers.Conv2D(64, 9, padding='same', activation='relu')(x)\n",
    "x = tf.concat([x, skip_1], -1)\n",
    "skip_2 = layers.MaxPool2D()(x)\n",
    "\n",
    "x = layers.Conv2D(128, 9, padding='same', activation='relu')(skip_2)\n",
    "x = layers.Conv2D(128, 9, padding='same', activation='relu')(x)\n",
    "x = layers.Conv2D(128, 9, padding='same', activation='relu')(x)\n",
    "x = tf.concat([x, skip_2], -1)\n",
    "skip_3 = layers.MaxPool2D()(x)\n",
    "\n",
    "x = layers.Conv2D(256, 9, padding='same', activation='relu')(skip_3)\n",
    "x = layers.Conv2D(256, 9, padding='same', activation='relu')(x)\n",
    "x = layers.Conv2D(256, 9, padding='same', activation='relu')(x)\n",
    "x = tf.concat([x, skip_3], -1)\n",
    "x = layers.MaxPool2D()(x)\n",
    "x = layers.Dropout(0.5)(x)\n",
    "\n",
    "x = layers.Flatten()(x)\n",
    "x = layers.Dense(256)(x)\n",
    "x = layers.BatchNormalization()(x)\n",
    "x = layers.Activation('relu')(x)\n",
    "\n",
    "output_tensor = layers.Dense(12)(x)\n",
    "\n",
    "model_wav_skip = tf.keras.Model(input_tensor, output_tensor)\n",
    "\n",
    "model_wav_skip.summary()"
   ]
  },
  {
   "cell_type": "code",
   "execution_count": 72,
   "metadata": {},
   "outputs": [
    {
     "name": "stdout",
     "output_type": "stream",
     "text": [
      "✅\n"
     ]
    }
   ],
   "source": [
    "optimizer=tf.keras.optimizers.Adam(1e-4)\n",
    "model_wav_skip.compile(loss=tf.keras.losses.CategoricalCrossentropy(from_logits=True),\n",
    "             optimizer=optimizer,\n",
    "             metrics=['accuracy'])\n",
    "print(\"✅\")"
   ]
  },
  {
   "cell_type": "code",
   "execution_count": 73,
   "metadata": {},
   "outputs": [
    {
     "name": "stdout",
     "output_type": "stream",
     "text": [
      "✅\n"
     ]
    }
   ],
   "source": [
    "# the save point\n",
    "checkpoint_dir = os.getenv('HOME')+'/aiffel/speech_recognition/models/wav_skip'\n",
    "\n",
    "cp_callback = tf.keras.callbacks.ModelCheckpoint(checkpoint_dir,\n",
    "                                                 save_weights_only=True,\n",
    "                                                 monitor='val_loss',\n",
    "                                                 mode='auto',\n",
    "                                                 save_best_only=True,\n",
    "                                                 verbose=1)\n",
    "print(\"✅\")"
   ]
  },
  {
   "cell_type": "code",
   "execution_count": 74,
   "metadata": {},
   "outputs": [
    {
     "name": "stdout",
     "output_type": "stream",
     "text": [
      "Epoch 1/20\n",
      "  2/355 [..............................] - ETA: 22s - loss: 2.6882 - accuracy: 0.0664WARNING:tensorflow:Callbacks method `on_train_batch_end` is slow compared to the batch time (batch time: 0.0389s vs `on_train_batch_end` time: 0.0708s). Check your callbacks.\n",
      "355/355 [==============================] - ETA: 0s - loss: 2.0318 - accuracy: 0.2750\n",
      "Epoch 00001: val_loss improved from inf to 1.96505, saving model to /home/aiffel/aiffel/speech_recognition/models/wav_skip\n",
      "355/355 [==============================] - 32s 89ms/step - loss: 2.0318 - accuracy: 0.2750 - val_loss: 1.9651 - val_accuracy: 0.4241\n",
      "Epoch 2/20\n",
      "355/355 [==============================] - ETA: 0s - loss: 1.3164 - accuracy: 0.5333\n",
      "Epoch 00002: val_loss improved from 1.96505 to 1.15813, saving model to /home/aiffel/aiffel/speech_recognition/models/wav_skip\n",
      "355/355 [==============================] - 32s 90ms/step - loss: 1.3164 - accuracy: 0.5333 - val_loss: 1.1581 - val_accuracy: 0.5982\n",
      "Epoch 3/20\n",
      "355/355 [==============================] - ETA: 0s - loss: 0.9567 - accuracy: 0.6690\n",
      "Epoch 00003: val_loss improved from 1.15813 to 0.90189, saving model to /home/aiffel/aiffel/speech_recognition/models/wav_skip\n",
      "355/355 [==============================] - 32s 90ms/step - loss: 0.9567 - accuracy: 0.6690 - val_loss: 0.9019 - val_accuracy: 0.6947\n",
      "Epoch 4/20\n",
      "355/355 [==============================] - ETA: 0s - loss: 0.7409 - accuracy: 0.7485\n",
      "Epoch 00004: val_loss improved from 0.90189 to 0.82795, saving model to /home/aiffel/aiffel/speech_recognition/models/wav_skip\n",
      "355/355 [==============================] - 31s 87ms/step - loss: 0.7409 - accuracy: 0.7485 - val_loss: 0.8280 - val_accuracy: 0.7270\n",
      "Epoch 5/20\n",
      "355/355 [==============================] - ETA: 0s - loss: 0.5887 - accuracy: 0.8030\n",
      "Epoch 00005: val_loss improved from 0.82795 to 0.67059, saving model to /home/aiffel/aiffel/speech_recognition/models/wav_skip\n",
      "355/355 [==============================] - 30s 83ms/step - loss: 0.5887 - accuracy: 0.8030 - val_loss: 0.6706 - val_accuracy: 0.7790\n",
      "Epoch 6/20\n",
      "355/355 [==============================] - ETA: 0s - loss: 0.4789 - accuracy: 0.8400\n",
      "Epoch 00006: val_loss improved from 0.67059 to 0.64701, saving model to /home/aiffel/aiffel/speech_recognition/models/wav_skip\n",
      "355/355 [==============================] - 30s 83ms/step - loss: 0.4789 - accuracy: 0.8400 - val_loss: 0.6470 - val_accuracy: 0.7961\n",
      "Epoch 7/20\n",
      "355/355 [==============================] - ETA: 0s - loss: 0.3972 - accuracy: 0.8687\n",
      "Epoch 00007: val_loss did not improve from 0.64701\n",
      "355/355 [==============================] - 31s 87ms/step - loss: 0.3972 - accuracy: 0.8687 - val_loss: 0.6660 - val_accuracy: 0.7957\n",
      "Epoch 8/20\n",
      "355/355 [==============================] - ETA: 0s - loss: 0.3359 - accuracy: 0.8889\n",
      "Epoch 00008: val_loss did not improve from 0.64701\n",
      "355/355 [==============================] - 29s 81ms/step - loss: 0.3359 - accuracy: 0.8889 - val_loss: 0.7199 - val_accuracy: 0.7897\n",
      "Epoch 9/20\n",
      "355/355 [==============================] - ETA: 0s - loss: 0.2884 - accuracy: 0.9037\n",
      "Epoch 00009: val_loss improved from 0.64701 to 0.59259, saving model to /home/aiffel/aiffel/speech_recognition/models/wav_skip\n",
      "355/355 [==============================] - 29s 82ms/step - loss: 0.2884 - accuracy: 0.9037 - val_loss: 0.5926 - val_accuracy: 0.8287\n",
      "Epoch 10/20\n",
      "355/355 [==============================] - ETA: 0s - loss: 0.2483 - accuracy: 0.9184\n",
      "Epoch 00010: val_loss improved from 0.59259 to 0.56028, saving model to /home/aiffel/aiffel/speech_recognition/models/wav_skip\n",
      "355/355 [==============================] - 29s 82ms/step - loss: 0.2483 - accuracy: 0.9184 - val_loss: 0.5603 - val_accuracy: 0.8361\n",
      "Epoch 11/20\n",
      "355/355 [==============================] - ETA: 0s - loss: 0.2170 - accuracy: 0.9290\n",
      "Epoch 00011: val_loss improved from 0.56028 to 0.51234, saving model to /home/aiffel/aiffel/speech_recognition/models/wav_skip\n",
      "355/355 [==============================] - 29s 82ms/step - loss: 0.2170 - accuracy: 0.9290 - val_loss: 0.5123 - val_accuracy: 0.8446\n",
      "Epoch 12/20\n",
      "355/355 [==============================] - ETA: 0s - loss: 0.1904 - accuracy: 0.9379\n",
      "Epoch 00012: val_loss improved from 0.51234 to 0.42878, saving model to /home/aiffel/aiffel/speech_recognition/models/wav_skip\n",
      "355/355 [==============================] - 29s 82ms/step - loss: 0.1904 - accuracy: 0.9379 - val_loss: 0.4288 - val_accuracy: 0.8744\n",
      "Epoch 13/20\n",
      "355/355 [==============================] - ETA: 0s - loss: 0.1614 - accuracy: 0.9475\n",
      "Epoch 00013: val_loss did not improve from 0.42878\n",
      "355/355 [==============================] - 29s 80ms/step - loss: 0.1614 - accuracy: 0.9475 - val_loss: 0.5036 - val_accuracy: 0.8594\n",
      "Epoch 14/20\n",
      "355/355 [==============================] - ETA: 0s - loss: 0.1521 - accuracy: 0.9498\n",
      "Epoch 00014: val_loss did not improve from 0.42878\n",
      "355/355 [==============================] - 29s 81ms/step - loss: 0.1521 - accuracy: 0.9498 - val_loss: 0.4325 - val_accuracy: 0.8750\n",
      "Epoch 15/20\n",
      "355/355 [==============================] - ETA: 0s - loss: 0.1474 - accuracy: 0.9524\n",
      "Epoch 00015: val_loss did not improve from 0.42878\n",
      "355/355 [==============================] - 29s 80ms/step - loss: 0.1474 - accuracy: 0.9524 - val_loss: 0.4843 - val_accuracy: 0.8732\n",
      "Epoch 16/20\n",
      "355/355 [==============================] - ETA: 0s - loss: 0.1323 - accuracy: 0.9568\n",
      "Epoch 00016: val_loss did not improve from 0.42878\n",
      "355/355 [==============================] - 29s 81ms/step - loss: 0.1323 - accuracy: 0.9568 - val_loss: 0.5720 - val_accuracy: 0.8506\n",
      "Epoch 17/20\n",
      "355/355 [==============================] - ETA: 0s - loss: 0.1196 - accuracy: 0.9604\n",
      "Epoch 00017: val_loss did not improve from 0.42878\n",
      "355/355 [==============================] - 29s 81ms/step - loss: 0.1196 - accuracy: 0.9604 - val_loss: 0.5924 - val_accuracy: 0.8564\n",
      "Epoch 18/20\n",
      "355/355 [==============================] - ETA: 0s - loss: 0.1163 - accuracy: 0.9616\n",
      "Epoch 00018: val_loss did not improve from 0.42878\n",
      "355/355 [==============================] - 29s 81ms/step - loss: 0.1163 - accuracy: 0.9616 - val_loss: 0.5320 - val_accuracy: 0.8688\n",
      "Epoch 19/20\n",
      "355/355 [==============================] - ETA: 0s - loss: 0.1065 - accuracy: 0.9646\n",
      "Epoch 00019: val_loss did not improve from 0.42878\n",
      "355/355 [==============================] - 28s 79ms/step - loss: 0.1065 - accuracy: 0.9646 - val_loss: 0.5066 - val_accuracy: 0.8698\n",
      "Epoch 20/20\n",
      "355/355 [==============================] - ETA: 0s - loss: 0.0993 - accuracy: 0.9671\n",
      "Epoch 00020: val_loss improved from 0.42878 to 0.42342, saving model to /home/aiffel/aiffel/speech_recognition/models/wav_skip\n",
      "355/355 [==============================] - 29s 80ms/step - loss: 0.0993 - accuracy: 0.9671 - val_loss: 0.4234 - val_accuracy: 0.8952\n",
      "✅\n"
     ]
    }
   ],
   "source": [
    "#30분 내외 소요\n",
    "history_wav_skip = model_wav_skip.fit(train_dataset, epochs=max_epochs,\n",
    "                    steps_per_epoch=len(train_wav) // batch_size,\n",
    "                    validation_data=test_dataset,\n",
    "                    validation_steps=len(test_wav) // batch_size,\n",
    "                    callbacks=[cp_callback]\n",
    "                    )\n",
    "print(\"✅\")"
   ]
  },
  {
   "cell_type": "code",
   "execution_count": 75,
   "metadata": {},
   "outputs": [
    {
     "data": {
      "image/png": "[encoded data removed]",
      "text/plain": [
       "<Figure size 576x576 with 2 Axes>"
      ]
     },
     "metadata": {
      "needs_background": "light"
     },
     "output_type": "display_data"
    },
    {
     "name": "stdout",
     "output_type": "stream",
     "text": [
      "✅\n"
     ]
    }
   ],
   "source": [
    "import matplotlib.pyplot as plt\n",
    "\n",
    "acc = history_wav_skip.history['accuracy']\n",
    "val_acc = history_wav_skip.history['val_accuracy']\n",
    "\n",
    "loss=history_wav_skip.history['loss']\n",
    "val_loss=history_wav_skip.history['val_loss']\n",
    "\n",
    "epochs_range = range(len(acc))\n",
    "\n",
    "plt.figure(figsize=(8, 8))\n",
    "plt.subplot(1, 2, 1)\n",
    "plt.plot(epochs_range, acc, label='Training Accuracy')\n",
    "plt.plot(epochs_range, val_acc, label='Validation Accuracy')\n",
    "plt.legend(loc='lower right')\n",
    "plt.title('Training and Validation Accuracy')\n",
    "\n",
    "plt.subplot(1, 2, 2)\n",
    "plt.plot(epochs_range, loss, label='Training Loss')\n",
    "plt.plot(epochs_range, val_loss, label='Validation Loss')\n",
    "plt.legend(loc='upper right')\n",
    "plt.title('Training and Validation Loss')\n",
    "plt.show()\n",
    "print(\"✅\")"
   ]
  },
  {
   "cell_type": "code",
   "execution_count": 76,
   "metadata": {},
   "outputs": [
    {
     "name": "stdout",
     "output_type": "stream",
     "text": [
      "40/40 [==============================] - 2s 45ms/step - loss: 0.4270 - accuracy: 0.8937\n",
      "loss value: 0.427\n",
      "accuracy value: 89.3718%\n",
      "✅\n"
     ]
    }
   ],
   "source": [
    "# Evaluation \n",
    "\n",
    "model_wav_skip.load_weights(checkpoint_dir)\n",
    "results = model_wav_skip.evaluate(test_dataset)\n",
    "\n",
    "# loss\n",
    "print(\"loss value: {:.3f}\".format(results[0]))\n",
    "# accuracy\n",
    "print(\"accuracy value: {:.4f}%\".format(results[1]*100))\n",
    "print(\"✅\")"
   ]
  },
  {
   "cell_type": "code",
   "execution_count": 77,
   "metadata": {},
   "outputs": [
    {
     "name": "stdout",
     "output_type": "stream",
     "text": [
      "label :  unknown\n"
     ]
    },
    {
     "data": {
      "text/html": [
       "\n",
       "                <audio  controls=\"controls\" >\n",
       "                    <source src=\"data:audio/wav;base64,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\" type=\"audio/wav\" />\n",
       "                    Your browser does not support the audio element.\n",
       "                </audio>\n",
       "              "
      ],
      "text/plain": [
       "<IPython.lib.display.Audio object>"
      ]
     },
     "execution_count": 77,
     "metadata": {},
     "output_type": "execute_result"
    }
   ],
   "source": [
    "# Test \n",
    "\n",
    "inv_label_value = {v: k for k, v in label_value.items()}\n",
    "batch_index = np.random.choice(len(test_wav), size=1, replace=False)\n",
    "\n",
    "batch_xs = test_wav[batch_index]\n",
    "batch_ys = test_label[batch_index]\n",
    "y_pred_ = model_wav_skip(batch_xs, training=False)\n",
    "\n",
    "print(\"label : \", str(inv_label_value[batch_ys[0]]))\n",
    "\n",
    "ipd.Audio(batch_xs.reshape(8000,), rate=8000)"
   ]
  },
  {
   "cell_type": "code",
   "execution_count": 78,
   "metadata": {},
   "outputs": [
    {
     "name": "stdout",
     "output_type": "stream",
     "text": [
      "y_pred: down\n",
      "✅\n"
     ]
    }
   ],
   "source": [
    "if np.argmax(y_pred_) == test_label[i]:\n",
    "    print(\"y_pred: \" + str(inv_label_value[np.argmax(y_pred_)]))\n",
    "else:\n",
    "    print(\"y_pred: \" + str(inv_label_value[np.argmax(y_pred_)]))\n",
    "print(\"✅\")"
   ]
  },
  {
   "cell_type": "markdown",
   "metadata": {},
   "source": [
    "```\n",
    "$ pip install librosa\n",
    "```"
   ]
  },
  {
   "cell_type": "code",
   "execution_count": 79,
   "metadata": {},
   "outputs": [
    {
     "name": "stdout",
     "output_type": "stream",
     "text": [
      "✅\n"
     ]
    }
   ],
   "source": [
    "import librosa\n",
    "\n",
    "def wav2spec(wav, fft_size=258): # spectrogram shape을 맞추기위해서 size 변형\n",
    "    D = np.abs(librosa.stft(wav, n_fft=fft_size))\n",
    "    return D\n",
    "print(\"✅\")"
   ]
  },
  {
   "cell_type": "code",
   "execution_count": 80,
   "metadata": {},
   "outputs": [
    {
     "name": "stdout",
     "output_type": "stream",
     "text": [
      "Waveform shape :  (8000,)\n",
      "Spectrogram shape :  (130, 126)\n"
     ]
    }
   ],
   "source": [
    "# 위에서 뽑았던 sample data\n",
    "spec = wav2spec(data)\n",
    "print(\"Waveform shape : \",data.shape)\n",
    "print(\"Spectrogram shape : \",spec.shape)"
   ]
  },
  {
   "cell_type": "code",
   "execution_count": 81,
   "metadata": {
    "scrolled": true
   },
   "outputs": [
    {
     "data": {
      "image/png": "[encoded data removed]",
      "text/plain": [
       "<Figure size 432x288 with 2 Axes>"
      ]
     },
     "metadata": {
      "needs_background": "light"
     },
     "output_type": "display_data"
    }
   ],
   "source": [
    "import librosa.display\n",
    "\n",
    "librosa.display.specshow(librosa.amplitude_to_db(spec, ref=np.max), x_axis='time')\n",
    "plt.title('Power spectrogram')\n",
    "plt.colorbar(format='%+2.0f dB')\n",
    "plt.xticks(range(0, 1))\n",
    "plt.tight_layout()\n",
    "plt.show()"
   ]
  },
  {
   "cell_type": "markdown",
   "metadata": {},
   "source": [
    "### Image를 학습시키듯, Audio를 학습시키면 어떻게 될까. 비교해본 실험.\n",
    "\n",
    "#### 1. Model 의 입력 데이터 shape을 (8000,1) -> (40,40,5) 로 변경\n",
    "#### 2. Conv1D -> Conv2D, Maxpool1D-> Maxpool2D로 변경\n",
    "#### 3. Dropout 0.3->0.5 로 변경\n",
    "#### 하여 실험해본 결과, 기존의 것 보다 Accuracy가 더 줄어들었다.....\n",
    "#### Audio에서는 2D 로 학습하는게 좋은 결과를 불러오진 못하는것같다.\n"
   ]
  },
  {
   "cell_type": "code",
   "execution_count": null,
   "metadata": {},
   "outputs": [],
   "source": []
  },
  {
   "cell_type": "code",
   "execution_count": null,
   "metadata": {},
   "outputs": [],
   "source": []
  },
  {
   "cell_type": "code",
   "execution_count": null,
   "metadata": {},
   "outputs": [],
   "source": []
  },
  {
   "cell_type": "code",
   "execution_count": null,
   "metadata": {},
   "outputs": [],
   "source": []
  },
  {
   "cell_type": "code",
   "execution_count": null,
   "metadata": {},
   "outputs": [],
   "source": []
  },
  {
   "cell_type": "code",
   "execution_count": null,
   "metadata": {},
   "outputs": [],
   "source": []
  },
  {
   "cell_type": "code",
   "execution_count": null,
   "metadata": {},
   "outputs": [],
   "source": []
  },
  {
   "cell_type": "code",
   "execution_count": null,
   "metadata": {},
   "outputs": [],
   "source": []
  },
  {
   "cell_type": "code",
   "execution_count": null,
   "metadata": {},
   "outputs": [],
   "source": []
  },
  {
   "cell_type": "code",
   "execution_count": null,
   "metadata": {},
   "outputs": [],
   "source": []
  },
  {
   "cell_type": "code",
   "execution_count": null,
   "metadata": {},
   "outputs": [],
   "source": []
  }
 ],
 "metadata": {
  "kernelspec": {
   "display_name": "Python 3",
   "language": "python",
   "name": "python3"
  },
  "language_info": {
   "codemirror_mode": {
    "name": "ipython",
    "version": 3
   },
   "file_extension": ".py",
   "mimetype": "text/x-python",
   "name": "python",
   "nbconvert_exporter": "python",
   "pygments_lexer": "ipython3",
   "version": "3.7.6"
  }
 },
 "nbformat": 4,
 "nbformat_minor": 4
}
