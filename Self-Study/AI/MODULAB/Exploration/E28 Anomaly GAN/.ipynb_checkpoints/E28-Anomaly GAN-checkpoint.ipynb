{
 "cells": [
  {
   "cell_type": "code",
   "execution_count": 1,
   "metadata": {},
   "outputs": [],
   "source": [
    "import tensorflow as tf\n",
    "\n",
    "from sklearn.metrics import roc_curve, auc, accuracy_score, confusion_matrix, precision_recall_curve, average_precision_score\n",
    "from scipy.interpolate import interp1d\n",
    "from inspect import signature\n",
    "from scipy.optimize import brentq\n",
    "\n",
    "import glob\n",
    "import imageio\n",
    "import matplotlib.pyplot as plt\n",
    "import numpy as np\n",
    "import os\n",
    "\n",
    "import PIL\n",
    "from tensorflow.keras import layers\n",
    "import time\n",
    "from scipy.stats import norm\n",
    "\n",
    "from IPython import display"
   ]
  },
  {
   "cell_type": "code",
   "execution_count": 2,
   "metadata": {},
   "outputs": [
    {
     "name": "stdout",
     "output_type": "stream",
     "text": [
      "(60000, 32, 32, 1)\n",
      "(10000, 32, 32, 1)\n"
     ]
    }
   ],
   "source": [
    "(train_data, train_labels), (test_data, test_labels) = tf.keras.datasets.fashion_mnist.load_data()\n",
    "\n",
    "train_data = (train_data - 127.5) / 127.5\n",
    "test_data = (test_data - 127.5) / 127.5\n",
    "\n",
    "from PIL import Image\n",
    "\n",
    "# Fashion MNIST padding to 32 X 32\n",
    "train_data_32 = np.zeros((train_data.shape[0], 32, 32)).astype('float32')\n",
    "test_data_32 = np.zeros((test_data.shape[0], 32, 32)).astype('float32')     \n",
    "train_data_32[:, 2:30, 2:30] = train_data\n",
    "test_data_32[:, 2:30, 2:30] = test_data\n",
    "\n",
    "# 1channel data reshape\n",
    "train_data = train_data_32.reshape(train_data_32.shape[0], 32, 32, 1).astype('float32')\n",
    "test_data = test_data_32.reshape(test_data_32.shape[0], 32, 32, 1).astype('float32')\n",
    "\n",
    "print(train_data.shape)\n",
    "print(test_data.shape)"
   ]
  },
  {
   "cell_type": "code",
   "execution_count": 3,
   "metadata": {},
   "outputs": [
    {
     "data": {
      "image/png": "[encoded data removed]",
      "text/plain": [
       "<Figure size 720x360 with 10 Axes>"
      ]
     },
     "metadata": {
      "needs_background": "light"
     },
     "output_type": "display_data"
    }
   ],
   "source": [
    "plt.figure(figsize=(10, 5))\n",
    "\n",
    "for i in range(10):\n",
    "    plt.subplot(2, 5, i+1)\n",
    "    plt.imshow(train_data[i].reshape(32, 32), cmap='gray')\n",
    "    plt.title(f'index: {i}')\n",
    "    plt.axis('off')\n",
    "plt.show()"
   ]
  },
  {
   "cell_type": "code",
   "execution_count": 4,
   "metadata": {},
   "outputs": [],
   "source": [
    "def set_labels(labels):\n",
    "    new_t_labels = []\n",
    "    for old_label in labels:\n",
    "        if old_label == 8:   # Bag:8\n",
    "            new_t_labels.append([0])  # Bag을 이상치로 처리\n",
    "        else:\n",
    "            new_t_labels.append([1])  # 그 외의 경우는 정상치\n",
    "             \n",
    "    return np.array(new_t_labels)"
   ]
  },
  {
   "cell_type": "code",
   "execution_count": 5,
   "metadata": {},
   "outputs": [],
   "source": [
    "bol_train_labels = set_labels(train_labels)\n",
    "bol_test_labels = set_labels(test_labels)"
   ]
  },
  {
   "cell_type": "code",
   "execution_count": 6,
   "metadata": {},
   "outputs": [],
   "source": [
    "normal_data = []\n",
    "normal_labels = []\n",
    "anomaly_data = []\n",
    "anomaly_labels = []\n",
    "for data, label in zip(train_data, bol_train_labels):\n",
    "    if label == 0:\n",
    "        anomaly_data.append(data)\n",
    "        anomaly_labels.append(label)\n",
    "    else:\n",
    "        normal_data.append(data)\n",
    "        normal_labels.append(label)\n",
    "        \n",
    "normal_data = np.array(normal_data)\n",
    "normal_labels = np.array(normal_labels)\n",
    "anomaly_data = np.array(anomaly_data)\n",
    "anomaly_labels = np.array(anomaly_labels)"
   ]
  },
  {
   "cell_type": "code",
   "execution_count": 7,
   "metadata": {},
   "outputs": [
    {
     "name": "stdout",
     "output_type": "stream",
     "text": [
      "(54000, 32, 32, 1) (54000, 1)\n",
      "(6000, 32, 32, 1) (6000, 1)\n"
     ]
    }
   ],
   "source": [
    "print(normal_data.shape, normal_labels.shape)\n",
    "print(anomaly_data.shape, anomaly_labels.shape)"
   ]
  },
  {
   "cell_type": "code",
   "execution_count": 8,
   "metadata": {},
   "outputs": [],
   "source": [
    "train_data = normal_data\n",
    "bol_train_labels = normal_labels\n",
    "test_data = tf.concat([test_data, anomaly_data], 0)\n",
    "bol_test_labels = tf.concat([bol_test_labels, anomaly_labels], 0)"
   ]
  },
  {
   "cell_type": "code",
   "execution_count": 9,
   "metadata": {},
   "outputs": [
    {
     "name": "stdout",
     "output_type": "stream",
     "text": [
      "(54000, 32, 32, 1)\n",
      "(16000, 32, 32, 1)\n"
     ]
    }
   ],
   "source": [
    "print(train_data.shape)\n",
    "print(test_data.shape)"
   ]
  },
  {
   "cell_type": "code",
   "execution_count": 10,
   "metadata": {},
   "outputs": [
    {
     "name": "stdout",
     "output_type": "stream",
     "text": [
      "(54000, 1)\n",
      "(16000, 1)\n"
     ]
    }
   ],
   "source": [
    "print(bol_train_labels.shape)\n",
    "print(bol_test_labels.shape)"
   ]
  },
  {
   "cell_type": "code",
   "execution_count": 11,
   "metadata": {},
   "outputs": [
    {
     "name": "stdout",
     "output_type": "stream",
     "text": [
      "Done\n"
     ]
    }
   ],
   "source": [
    "for label in bol_train_labels:\n",
    "    if label == 0:\n",
    "        print(label)\n",
    "print(\"Done\")"
   ]
  },
  {
   "cell_type": "code",
   "execution_count": 12,
   "metadata": {},
   "outputs": [],
   "source": [
    "BUFFER_SIZE = 10000\n",
    "BATCH_SIZE = 8\n",
    "\n",
    "train_dataset = tf.data.Dataset.from_tensor_slices((train_data, bol_train_labels))\n",
    "train_dataset = train_dataset.shuffle(BUFFER_SIZE).batch(BATCH_SIZE)\n",
    "\n",
    "test_dataset = tf.data.Dataset.from_tensor_slices((test_data, bol_test_labels))\n",
    "test_dataset = test_dataset.shuffle(BUFFER_SIZE).batch(BATCH_SIZE)"
   ]
  },
  {
   "cell_type": "code",
   "execution_count": 13,
   "metadata": {},
   "outputs": [
    {
     "name": "stdout",
     "output_type": "stream",
     "text": [
      "tf.Tensor(\n",
      "[[1]\n",
      " [1]\n",
      " [1]\n",
      " [1]\n",
      " [1]\n",
      " [1]\n",
      " [1]\n",
      " [1]], shape=(8, 1), dtype=int64)\n"
     ]
    }
   ],
   "source": [
    "for data, label in train_dataset.take(1):\n",
    "    print(label)"
   ]
  },
  {
   "cell_type": "code",
   "execution_count": 14,
   "metadata": {},
   "outputs": [
    {
     "name": "stdout",
     "output_type": "stream",
     "text": [
      "tf.Tensor(\n",
      "[[1]\n",
      " [1]\n",
      " [1]\n",
      " [1]\n",
      " [0]\n",
      " [1]\n",
      " [0]\n",
      " [1]], shape=(8, 1), dtype=int64)\n"
     ]
    }
   ],
   "source": [
    "for data, label in test_dataset.take(1):\n",
    "    print(label)"
   ]
  },
  {
   "cell_type": "code",
   "execution_count": 15,
   "metadata": {},
   "outputs": [],
   "source": [
    "class Conv_block(tf.keras.Model):\n",
    "    def __init__(self, num_filters):\n",
    "        super(Conv_block, self).__init__()\n",
    "        self.conv_layer = tf.keras.Sequential([\n",
    "            layers.Conv2D(num_filters, 3, strides=2, padding='same', use_bias=False,\n",
    "                          kernel_initializer=tf.random_normal_initializer(0., 0.02)),\n",
    "            layers.BatchNormalization(),\n",
    "            layers.LeakyReLU(0.2),\n",
    "        ])\n",
    "        \n",
    "    def call(self, inputs, training=False):\n",
    "        outputs = self.conv_layer(inputs)\n",
    "        \n",
    "        return outputs"
   ]
  },
  {
   "cell_type": "code",
   "execution_count": 16,
   "metadata": {},
   "outputs": [],
   "source": [
    "class Conv_T_block(tf.keras.Model):\n",
    "    def __init__(self, num_filters):\n",
    "        super(Conv_T_block, self).__init__()\n",
    "        self.conv_T_layer = tf.keras.Sequential([\n",
    "            layers.Conv2DTranspose(num_filters, 3, strides=2, padding='same', use_bias=False,\n",
    "                                   kernel_initializer=tf.random_normal_initializer(0., 0.02)),\n",
    "            layers.BatchNormalization(),\n",
    "            layers.ReLU(),\n",
    "        ])\n",
    "        \n",
    "    def call(self, inputs, concat, training=False):\n",
    "        upsample = self.conv_T_layer(inputs)\n",
    "        outputs = tf.concat([upsample, concat], -1)\n",
    "        \n",
    "        return outputs"
   ]
  },
  {
   "cell_type": "code",
   "execution_count": 17,
   "metadata": {},
   "outputs": [],
   "source": [
    "class Generator(tf.keras.Model):\n",
    "    def __init__(self, num_output_channel=3):\n",
    "        super(Generator, self).__init__()\n",
    "        self.encoder_1 = Conv_block(64) # 16\n",
    "        self.encoder_2 = Conv_block(128) # 8\n",
    "        self.encoder_3 = Conv_block(256) # 4\n",
    "        self.encoder_4 = Conv_block(512) # 2\n",
    "        \n",
    "        self.center = Conv_block(512) # 1\n",
    "        \n",
    "        self.decoder_4 = Conv_T_block(512) # 2\n",
    "        self.decoder_3 = Conv_T_block(256) # 4\n",
    "        self.decoder_2 = Conv_T_block(128) # 8\n",
    "        self.decoder_1 = Conv_T_block(64) # 16\n",
    "        \n",
    "        self.output_layer = layers.Conv2DTranspose(num_output_channel, 1, strides=2, padding='same', use_bias=False, # 32\n",
    "                                                   kernel_initializer=tf.random_normal_initializer(0., 0.02))\n",
    "                \n",
    "    def call(self, inputs, training=False):\n",
    "        en_1 = self.encoder_1(inputs) # gen\n",
    "        en_2 = self.encoder_2(en_1)\n",
    "        en_3 = self.encoder_3(en_2)\n",
    "        en_4 = self.encoder_4(en_3)\n",
    "        \n",
    "        center = self.center(en_4)\n",
    "        \n",
    "        de_4 = self.decoder_4(center, en_4)\n",
    "        de_3 = self.decoder_3(de_4, en_3)\n",
    "        de_2 = self.decoder_2(de_3, en_2)\n",
    "        de_1 = self.decoder_1(de_2, en_1)\n",
    "        \n",
    "        outputs = self.output_layer(de_1)\n",
    "        \n",
    "        return outputs"
   ]
  },
  {
   "cell_type": "code",
   "execution_count": 18,
   "metadata": {},
   "outputs": [],
   "source": [
    "class Discriminator(tf.keras.Model):\n",
    "    def __init__(self):\n",
    "        super(Discriminator, self).__init__()\n",
    "        self.encoder_1 = Conv_block(64) # 16\n",
    "        self.encoder_2 = Conv_block(128) # 8\n",
    "        self.encoder_3 = Conv_block(256) # 4\n",
    "        self.encoder_4 = Conv_block(512) # 2\n",
    "        \n",
    "        self.center = Conv_block(100) # 1\n",
    "        \n",
    "        self.outputs = layers.Conv2D(1, 3, strides=1, padding='same',\n",
    "                                          use_bias=False, activation='sigmoid')\n",
    "    \n",
    "    def call(self, inputs, training=False):\n",
    "        en_1 = self.encoder_1(inputs) # dis\n",
    "        en_2 = self.encoder_2(en_1)\n",
    "        en_3 = self.encoder_3(en_2)\n",
    "        en_4 = self.encoder_4(en_3)\n",
    "        \n",
    "        center = self.center(en_4)\n",
    "        \n",
    "        outputs = self.outputs(center)\n",
    "        \n",
    "        return outputs, center"
   ]
  },
  {
   "cell_type": "code",
   "execution_count": 19,
   "metadata": {},
   "outputs": [],
   "source": [
    "generator = Generator(num_output_channel=1)  # Generator가 32X32X1 짜리 이미지를 생성해야 합니다. \n",
    "discriminator = Discriminator()"
   ]
  },
  {
   "cell_type": "code",
   "execution_count": 20,
   "metadata": {},
   "outputs": [],
   "source": [
    "l2_loss = tf.keras.losses.MeanSquaredError()\n",
    "l1_loss = tf.keras.losses.MeanAbsoluteError()\n",
    "cross_entropy = tf.keras.losses.BinaryCrossentropy(from_logits=False)"
   ]
  },
  {
   "cell_type": "code",
   "execution_count": 21,
   "metadata": {},
   "outputs": [],
   "source": [
    "def discriminator_loss(pred_real, pred_fake):\n",
    "    real_loss = cross_entropy(tf.ones_like(pred_real), pred_real)\n",
    "    fake_loss = cross_entropy(tf.zeros_like(pred_fake), pred_fake)\n",
    "    \n",
    "    total_dis_loss = (real_loss + fake_loss) * 0.5\n",
    "    \n",
    "    return total_dis_loss"
   ]
  },
  {
   "cell_type": "code",
   "execution_count": 22,
   "metadata": {},
   "outputs": [],
   "source": [
    "def generator_loss(real_output, fake_output, input_data, gen_data, latent_first, latent_sec):\n",
    "    w_adv = 1.\n",
    "    w_context = 40.\n",
    "    w_encoder = 1.\n",
    "    \n",
    "    adv_loss = cross_entropy(real_output, fake_output)\n",
    "    context_loss = l1_loss(input_data, gen_data)\n",
    "    encoder_loss = l2_loss(latent_first, latent_sec)\n",
    "    \n",
    "    total_gen_loss = w_adv * adv_loss + \\\n",
    "                     w_context * context_loss + \\\n",
    "                     w_encoder * encoder_loss\n",
    "    \n",
    "    return total_gen_loss"
   ]
  },
  {
   "cell_type": "code",
   "execution_count": 23,
   "metadata": {},
   "outputs": [],
   "source": [
    "# Optimizer 설정\n",
    "generator_optimizer = tf.keras.optimizers.Adam(2e-3, 0.5)\n",
    "discriminator_optimizer = tf.keras.optimizers.Adam(2e-3, 0.5)"
   ]
  },
  {
   "cell_type": "code",
   "execution_count": 24,
   "metadata": {},
   "outputs": [],
   "source": [
    "def train_step(images):\n",
    "    with tf.GradientTape() as gen_tape, tf.GradientTape() as disc_tape:\n",
    "        generated_images = generator(images, training=True)\n",
    "        \n",
    "        pred_real, feat_real = discriminator(images, training=True)\n",
    "        pred_fake, feat_fake = discriminator(generated_images, training=True)\n",
    "\n",
    "        gen_loss = generator_loss(pred_real, pred_fake,\n",
    "                                  images, generated_images,\n",
    "                                  feat_real, feat_fake)\n",
    "\n",
    "        disc_loss = discriminator_loss(pred_real, pred_fake)        \n",
    "\n",
    "    gradients_of_generator = gen_tape.gradient(gen_loss, generator.trainable_variables)\n",
    "    gradients_of_discriminator = disc_tape.gradient(disc_loss, discriminator.trainable_variables)\n",
    "\n",
    "    generator_optimizer.apply_gradients(zip(gradients_of_generator, generator.trainable_variables))\n",
    "    discriminator_optimizer.apply_gradients(zip(gradients_of_discriminator, discriminator.trainable_variables))\n",
    "    \n",
    "    return gen_loss, disc_loss"
   ]
  },
  {
   "cell_type": "code",
   "execution_count": 25,
   "metadata": {},
   "outputs": [],
   "source": [
    "checkpoint_path = os.path.join(os.getenv('HOME'),'aiffel/ganomaly_skip_no_norm/ckpt')\n",
    "\n",
    "if not os.path.isdir(checkpoint_path):\n",
    "    os.makedirs(checkpoint_path)\n",
    "checkpoint = tf.train.Checkpoint(generator_optimizer=generator_optimizer,\n",
    "                                 discriminator_optimizer=discriminator_optimizer,\n",
    "                                 generator=generator,\n",
    "                                 discriminator=discriminator)"
   ]
  },
  {
   "cell_type": "code",
   "execution_count": null,
   "metadata": {},
   "outputs": [
    {
     "name": "stdout",
     "output_type": "stream",
     "text": [
      "Steps : 100, \t Total Gen Loss : 17.667964935302734, \t Total Dis Loss : 0.6817658543586731\n",
      "Steps : 200, \t Total Gen Loss : 17.739652633666992, \t Total Dis Loss : 0.6490812301635742\n",
      "Steps : 300, \t Total Gen Loss : 20.997024536132812, \t Total Dis Loss : 0.45403537154197693\n",
      "Steps : 400, \t Total Gen Loss : 19.356504440307617, \t Total Dis Loss : 0.24051550030708313\n",
      "Steps : 500, \t Total Gen Loss : 21.696420669555664, \t Total Dis Loss : 0.263476699590683\n",
      "Steps : 600, \t Total Gen Loss : 20.084087371826172, \t Total Dis Loss : 0.28785812854766846\n",
      "Steps : 700, \t Total Gen Loss : 21.48101043701172, \t Total Dis Loss : 0.13833242654800415\n",
      "Steps : 800, \t Total Gen Loss : 23.500642776489258, \t Total Dis Loss : 0.08148667216300964\n",
      "Steps : 900, \t Total Gen Loss : 21.852067947387695, \t Total Dis Loss : 0.06323301792144775\n",
      "Steps : 1000, \t Total Gen Loss : 23.013259887695312, \t Total Dis Loss : 0.1165475845336914\n",
      "Steps : 1100, \t Total Gen Loss : 22.811859130859375, \t Total Dis Loss : 0.2874448299407959\n",
      "Steps : 1200, \t Total Gen Loss : 22.576757431030273, \t Total Dis Loss : 0.10600429773330688\n",
      "Steps : 1300, \t Total Gen Loss : 24.2196102142334, \t Total Dis Loss : 0.030056960880756378\n",
      "Steps : 1400, \t Total Gen Loss : 24.293851852416992, \t Total Dis Loss : 0.054082758724689484\n",
      "Steps : 1500, \t Total Gen Loss : 22.729778289794922, \t Total Dis Loss : 0.23548880219459534\n",
      "Steps : 1600, \t Total Gen Loss : 24.406049728393555, \t Total Dis Loss : 0.06273646652698517\n",
      "Steps : 1700, \t Total Gen Loss : 24.76422691345215, \t Total Dis Loss : 0.029339537024497986\n",
      "Steps : 1800, \t Total Gen Loss : 24.697601318359375, \t Total Dis Loss : 0.07328625023365021\n",
      "Steps : 1900, \t Total Gen Loss : 24.619352340698242, \t Total Dis Loss : 0.017282230779528618\n",
      "Steps : 2000, \t Total Gen Loss : 25.917076110839844, \t Total Dis Loss : 0.011231516487896442\n",
      "Steps : 2100, \t Total Gen Loss : 23.100805282592773, \t Total Dis Loss : 0.22563186287879944\n",
      "Steps : 2200, \t Total Gen Loss : 23.49897575378418, \t Total Dis Loss : 0.052527666091918945\n",
      "Steps : 2300, \t Total Gen Loss : 22.9578857421875, \t Total Dis Loss : 0.05029308795928955\n",
      "Steps : 2400, \t Total Gen Loss : 26.721982955932617, \t Total Dis Loss : 0.21916921436786652\n",
      "Steps : 2500, \t Total Gen Loss : 27.066356658935547, \t Total Dis Loss : 0.010651938617229462\n",
      "Steps : 2600, \t Total Gen Loss : 26.589345932006836, \t Total Dis Loss : 0.015173868276178837\n",
      "Steps : 2700, \t Total Gen Loss : 25.667909622192383, \t Total Dis Loss : 0.01620408520102501\n",
      "Steps : 2800, \t Total Gen Loss : 26.878864288330078, \t Total Dis Loss : 0.019276883453130722\n",
      "Steps : 2900, \t Total Gen Loss : 25.79769515991211, \t Total Dis Loss : 0.013667229562997818\n",
      "Steps : 3000, \t Total Gen Loss : 25.329191207885742, \t Total Dis Loss : 0.010050000622868538\n",
      "Steps : 3100, \t Total Gen Loss : 21.499128341674805, \t Total Dis Loss : 0.04327600076794624\n",
      "Steps : 3200, \t Total Gen Loss : 24.641342163085938, \t Total Dis Loss : 0.0743425041437149\n",
      "Steps : 3300, \t Total Gen Loss : 24.87459373474121, \t Total Dis Loss : 0.009860003367066383\n",
      "Steps : 3400, \t Total Gen Loss : 22.57872200012207, \t Total Dis Loss : 0.2348969578742981\n",
      "Steps : 3500, \t Total Gen Loss : 23.941362380981445, \t Total Dis Loss : 0.00899992324411869\n",
      "Steps : 3600, \t Total Gen Loss : 26.375152587890625, \t Total Dis Loss : 0.0077857221476733685\n",
      "Steps : 3700, \t Total Gen Loss : 23.44552993774414, \t Total Dis Loss : 0.017832133919000626\n",
      "Steps : 3800, \t Total Gen Loss : 22.182228088378906, \t Total Dis Loss : 0.032466769218444824\n",
      "Steps : 3900, \t Total Gen Loss : 26.055927276611328, \t Total Dis Loss : 0.012546185404062271\n",
      "Steps : 4000, \t Total Gen Loss : 24.97869110107422, \t Total Dis Loss : 0.022915158420801163\n",
      "Steps : 4100, \t Total Gen Loss : 23.566532135009766, \t Total Dis Loss : 0.037288863211870193\n",
      "Steps : 4200, \t Total Gen Loss : 24.823579788208008, \t Total Dis Loss : 0.011064963415265083\n",
      "Steps : 4300, \t Total Gen Loss : 27.346376419067383, \t Total Dis Loss : 0.01042251754552126\n",
      "Steps : 4400, \t Total Gen Loss : 27.298290252685547, \t Total Dis Loss : 0.0035881237126886845\n",
      "Steps : 4500, \t Total Gen Loss : 28.52968406677246, \t Total Dis Loss : 0.005779827479273081\n",
      "Steps : 4600, \t Total Gen Loss : 25.602537155151367, \t Total Dis Loss : 0.007110121659934521\n",
      "Steps : 4700, \t Total Gen Loss : 22.023900985717773, \t Total Dis Loss : 1.4073207378387451\n",
      "Steps : 4800, \t Total Gen Loss : 25.809019088745117, \t Total Dis Loss : 0.00829241331666708\n",
      "Steps : 4900, \t Total Gen Loss : 23.831066131591797, \t Total Dis Loss : 0.08044331520795822\n",
      "Steps : 5000, \t Total Gen Loss : 24.40545654296875, \t Total Dis Loss : 0.006348798051476479\n",
      "Steps : 5100, \t Total Gen Loss : 26.8737850189209, \t Total Dis Loss : 0.0021867852192372084\n",
      "Steps : 5200, \t Total Gen Loss : 27.22066879272461, \t Total Dis Loss : 0.003673698753118515\n",
      "Steps : 5300, \t Total Gen Loss : 23.897686004638672, \t Total Dis Loss : 0.03169439360499382\n",
      "Steps : 5400, \t Total Gen Loss : 28.289979934692383, \t Total Dis Loss : 0.011416737921535969\n",
      "Steps : 5500, \t Total Gen Loss : 25.49465560913086, \t Total Dis Loss : 0.0029930584132671356\n",
      "Steps : 5600, \t Total Gen Loss : 26.66436767578125, \t Total Dis Loss : 0.02944866567850113\n",
      "Steps : 5700, \t Total Gen Loss : 26.695716857910156, \t Total Dis Loss : 0.004683270119130611\n",
      "Steps : 5800, \t Total Gen Loss : 25.195755004882812, \t Total Dis Loss : 0.004943787585943937\n",
      "Steps : 5900, \t Total Gen Loss : 29.753643035888672, \t Total Dis Loss : 0.0044427854008972645\n",
      "Steps : 6000, \t Total Gen Loss : 25.950578689575195, \t Total Dis Loss : 0.0032023494131863117\n",
      "Steps : 6100, \t Total Gen Loss : 24.224109649658203, \t Total Dis Loss : 0.016290634870529175\n",
      "Steps : 6200, \t Total Gen Loss : 24.90106964111328, \t Total Dis Loss : 0.005818110890686512\n",
      "Steps : 6300, \t Total Gen Loss : 26.16884994506836, \t Total Dis Loss : 0.00867113471031189\n",
      "Steps : 6400, \t Total Gen Loss : 28.80392074584961, \t Total Dis Loss : 0.0016683111898601055\n",
      "Steps : 6500, \t Total Gen Loss : 25.944917678833008, \t Total Dis Loss : 0.004460850264877081\n",
      "Steps : 6600, \t Total Gen Loss : 29.147693634033203, \t Total Dis Loss : 0.002321496605873108\n",
      "Steps : 6700, \t Total Gen Loss : 27.30680274963379, \t Total Dis Loss : 0.003360852599143982\n",
      "Time for epoch 1 is 350.6778829097748 sec\n",
      "Steps : 6800, \t Total Gen Loss : 28.39320182800293, \t Total Dis Loss : 0.0033583641052246094\n",
      "Steps : 6900, \t Total Gen Loss : 28.101924896240234, \t Total Dis Loss : 0.002228384604677558\n",
      "Steps : 7000, \t Total Gen Loss : 27.74400520324707, \t Total Dis Loss : 0.0031746425665915012\n",
      "Steps : 7100, \t Total Gen Loss : 28.63128089904785, \t Total Dis Loss : 0.009885004721581936\n",
      "Steps : 7200, \t Total Gen Loss : 26.888042449951172, \t Total Dis Loss : 0.0015172016574069858\n",
      "Steps : 7300, \t Total Gen Loss : 26.484006881713867, \t Total Dis Loss : 0.06962403655052185\n",
      "Steps : 7400, \t Total Gen Loss : 25.46364974975586, \t Total Dis Loss : 0.0016912140417844057\n",
      "Steps : 7500, \t Total Gen Loss : 26.991544723510742, \t Total Dis Loss : 0.006996884010732174\n",
      "Steps : 7600, \t Total Gen Loss : 26.195070266723633, \t Total Dis Loss : 0.006063979584723711\n",
      "Steps : 7700, \t Total Gen Loss : 29.877511978149414, \t Total Dis Loss : 0.0010497277835384011\n",
      "Steps : 7800, \t Total Gen Loss : 27.588722229003906, \t Total Dis Loss : 0.0016622607363387942\n",
      "Steps : 7900, \t Total Gen Loss : 26.341617584228516, \t Total Dis Loss : 0.007069881074130535\n",
      "Steps : 8000, \t Total Gen Loss : 27.04393196105957, \t Total Dis Loss : 0.008588052354753017\n",
      "Steps : 8100, \t Total Gen Loss : 31.913625717163086, \t Total Dis Loss : 0.023216083645820618\n",
      "Steps : 8200, \t Total Gen Loss : 28.90707778930664, \t Total Dis Loss : 0.0035085566341876984\n",
      "Steps : 8300, \t Total Gen Loss : 30.036354064941406, \t Total Dis Loss : 0.003939099609851837\n",
      "Steps : 8400, \t Total Gen Loss : 28.387365341186523, \t Total Dis Loss : 0.0021919822320342064\n",
      "Steps : 8500, \t Total Gen Loss : 27.571197509765625, \t Total Dis Loss : 0.015706688165664673\n",
      "Steps : 8600, \t Total Gen Loss : 28.55614471435547, \t Total Dis Loss : 0.006570474710315466\n",
      "Steps : 8700, \t Total Gen Loss : 27.47549057006836, \t Total Dis Loss : 0.005378423724323511\n",
      "Steps : 8800, \t Total Gen Loss : 28.929372787475586, \t Total Dis Loss : 0.0013607924338430166\n"
     ]
    }
   ],
   "source": [
    "max_epochs = 5\n",
    "steps = 0\n",
    "\n",
    "for epoch in range(max_epochs):\n",
    "    start = time.time()\n",
    "\n",
    "    for images, labels in train_dataset:\n",
    "        steps += 1\n",
    "        gen_loss, disc_loss = train_step(images)\n",
    "        \n",
    "        if steps % 100 == 0:\n",
    "            print ('Steps : {}, \\t Total Gen Loss : {}, \\t Total Dis Loss : {}'.format(steps, gen_loss.numpy(), disc_loss.numpy()))\n",
    "        \n",
    "    if (epoch + 1) % 5 == 0:\n",
    "        checkpoint.save(file_prefix = checkpoint_prefix)\n",
    "        \n",
    "    print ('Time for epoch {} is {} sec'.format(epoch + 1, time.time() - start))"
   ]
  },
  {
   "cell_type": "code",
   "execution_count": null,
   "metadata": {},
   "outputs": [],
   "source": [
    "checkpoint.restore(tf.train.latest_checkpoint(checkpoint_path))"
   ]
  },
  {
   "cell_type": "code",
   "execution_count": null,
   "metadata": {},
   "outputs": [],
   "source": [
    "def _evaluate(test_dataset, set_lambda=0.9):\n",
    "    an_scores = []\n",
    "    gt_labels = []\n",
    "    for step, (x_batch_train, y_batch_train) in enumerate(test_dataset):\n",
    "        generated_images = generator(x_batch_train, training=True)\n",
    "        _, feat_real = discriminator(x_batch_train, training=True)\n",
    "        _, feat_fake = discriminator(generated_images, training=True)\n",
    "\n",
    "        generated_images, feat_real, feat_fake = generated_images.numpy(), feat_real.numpy(), feat_fake.numpy()        \n",
    "\n",
    "        rec = abs(x_batch_train - generated_images)\n",
    "        lat = (feat_real - feat_fake) ** 2\n",
    "\n",
    "        rec = tf.reduce_sum(rec, [1,2,3])\n",
    "        lat = tf.reduce_sum(lat, [1,2,3])\n",
    "        \n",
    "        error = (set_lambda * tf.cast(rec, tf.float32)) + ((1 - set_lambda) * tf.cast(lat, tf.float32))\n",
    "        \n",
    "        an_scores.append(error)\n",
    "        gt_labels.append(y_batch_train)\n",
    "        \n",
    "    an_scores = np.concatenate(an_scores, axis=0).reshape([-1])\n",
    "    gt_labels = np.concatenate(gt_labels, axis=0).reshape([-1])\n",
    "    \n",
    "    an_scores = (an_scores - np.amin(an_scores)) / (np.amax(an_scores) - np.amin(an_scores))\n",
    "    \n",
    "    return an_scores, gt_labels"
   ]
  },
  {
   "cell_type": "code",
   "execution_count": null,
   "metadata": {},
   "outputs": [],
   "source": [
    "an_scores, gt_labels = _evaluate(test_dataset)\n",
    "\n",
    "print(len(an_scores), len(gt_labels))"
   ]
  },
  {
   "cell_type": "code",
   "execution_count": null,
   "metadata": {},
   "outputs": [],
   "source": [
    "normal = []\n",
    "anormaly = []\n",
    "for score, label in zip(an_scores, gt_labels):\n",
    "    if label == 0:\n",
    "        anormaly.append(score)\n",
    "    else:\n",
    "        normal.append(score)\n",
    "\n",
    "normal = np.array(normal)\n",
    "print(normal.shape)\n",
    "anormaly = np.array(anormaly)\n",
    "print(anormaly.shape)"
   ]
  },
  {
   "cell_type": "code",
   "execution_count": null,
   "metadata": {},
   "outputs": [],
   "source": [
    "plt.hist(normal, bins=np.linspace(0.0, 1.0, num=100))\n",
    "plt.hist(anormaly, bins=np.linspace(0.0, 1.0, num=100))\n",
    "plt.show()"
   ]
  },
  {
   "cell_type": "code",
   "execution_count": null,
   "metadata": {},
   "outputs": [],
   "source": [
    "plt.plot(normal, norm.pdf(normal, np.mean(normal), np.std(normal)), 'o')\n",
    "plt.plot(anormaly, norm.pdf(anormaly, np.mean(anormaly), np.std(anormaly)), 'o')\n",
    "\n",
    "print(np.mean(normal), np.mean(anormaly))\n",
    "print(np.std(normal), np.std(anormaly))"
   ]
  },
  {
   "cell_type": "markdown",
   "metadata": {},
   "source": [
    "- 이상감지용 데이터셋 구축 (개구리 데이터를 학습데이터셋에서 제외하여 테스트 데이터셋에 포함)\n",
    "- Skip-GANomaly 모델의 구현\n",
    "- 모델의 학습과 검증\n",
    "- 검증 결과의 시각화 (정상-이상 데이터의 anomaly score 분포 시각화, 적절한 threshold에 따른 이삼감지율 계-산, 감지 성공/실패사례 시각화 포함)"
   ]
  },
  {
   "cell_type": "code",
   "execution_count": null,
   "metadata": {},
   "outputs": [],
   "source": []
  }
 ],
 "metadata": {
  "kernelspec": {
   "display_name": "Python 3",
   "language": "python",
   "name": "python3"
  },
  "language_info": {
   "codemirror_mode": {
    "name": "ipython",
    "version": 3
   },
   "file_extension": ".py",
   "mimetype": "text/x-python",
   "name": "python",
   "nbconvert_exporter": "python",
   "pygments_lexer": "ipython3",
   "version": "3.7.6"
  }
 },
 "nbformat": 4,
 "nbformat_minor": 4
}
