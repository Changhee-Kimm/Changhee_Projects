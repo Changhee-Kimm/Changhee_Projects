{
 "cells": [
  {
   "cell_type": "markdown",
   "metadata": {},
   "source": [
    " 데이터에서 상위 33,000개의 샘플만 사용해주세요\n",
    " \n",
    " "
   ]
  },
  {
   "cell_type": "markdown",
   "metadata": {},
   "source": [
    "## 1. 정제, 정규화, 전처리 (영어, 프랑스어)\n",
    "\n",
    "### 1-1. 구두점(Punctuation)을 단어와 분리\n",
    "\n",
    "- 분리 전 : he is a Good boy!\n",
    "\n",
    "- 분리 후 : he is a Good boy !\n",
    "\n",
    "### 2. 소문자로 변환\n",
    "\n",
    "- 변환 전 : he is a Good boy !\n",
    "\n",
    "- 변환 후 : he is a good boy !\n",
    "\n",
    "### 3. 띄어쓰기 단위로 토큰를 수행하세요.\n",
    "\n",
    "- 토큰화 전 : 'he is a good boy !'\n",
    "\n",
    "- 토큰화 후 : ['he', 'is', 'a', 'good', 'boy', '!']\n"
   ]
  },
  {
   "cell_type": "markdown",
   "metadata": {},
   "source": [
    "## 2. 디코더의 문장에 시작 토큰과 종료 토큰을 넣어기\n",
    "\n",
    "- 입력 시퀀스 : ['', 'courez', '!']\n",
    "\n",
    "- 레이블 시퀀스 : ['courez', '!', ']\n",
    "\n",
    "## 3. 케라스의 토크나이저로 텍스트를 숫자로 바꾸기\n",
    "\n",
    " - 아래 링크의 2. 케라스 텍스트 전처리 참고\n",
    "https://wikidocs.net/31766\n",
    "\n",
    "- 영어와 프랑스어에 대한 토크나이저를 각각 생성하고, tokenizer.texts_to_sequences()를 사용하여 모든 샘플에 대해서 정수 시퀀스로 변환\n",
    "\n",
    "## 4. 임베딩 층(Embedding layer) 사용하기\n",
    " - 입력이 되는 각 단어를 임베딩 층을 사용해서 벡터화 하기. 아래 링크의 1. 케라스 임베딩층 참고\n",
    "\n",
    " - https://wikidocs.net/33793 \n",
    " \n",
    " - 코드 예시)\n",
    "\n",
    "```\n",
    "from tensorflow.keras.layers import Input, mbedding, Masking\n",
    "\n",
    "# 인코더에서 사용할 임베딩 층 사용 예시\n",
    "encoder_inputs = Input(shape=(None,))\n",
    "enc_emb =  Embedding(단어장의 크기, 임베딩 벡터의 차원)(encoder_inputs)\n",
    "encoder_lstm = LSTM(hidden state의 크기, return_state=True)\n",
    "encoder_outputs, state_h, state_c = encoder_lstm(enc_emb)\n",
    "```\n",
    "\n",
    "#### 주의할 점은 인코더와 디코더의 임베딩 층은 서로 다른 임베딩 층을 사용해야 하지만,\n",
    "\n",
    "디코더의 훈련 과정과 테스트 과정(예측 과정)에서의 임베딩 층은 동일해야 합니다!"
   ]
  },
  {
   "cell_type": "markdown",
   "metadata": {},
   "source": [
    "## 5. 모델 구현하기\n",
    "\n",
    "## 6. 모델 평가하기"
   ]
  },
  {
   "cell_type": "code",
   "execution_count": null,
   "metadata": {},
   "outputs": [],
   "source": []
  }
 ],
 "metadata": {
  "kernelspec": {
   "display_name": "Python 3",
   "language": "python",
   "name": "python3"
  },
  "language_info": {
   "codemirror_mode": {
    "name": "ipython",
    "version": 3
   },
   "file_extension": ".py",
   "mimetype": "text/x-python",
   "name": "python",
   "nbconvert_exporter": "python",
   "pygments_lexer": "ipython3",
   "version": "3.7.6"
  }
 },
 "nbformat": 4,
 "nbformat_minor": 4
}
