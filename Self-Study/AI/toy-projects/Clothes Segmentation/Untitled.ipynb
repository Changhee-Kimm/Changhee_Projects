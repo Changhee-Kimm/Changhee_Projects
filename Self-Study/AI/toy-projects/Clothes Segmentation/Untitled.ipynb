{
 "cells": [
  {
   "cell_type": "code",
   "execution_count": 27,
   "metadata": {},
   "outputs": [],
   "source": [
    "from shutil import copyfile\n",
    "from glob import glob\n",
    "from tqdm import tqdm\n",
    "import os"
   ]
  },
  {
   "cell_type": "code",
   "execution_count": 28,
   "metadata": {},
   "outputs": [],
   "source": [
    "def movefiles(filepath, movepath):\n",
    "    copyfile(filepath, movepath)"
   ]
  },
  {
   "cell_type": "code",
   "execution_count": 29,
   "metadata": {},
   "outputs": [],
   "source": [
    "train_paths = glob(os.path.join('/home/aiffel/Desktop/Changhee/해커톤/K-Fashion/data', 'train', '*', '*.jpg'))\n",
    "test_paths = glob(os.path.join('/home/aiffel/Desktop/Changhee/해커톤/K-Fashion/data', 'test', '*', '*.jpg'))"
   ]
  },
  {
   "cell_type": "code",
   "execution_count": 30,
   "metadata": {},
   "outputs": [
    {
     "name": "stdout",
     "output_type": "stream",
     "text": [
      "95454 8000\n"
     ]
    }
   ],
   "source": [
    "print(len(train_paths), len(test_paths))"
   ]
  },
  {
   "cell_type": "code",
   "execution_count": 31,
   "metadata": {},
   "outputs": [],
   "source": [
    "train_rename = ['/home/aiffel/Desktop/Changhee/해커톤/K-Fashion/train_all/'+train_paths[i].split('/')[-1] for i in range(len(train_paths))]\n",
    "test_rename = ['/home/aiffel/Desktop/Changhee/해커톤/K-Fashion/test_all/'+test_paths[i].split('/')[-1] for i in range(len(test_paths))]"
   ]
  },
  {
   "cell_type": "code",
   "execution_count": 32,
   "metadata": {},
   "outputs": [
    {
     "name": "stdout",
     "output_type": "stream",
     "text": [
      "95454 8000\n"
     ]
    }
   ],
   "source": [
    "print(len(train_rename), len(test_rename))"
   ]
  },
  {
   "cell_type": "code",
   "execution_count": 33,
   "metadata": {},
   "outputs": [
    {
     "name": "stdout",
     "output_type": "stream",
     "text": [
      "/home/aiffel/Desktop/Changhee/해커톤/K-Fashion/data/train/q/qgwrh4cde9.jpg /home/aiffel/Desktop/Changhee/해커톤/K-Fashion/train_all/qgwrh4cde9.jpg\n"
     ]
    }
   ],
   "source": [
    "print(train_paths[0], train_rename[0])"
   ]
  },
  {
   "cell_type": "code",
   "execution_count": 34,
   "metadata": {},
   "outputs": [
    {
     "name": "stderr",
     "output_type": "stream",
     "text": [
      "100%|██████████| 95454/95454 [00:29<00:00, 3242.58it/s] \n"
     ]
    }
   ],
   "source": [
    "for i in tqdm(range(len(train_paths))):\n",
    "    copyfile(train_paths[i],train_rename[i])"
   ]
  },
  {
   "cell_type": "code",
   "execution_count": 35,
   "metadata": {},
   "outputs": [
    {
     "name": "stderr",
     "output_type": "stream",
     "text": [
      "100%|██████████| 8000/8000 [00:03<00:00, 2450.80it/s]\n"
     ]
    }
   ],
   "source": [
    "for i in tqdm(range(len(test_paths))):\n",
    "    copyfile(test_paths[i],test_rename[i])"
   ]
  },
  {
   "cell_type": "code",
   "execution_count": null,
   "metadata": {},
   "outputs": [],
   "source": []
  }
 ],
 "metadata": {
  "kernelspec": {
   "display_name": "Python 3",
   "language": "python",
   "name": "python3"
  },
  "language_info": {
   "codemirror_mode": {
    "name": "ipython",
    "version": 3
   },
   "file_extension": ".py",
   "mimetype": "text/x-python",
   "name": "python",
   "nbconvert_exporter": "python",
   "pygments_lexer": "ipython3",
   "version": "3.7.6"
  }
 },
 "nbformat": 4,
 "nbformat_minor": 4
}
