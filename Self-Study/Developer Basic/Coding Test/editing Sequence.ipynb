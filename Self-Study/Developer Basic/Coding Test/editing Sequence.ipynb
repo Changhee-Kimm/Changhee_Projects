{
 "cells": [
  {
   "cell_type": "markdown",
   "metadata": {},
   "source": [
    "https://swexpertacademy.com/main/learn/course/lectureProblemViewer.do\n"
   ]
  },
  {
   "cell_type": "code",
   "execution_count": 27,
   "metadata": {},
   "outputs": [],
   "source": [
    "class ListNode:\n",
    "    def __init__(self,x):\n",
    "        self.val=x\n",
    "        self.next =None\n",
    "\n",
    "node = ListNode(None)\n",
    "temp = node\n",
    "for i in range(5):\n",
    "    temp.next = ListNode(i)\n",
    "    temp =temp.next"
   ]
  },
  {
   "cell_type": "code",
   "execution_count": 24,
   "metadata": {},
   "outputs": [
    {
     "data": {
      "text/plain": [
       "1"
      ]
     },
     "execution_count": 24,
     "metadata": {},
     "output_type": "execute_result"
    }
   ],
   "source": [
    "node.next.next.val"
   ]
  },
  {
   "cell_type": "code",
   "execution_count": 21,
   "metadata": {},
   "outputs": [
    {
     "ename": "SyntaxError",
     "evalue": "unexpected EOF while parsing (<ipython-input-21-86d260179e66>, line 6)",
     "output_type": "error",
     "traceback": [
      "\u001b[0;36m  File \u001b[0;32m\"<ipython-input-21-86d260179e66>\"\u001b[0;36m, line \u001b[0;32m6\u001b[0m\n\u001b[0;31m    \u001b[0m\n\u001b[0m    ^\u001b[0m\n\u001b[0;31mSyntaxError\u001b[0m\u001b[0;31m:\u001b[0m unexpected EOF while parsing\n"
     ]
    }
   ],
   "source": [
    "temp = node\n",
    "\n",
    "for i in command:\n",
    "    if i == 'I':\n",
    "        for i in range(command[1]):\n",
    "            "
   ]
  },
  {
   "cell_type": "code",
   "execution_count": 29,
   "metadata": {},
   "outputs": [],
   "source": [
    "class ListNode:\n",
    "    def __init__(self,x):\n",
    "        self.val=x\n",
    "        self.next =None\n",
    "        self.before=None\n",
    "        \n",
    "class LinkedList:\n",
    "    def __init__(self):\n",
    "        new_node=ListNode('head')\n",
    "        self.head = new_node\n",
    "        self.tail = new_node\n",
    "        \n",
    "        self.curr = None\n",
    "        \n",
    "    def append(self,x):\n",
    "        new_node=ListNode(x)\n",
    "        self.tail.next = new_node\n",
    "        self.tail = new_node\n",
    "        \n",
    "    def move_to(self,index):\n",
    "        self.curr = self.head\n",
    "        for _ in range(index):\n",
    "            self.before = self.curr\n",
    "            self.curr = self.curr.next\n",
    "\n",
    "    def add(self,index,x):\n",
    "        new_node=ListNode(x)\n",
    "        \n",
    "        move_to(index)\n",
    "        temp = self. curr\n",
    "        self.curr = new_node\n",
    "        self.curr.before = self.before\n",
    "        self.curr.next = self.curr\n",
    "    \n",
    "    def delete(self,index):\n",
    "        move_to(index)\n",
    "        self.curr = self.curr.next\n",
    "        self.before = self.curr.before\n",
    "            \n",
    "    def change(self,index,x):\n",
    "        move_to(index)\n",
    "        self.curr.val = x\n",
    "        \n",
    "    def node_val(self,index):\n",
    "        move_to(index)\n",
    "        return self.val"
   ]
  },
  {
   "cell_type": "code",
   "execution_count": 23,
   "metadata": {},
   "outputs": [],
   "source": [
    "linked=LinkedList()\n",
    "linked.append(1)\n",
    "linked.append(2)\n",
    "linked.append(3)"
   ]
  },
  {
   "cell_type": "code",
   "execution_count": null,
   "metadata": {},
   "outputs": [],
   "source": []
  },
  {
   "cell_type": "code",
   "execution_count": 30,
   "metadata": {},
   "outputs": [
    {
     "name": "stdout",
     "output_type": "stream",
     "text": [
      "1\n",
      "2\n"
     ]
    },
    {
     "ename": "ValueError",
     "evalue": "not enough values to unpack (expected 3, got 1)",
     "output_type": "error",
     "traceback": [
      "\u001b[0;31m---------------------------------------------------------------------------\u001b[0m",
      "\u001b[0;31mValueError\u001b[0m                                Traceback (most recent call last)",
      "\u001b[0;32m<ipython-input-30-1c662a3becfb>\u001b[0m in \u001b[0;36m<module>\u001b[0;34m\u001b[0m\n\u001b[1;32m      1\u001b[0m \u001b[0mT\u001b[0m\u001b[0;34m=\u001b[0m\u001b[0mint\u001b[0m\u001b[0;34m(\u001b[0m\u001b[0minput\u001b[0m\u001b[0;34m(\u001b[0m\u001b[0;34m)\u001b[0m\u001b[0;34m)\u001b[0m\u001b[0;34m\u001b[0m\u001b[0;34m\u001b[0m\u001b[0m\n\u001b[1;32m      2\u001b[0m \u001b[0;32mfor\u001b[0m \u001b[0mi\u001b[0m \u001b[0;32min\u001b[0m \u001b[0mrange\u001b[0m\u001b[0;34m(\u001b[0m\u001b[0;36m1\u001b[0m\u001b[0;34m,\u001b[0m\u001b[0mT\u001b[0m\u001b[0;34m+\u001b[0m\u001b[0;36m1\u001b[0m\u001b[0;34m)\u001b[0m\u001b[0;34m:\u001b[0m\u001b[0;34m\u001b[0m\u001b[0;34m\u001b[0m\u001b[0m\n\u001b[0;32m----> 3\u001b[0;31m     \u001b[0mN\u001b[0m\u001b[0;34m,\u001b[0m\u001b[0mM\u001b[0m\u001b[0;34m,\u001b[0m\u001b[0mL\u001b[0m \u001b[0;34m=\u001b[0m \u001b[0mmap\u001b[0m\u001b[0;34m(\u001b[0m\u001b[0mint\u001b[0m\u001b[0;34m,\u001b[0m\u001b[0minput\u001b[0m\u001b[0;34m(\u001b[0m\u001b[0;34m)\u001b[0m\u001b[0;34m.\u001b[0m\u001b[0msplit\u001b[0m\u001b[0;34m(\u001b[0m\u001b[0;34m)\u001b[0m\u001b[0;34m)\u001b[0m\u001b[0;34m\u001b[0m\u001b[0;34m\u001b[0m\u001b[0m\n\u001b[0m\u001b[1;32m      4\u001b[0m     \u001b[0msequence\u001b[0m \u001b[0;34m=\u001b[0m  \u001b[0mlist\u001b[0m\u001b[0;34m(\u001b[0m\u001b[0mmap\u001b[0m\u001b[0;34m(\u001b[0m\u001b[0mint\u001b[0m\u001b[0;34m,\u001b[0m\u001b[0minput\u001b[0m\u001b[0;34m(\u001b[0m\u001b[0;34m)\u001b[0m\u001b[0;34m.\u001b[0m\u001b[0msplit\u001b[0m\u001b[0;34m(\u001b[0m\u001b[0;34m)\u001b[0m\u001b[0;34m)\u001b[0m\u001b[0;34m)\u001b[0m\u001b[0;34m\u001b[0m\u001b[0;34m\u001b[0m\u001b[0m\n\u001b[1;32m      5\u001b[0m     \u001b[0mlinkedlist\u001b[0m\u001b[0;34m=\u001b[0m\u001b[0mLinkedList\u001b[0m\u001b[0;34m(\u001b[0m\u001b[0;34m)\u001b[0m\u001b[0;34m\u001b[0m\u001b[0;34m\u001b[0m\u001b[0m\n",
      "\u001b[0;31mValueError\u001b[0m: not enough values to unpack (expected 3, got 1)"
     ]
    }
   ],
   "source": [
    "T=int(input())\n",
    "for i in range(1,T+1):\n",
    "    N,M,L = map(int,input().split())\n",
    "    sequence =  list(map(int,input().split()))\n",
    "    linkedlist=LinkedList()\n",
    "    for k in sequence: \n",
    "        linkedlist.append(k)\n",
    "    \n",
    "\n",
    "    for _ in range(M):\n",
    "        command=list(int(x) if x.isnumeric() else x for x in input().split())\n",
    "        j=command[0]\n",
    "        if j=='I':\n",
    "            linkedlist.add(command[1],command[2])\n",
    "            #sequence.insert(command[1],command[2])\n",
    "        elif j == 'D':\n",
    "            linkedlist.delete(command[1])\n",
    "            #del sequence[command[1]]\n",
    "        elif j == 'C':\n",
    "            linkedlist.change(command[1],command[2])\n",
    "            #sequence[command[1]]=command[2]\n",
    "    try:\n",
    "        print(\"#{} {}\".format(i, linkedlist.node_val(L)))\n",
    "    except:\n",
    "        print(\"#{} {}\".format(i, -1))\n"
   ]
  },
  {
   "cell_type": "markdown",
   "metadata": {},
   "source": [
    "### "
   ]
  }
 ],
 "metadata": {
  "kernelspec": {
   "display_name": "Python 3",
   "language": "python",
   "name": "python3"
  },
  "language_info": {
   "codemirror_mode": {
    "name": "ipython",
    "version": 3
   },
   "file_extension": ".py",
   "mimetype": "text/x-python",
   "name": "python",
   "nbconvert_exporter": "python",
   "pygments_lexer": "ipython3",
   "version": "3.7.6"
  }
 },
 "nbformat": 4,
 "nbformat_minor": 4
}
