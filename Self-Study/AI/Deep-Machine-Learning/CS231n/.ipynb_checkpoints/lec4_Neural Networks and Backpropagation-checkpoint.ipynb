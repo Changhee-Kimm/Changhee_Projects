{
 "cells": [
  {
   "cell_type": "markdown",
   "metadata": {},
   "source": [
    "p.29\n",
    "\n",
    "액티베이션 함수를 비선형으로 사용하는 이유 : 선형으로 하면 결국 합하면 레이어를 두는 의미가 없어짐\n",
    "\n",
    "ex) y=x\n",
    "2 layer= y=x**2\n",
    "3 layer= y=x**3\n",
    "\n",
    "p.31\n",
    "그 중에 ReLU를 많이 사용하는데,\n",
    "0값이 많아서 계산하기가 편하다.\n",
    "\n",
    "sigmoid == 미분값이 항상 1보다 작은데, Layer를 여러개 지나갈수록 1에 가까워져서 값이 손실됨.(gradient vanishing)\n",
    "\n",
    "\n",
    "[1 0 1 0]"
   ]
  }
 ],
 "metadata": {
  "kernelspec": {
   "display_name": "Python 3",
   "language": "python",
   "name": "python3"
  },
  "language_info": {
   "codemirror_mode": {
    "name": "ipython",
    "version": 3
   },
   "file_extension": ".py",
   "mimetype": "text/x-python",
   "name": "python",
   "nbconvert_exporter": "python",
   "pygments_lexer": "ipython3",
   "version": "3.7.6"
  }
 },
 "nbformat": 4,
 "nbformat_minor": 4
}
