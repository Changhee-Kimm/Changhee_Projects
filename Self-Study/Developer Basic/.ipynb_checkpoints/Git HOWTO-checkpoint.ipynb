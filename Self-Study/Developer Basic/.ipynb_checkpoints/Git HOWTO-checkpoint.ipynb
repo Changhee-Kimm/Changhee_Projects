{
 "cells": [
  {
   "cell_type": "markdown",
   "metadata": {},
   "source": [
    "****Github 사용하기****\n",
    "\n",
    "-깃헙이 필요한 이유-\n",
    "\n",
    "1. 내 코드의 버전 관리\n",
    "코드가 길어지고 파일이 많아지면, 관리가 어려워.\n",
    "\n",
    "2. 게다가 다른사람과 함께 작업한다면...\n",
    "창희01.xls\n",
    "창희_세미_01.xls\n",
    "...\n",
    "\n",
    "Git- 로컬(내 컴퓨터)에 저장하는 기능\n",
    "Github- 온라인에 올려서 저장&관리\n",
    "\n",
    "\n",
    "-깃헙 사용하기-\n",
    "\n",
    "깃헙에 가입했다면,\n",
    "\n",
    "Local Terminal에서 계정 등록하기."
   ]
  },
  {
   "cell_type": "markdown",
   "metadata": {},
   "source": [
    "$ git config --global user.email \"email주소\"\n",
    "$ git config --global user.name \"user name(Git의 URL 이름)\""
   ]
  },
  {
   "cell_type": "markdown",
   "metadata": {},
   "source": [
    "Git에 등록한 config 정보를 확인하려면"
   ]
  },
  {
   "cell_type": "raw",
   "metadata": {},
   "source": [
    "$ git config -l"
   ]
  },
  {
   "cell_type": "markdown",
   "metadata": {},
   "source": [
    "Git 사용할 폴더 등록하기!"
   ]
  },
  {
   "cell_type": "markdown",
   "metadata": {},
   "source": [
    "$ cd changhee_git"
   ]
  },
  {
   "cell_type": "markdown",
   "metadata": {},
   "source": [
    "해당 폴더 디렉토리에서 아래 입력"
   ]
  },
  {
   "cell_type": "markdown",
   "metadata": {},
   "source": [
    "$ git init "
   ]
  },
  {
   "cell_type": "markdown",
   "metadata": {},
   "source": [
    "initialization의 약자로, 시작한다는 뜻.\n",
    "즉, 현재에 있는 디렉토리에 있는거를 git 으로 기록한겠다는 뜻."
   ]
  },
  {
   "cell_type": "markdown",
   "metadata": {},
   "source": [
    "$ ls -a\n",
    ". .. .git\n",
    "$cd .git\n",
    "$ls\n",
    "Head brances config decription hooks info objects refs"
   ]
  },
  {
   "cell_type": "markdown",
   "metadata": {},
   "source": [
    "git init은 현재 디렉토리를 Git 저장소로 만들었다는 말이고,\n",
    "모든 Git은 .git 이라는 디렉토리를 가지고 있다."
   ]
  },
  {
   "cell_type": "markdown",
   "metadata": {},
   "source": [
    "$ echo \"#first - repository\" >> README.md"
   ]
  },
  {
   "cell_type": "markdown",
   "metadata": {},
   "source": [
    "위와 같은 명령어를 입력하면 README.md 파일을 생성하고, 파일 내에 ##first - repository\n",
    "라는 글자를 입력한다\n",
    "아래 명령어를 실행하여 확인해보기"
   ]
  },
  {
   "cell_type": "markdown",
   "metadata": {},
   "source": [
    "$ls\n",
    "README.md\n",
    "\n",
    "$cat README.md\n",
    "#first - repository"
   ]
  },
  {
   "cell_type": "markdown",
   "metadata": {},
   "source": [
    "git이 추적하고 있는 변화를 확인하는 명령여"
   ]
  },
  {
   "cell_type": "markdown",
   "metadata": {},
   "source": [
    "$ git status\n",
    "On branch master\n",
    "\n",
    "No commits yet\n",
    "\n",
    "Untracked files:\n",
    "    (use \"git add <file>...\" to include in what will be committed)\n",
    "    README.md\n",
    "\n",
    "nothing added to commit but untracked files present (use \"git add\" to track)"
   ]
  },
  {
   "cell_type": "markdown",
   "metadata": {},
   "source": [
    "### add , commit, push ###"
   ]
  },
  {
   "cell_type": "markdown",
   "metadata": {},
   "source": [
    "1. add = stage를 하겠다 ==> 저장할지 안할지 모르지만 일단 기억해 놓는걸로!\n",
    "2. commit = 기억해 놓은거를 로컬(내 컴퓨터에) 저장할게\n",
    "3. push = Github에 올려서 저장해 놓을게"
   ]
  },
  {
   "cell_type": "markdown",
   "metadata": {},
   "source": [
    "Github에 올리려면 일단 repository(원격 저장장소)를 생성해야 합니다.\n",
    "아래의 링크를 따라해봐\n",
    "\n",
    "https://post.naver.com/viewer/postView.nhn?volumeNo=24623326"
   ]
  },
  {
   "cell_type": "markdown",
   "metadata": {},
   "source": [
    "### 이제 내 로컬(내 컴퓨터)와 Github(온라인 저장소)를 연결해야 한다. ###\n",
    "\n",
    "1. Github에 접속\n",
    "2. 내 깃헙 URL 복사하기\n",
    "3. 터미널에서 Git기능 등록해 놓은 폴더로 이동후, 아래의 명령어 입력"
   ]
  },
  {
   "cell_type": "markdown",
   "metadata": {},
   "source": [
    "$ cd ~/workplace\n",
    "$ git remote add origin https://github.com/xxx/first-repository.git"
   ]
  },
  {
   "cell_type": "markdown",
   "metadata": {},
   "source": [
    "여기서 origin에 깃헙 주소를 저장해 놓고, origin을 부를 수 있어."
   ]
  },
  {
   "cell_type": "markdown",
   "metadata": {},
   "source": [
    "4. push 하기"
   ]
  },
  {
   "cell_type": "markdown",
   "metadata": {},
   "source": [
    "$ git push origin master\n",
    "Enumerating objects: 3, done.\n",
    "Counting objects: 100% (3/3), done.\n",
    "Writing objects: 100% (3/3), 230 bytes | 230.00 KiB/s, done.\n",
    "Total 3 (delta 0), reused 0 (delta 0)\n",
    "To https://github.com/jeina7/first-repository.git\n",
    "    * [new branch]      master -> master"
   ]
  },
  {
   "cell_type": "markdown",
   "metadata": {},
   "source": [
    "모든 파일들은 origin(깃헙 URL 저장해놓은곳)의 master 브랜치로 push해 밀어 넣겠다는 뜻!\n",
    "즉 깃헙에 저장하겠다는 뜻."
   ]
  },
  {
   "cell_type": "markdown",
   "metadata": {},
   "source": [
    "### 로컬(내 컴퓨터)로 깃헙(원격 저장소)애 저장해 놓은거 불러오기 ###"
   ]
  },
  {
   "cell_type": "markdown",
   "metadata": {},
   "source": [
    "1. 깃헙 레파지토리 복사하기. 아래의 명령어 실행"
   ]
  },
  {
   "cell_type": "markdown",
   "metadata": {},
   "source": [
    "$ git clone https://github.com/xxx/first-repository.git\n",
    "Cloning into 'first-repository'...\n",
    "remote: Enumerating objects: 3, done.\n",
    "remote: Counting objects: 100% (3/3), done.\n",
    "remote: Total 3 (delta 0), reused 3 (delta 0), pack-reused 0\n",
    "Unpacking objects: 100% (3/3), done."
   ]
  },
  {
   "cell_type": "markdown",
   "metadata": {},
   "source": [
    "add 와 commit , push 진행"
   ]
  },
  {
   "cell_type": "markdown",
   "metadata": {},
   "source": [
    "$ git add README.md\n",
    "$ git commit -m “new contents”\n",
    "[master c82640d] new contents\n",
    "    1 file changed, 1 insertion(+)\n",
    "    \n",
    "$ git push origin master\n",
    "Enumerating objects: 5, done.\n",
    "Counting objects: 100% (5/5), done.\n",
    "Writing objects: 100% (3/3), 276 bytes | 276.00 KiB/s, done.\n",
    "Total 3 (delta 0), reused 0 (delta 0)\n",
    "To https://github.com/jeina7/first-repository.git\n",
    "    438a37c..c82640d  master -> master"
   ]
  },
  {
   "cell_type": "markdown",
   "metadata": {},
   "source": [
    "add ==> commit ==> push 하기"
   ]
  },
  {
   "cell_type": "markdown",
   "metadata": {},
   "source": [
    "### 로컬 저장소를 원격 저장소의 내용과 같게 업데이트 하기"
   ]
  },
  {
   "cell_type": "markdown",
   "metadata": {},
   "source": [
    "$ git pull origin master\n",
    "remote: Enumerating objects: 5, done.\n",
    "remote: Counting objects: 100% (5/5), done.\n",
    "remote: Total 3 (delta 0), reused 3 (delta 0), pack-reused 0\n",
    "Unpacking objects: 100% (3/3), done.\n",
    "From https://github.com/jeina7/first-repository\n",
    "    * branch            master     -> FETCH_HEAD\n",
    "    438a37c..c82640d  master     -> origin/master\n",
    "Updating 438a37c..c82640d\n",
    "Fast-forward\n",
    "    README.md | 1 +\n",
    "    1 file changed, 1 insertion(+)"
   ]
  },
  {
   "attachments": {},
   "cell_type": "markdown",
   "metadata": {},
   "source": []
  }
 ],
 "metadata": {
  "kernelspec": {
   "display_name": "Python 3",
   "language": "python",
   "name": "python3"
  },
  "language_info": {
   "codemirror_mode": {
    "name": "ipython",
    "version": 3
   },
   "file_extension": ".py",
   "mimetype": "text/x-python",
   "name": "python",
   "nbconvert_exporter": "python",
   "pygments_lexer": "ipython3",
   "version": "3.7.6"
  }
 },
 "nbformat": 4,
 "nbformat_minor": 4
}
