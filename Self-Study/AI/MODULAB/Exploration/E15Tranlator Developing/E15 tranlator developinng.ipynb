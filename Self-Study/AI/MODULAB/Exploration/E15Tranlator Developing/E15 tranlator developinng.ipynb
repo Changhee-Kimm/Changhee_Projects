{
 "cells": [
  {
   "cell_type": "markdown",
   "metadata": {},
   "source": [
    " 데이터에서 상위 33,000개의 샘플만 사용해주세요\n",
    " \n",
    " "
   ]
  },
  {
   "cell_type": "markdown",
   "metadata": {},
   "source": [
    "## 1. 정제, 정규화, 전처리 (영어, 프랑스어)\n",
    "\n",
    "### 1-1. 구두점(Punctuation)을 단어와 분리\n",
    "\n",
    "- 분리 전 : he is a Good boy!\n",
    "\n",
    "- 분리 후 : he is a Good boy !\n",
    "\n",
    "### 2. 소문자로 변환\n",
    "\n",
    "- 변환 전 : he is a Good boy !\n",
    "\n",
    "- 변환 후 : he is a good boy !\n",
    "\n",
    "### 3. 띄어쓰기 단위로 토큰를 수행하세요.\n",
    "\n",
    "- 토큰화 전 : 'he is a good boy !'\n",
    "\n",
    "- 토큰화 후 : ['he', 'is', 'a', 'good', 'boy', '!']\n"
   ]
  },
  {
   "cell_type": "markdown",
   "metadata": {},
   "source": [
    "## 2. 디코더의 문장에 시작 토큰과 종료 토큰을 넣어기\n",
    "\n",
    "- 입력 시퀀스 : ['', 'courez', '!']\n",
    "\n",
    "- 레이블 시퀀스 : ['courez', '!', ']\n",
    "\n",
    "## 3. 케라스의 토크나이저로 텍스트를 숫자로 바꾸기\n",
    "\n",
    " - 아래 링크의 2. 케라스 텍스트 전처리 참고\n",
    "https://wikidocs.net/31766\n",
    "\n",
    "- 영어와 프랑스어에 대한 토크나이저를 각각 생성하고, tokenizer.texts_to_sequences()를 사용하여 모든 샘플에 대해서 정수 시퀀스로 변환\n",
    "\n",
    "## 4. 임베딩 층(Embedding layer) 사용하기\n",
    " - 입력이 되는 각 단어를 임베딩 층을 사용해서 벡터화 하기. 아래 링크의 1. 케라스 임베딩층 참고\n",
    "\n",
    " - https://wikidocs.net/33793 \n",
    " \n",
    " - 코드 예시)\n",
    "\n",
    "```\n",
    "from tensorflow.keras.layers import Input, mbedding, Masking\n",
    "\n",
    "# 인코더에서 사용할 임베딩 층 사용 예시\n",
    "encoder_inputs = Input(shape=(None,))\n",
    "enc_emb =  Embedding(단어장의 크기, 임베딩 벡터의 차원)(encoder_inputs)\n",
    "encoder_lstm = LSTM(hidden state의 크기, return_state=True)\n",
    "encoder_outputs, state_h, state_c = encoder_lstm(enc_emb)\n",
    "```\n",
    "\n",
    "#### 주의할 점은 인코더와 디코더의 임베딩 층은 서로 다른 임베딩 층을 사용해야 하지만,\n",
    "\n",
    "디코더의 훈련 과정과 테스트 과정(예측 과정)에서의 임베딩 층은 동일해야 합니다!"
   ]
  },
  {
   "cell_type": "markdown",
   "metadata": {},
   "source": [
    "## 5. 모델 구현하기\n",
    "\n",
    "## 6. 모델 평가하기"
   ]
  },
  {
   "cell_type": "markdown",
   "metadata": {},
   "source": [
    "### 1. 정제, 정규화, 전처리 (영어, 프랑스어)\n",
    "### 1-1. 구두점(Punctuation)을 단어와 분리\n",
    "분리 전 : he is a Good boy!\n",
    "\n",
    "분리 후 : he is a Good boy !"
   ]
  },
  {
   "cell_type": "code",
   "execution_count": 13,
   "metadata": {},
   "outputs": [
    {
     "name": "stdout",
     "output_type": "stream",
     "text": [
      "전체 샘플의 수 : 33000\n"
     ]
    },
    {
     "data": {
      "text/html": [
       "<div>\n",
       "<style scoped>\n",
       "    .dataframe tbody tr th:only-of-type {\n",
       "        vertical-align: middle;\n",
       "    }\n",
       "\n",
       "    .dataframe tbody tr th {\n",
       "        vertical-align: top;\n",
       "    }\n",
       "\n",
       "    .dataframe thead th {\n",
       "        text-align: right;\n",
       "    }\n",
       "</style>\n",
       "<table border=\"1\" class=\"dataframe\">\n",
       "  <thead>\n",
       "    <tr style=\"text-align: right;\">\n",
       "      <th></th>\n",
       "      <th>eng</th>\n",
       "      <th>fra</th>\n",
       "    </tr>\n",
       "  </thead>\n",
       "  <tbody>\n",
       "    <tr>\n",
       "      <th>22452</th>\n",
       "      <td>You can't just go.</td>\n",
       "      <td>\\t Tu ne peux pas simplement t'en aller comme ...</td>\n",
       "    </tr>\n",
       "    <tr>\n",
       "      <th>19375</th>\n",
       "      <td>I like it so much.</td>\n",
       "      <td>\\t Je l'aime tant ! \\n</td>\n",
       "    </tr>\n",
       "    <tr>\n",
       "      <th>28007</th>\n",
       "      <td>You're not dressed.</td>\n",
       "      <td>\\t Vous n'êtes pas habillées. \\n</td>\n",
       "    </tr>\n",
       "    <tr>\n",
       "      <th>20218</th>\n",
       "      <td>It has cooled off.</td>\n",
       "      <td>\\t Ça s'est rafraîchi. \\n</td>\n",
       "    </tr>\n",
       "    <tr>\n",
       "      <th>23078</th>\n",
       "      <td>Check your pockets.</td>\n",
       "      <td>\\t Vérifiez vos poches ! \\n</td>\n",
       "    </tr>\n",
       "  </tbody>\n",
       "</table>\n",
       "</div>"
      ],
      "text/plain": [
       "                       eng                                                fra\n",
       "22452   You can't just go.  \\t Tu ne peux pas simplement t'en aller comme ...\n",
       "19375   I like it so much.                             \\t Je l'aime tant ! \\n\n",
       "28007  You're not dressed.                   \\t Vous n'êtes pas habillées. \\n\n",
       "20218   It has cooled off.                          \\t Ça s'est rafraîchi. \\n\n",
       "23078  Check your pockets.                        \\t Vérifiez vos poches ! \\n"
      ]
     },
     "execution_count": 13,
     "metadata": {},
     "output_type": "execute_result"
    }
   ],
   "source": [
    "import pandas as pd\n",
    "import re   \n",
    "from tensorflow.keras.preprocessing.text import Tokenizer\n",
    "from tensorflow.keras.preprocessing.sequence import pad_sequences\n",
    "from tensorflow.keras.utils import to_categorical\n",
    "import numpy as np\n",
    "import os\n",
    "\n",
    "file_path = os.getenv('HOME')+'/aiffel/translator_seq2seq/data/fra.txt'\n",
    "lines = pd.read_csv(file_path, names=['eng', 'fra', 'cc'], sep='\\t')\n",
    "num_samples = 33000\n",
    "lines = lines[['eng', 'fra']][:33000] # 3.3만개 샘플 사용\n",
    "\n",
    "sos_token = '\\t'\n",
    "eos_token = '\\n'\n",
    "lines.fra = lines.fra.apply(lambda x : '\\t '+ x + ' \\n')\n",
    "print('전체 샘플의 수 :',len(lines))\n",
    "lines.sample(5)"
   ]
  },
  {
   "cell_type": "markdown",
   "metadata": {},
   "source": [
    "#### 함수 구현\n",
    "1. 소문자 바꾸기 \n",
    "2. 특수문자 제거"
   ]
  },
  {
   "cell_type": "code",
   "execution_count": 14,
   "metadata": {},
   "outputs": [],
   "source": [
    "def preprocess_sentence(sentence):\n",
    "    sentence = sentence.lower().strip()      # 소문자로 바꾸고 양쪽 공백을 삭제\n",
    "  \n",
    "    # 아래 3단계를 거쳐 sentence는 스페이스 1개를 delimeter로 하는 소문자 단어 시퀀스로 바뀝니다.\n",
    "    sentence = re.sub(r\"([?.!,¿])\", r\" \\1 \", sentence)        # 패턴의 특수문자를 만나면 특수문자 양쪽에 공백을 추가\n",
    "    sentence = re.sub(r'[\" \"]+', \" \", sentence)                  # 공백 패턴을 만나면 스페이스 1개로 치환\n",
    "    sentence = re.sub(r\"[^a-zA-Z?'!,¿]+\", \" \", sentence)  # a-zA-Z?.!,¿ 패턴을 제외한 모든 문자(공백문자까지도)를 스페이스 1개로 치환\n",
    "\n",
    "    sentence = sentence.strip()\n",
    "\n",
    "    #sentence = '<start> ' + sentence + ' <end>'      # 이전 스텝에서 본 것처럼 문장 앞뒤로 <start>와 <end>를 단어처럼 붙여 줍니다\n",
    "    \n",
    "    return sentence"
   ]
  },
  {
   "cell_type": "code",
   "execution_count": 15,
   "metadata": {},
   "outputs": [
    {
     "data": {
      "text/html": [
       "<div>\n",
       "<style scoped>\n",
       "    .dataframe tbody tr th:only-of-type {\n",
       "        vertical-align: middle;\n",
       "    }\n",
       "\n",
       "    .dataframe tbody tr th {\n",
       "        vertical-align: top;\n",
       "    }\n",
       "\n",
       "    .dataframe thead th {\n",
       "        text-align: right;\n",
       "    }\n",
       "</style>\n",
       "<table border=\"1\" class=\"dataframe\">\n",
       "  <thead>\n",
       "    <tr style=\"text-align: right;\">\n",
       "      <th></th>\n",
       "      <th>eng</th>\n",
       "      <th>fra</th>\n",
       "    </tr>\n",
       "  </thead>\n",
       "  <tbody>\n",
       "    <tr>\n",
       "      <th>29994</th>\n",
       "      <td>i need to get a job</td>\n",
       "      <td>\\t J'ai besoin d'un emploi. \\n</td>\n",
       "    </tr>\n",
       "    <tr>\n",
       "      <th>7212</th>\n",
       "      <td>you're sleepy</td>\n",
       "      <td>\\t Tu es endormi. \\n</td>\n",
       "    </tr>\n",
       "    <tr>\n",
       "      <th>6864</th>\n",
       "      <td>we must speak</td>\n",
       "      <td>\\t Il nous faut nous parler. \\n</td>\n",
       "    </tr>\n",
       "    <tr>\n",
       "      <th>24299</th>\n",
       "      <td>i have a pain here</td>\n",
       "      <td>\\t J'ai mal ici. \\n</td>\n",
       "    </tr>\n",
       "    <tr>\n",
       "      <th>3321</th>\n",
       "      <td>can we do it ?</td>\n",
       "      <td>\\t Pouvons-nous le faire ? \\n</td>\n",
       "    </tr>\n",
       "  </tbody>\n",
       "</table>\n",
       "</div>"
      ],
      "text/plain": [
       "                       eng                              fra\n",
       "29994  i need to get a job   \\t J'ai besoin d'un emploi. \\n\n",
       "7212         you're sleepy             \\t Tu es endormi. \\n\n",
       "6864         we must speak  \\t Il nous faut nous parler. \\n\n",
       "24299   i have a pain here              \\t J'ai mal ici. \\n\n",
       "3321        can we do it ?    \\t Pouvons-nous le faire ? \\n"
      ]
     },
     "execution_count": 15,
     "metadata": {},
     "output_type": "execute_result"
    }
   ],
   "source": [
    "lines.eng = lines.eng.apply(lambda x : preprocess_sentence(x))\n",
    "lines.sample(5)"
   ]
  },
  {
   "cell_type": "markdown",
   "metadata": {},
   "source": [
    "#### 1-2. 소문자로 변환\n",
    "변환 전 : he is a Good boy !\n",
    "\n",
    "변환 후 : he is a good boy !"
   ]
  },
  {
   "cell_type": "markdown",
   "metadata": {},
   "source": [
    "#### 1-3. 띄어쓰기 단위로 토큰를 수행하세요. \n",
    "토큰화 전 : 'he is a good boy !'\n",
    "\n",
    "토큰화 후 : ['he', 'is', 'a', 'good', 'boy', '!']\n"
   ]
  },
  {
   "cell_type": "markdown",
   "metadata": {},
   "source": [
    "### 2. 디코더의 문장에 시작 토큰과 종료 토큰을 넣어기\n",
    "입력 시퀀스 : ['', 'courez', '!']\n",
    "\n",
    "레이블 시퀀스 : ['courez', '!', ']"
   ]
  },
  {
   "cell_type": "code",
   "execution_count": 16,
   "metadata": {},
   "outputs": [],
   "source": [
    "def load_preprocessed_data():\n",
    "    encoder_input, decoder_input, decoder_target = [], [], []\n",
    "    \n",
    "    with open(file_path, \"r\") as lines:\n",
    "        for i, line in enumerate(lines):\n",
    "\n",
    "            # source 데이터와 target 데이터 분리\n",
    "            src_line, tar_line, _ = line.strip().split('\\t')\n",
    "\n",
    "            # source 데이터 전처리\n",
    "            src_line_input = [w for w in preprocess_sentence(src_line).split()]\n",
    "\n",
    "            # target 데이터 전처리\n",
    "            tar_line = preprocess_sentence(tar_line)\n",
    "            tar_line_input = [w for w in (\"<sos> \" + tar_line).split()]\n",
    "            tar_line_target = [w for w in (tar_line + \" <eos>\").split()]\n",
    "\n",
    "            encoder_input.append(src_line_input)\n",
    "            decoder_input.append(tar_line_input)\n",
    "            decoder_target.append(tar_line_target)\n",
    "\n",
    "            if i == num_samples - 1:\n",
    "                break\n",
    "\n",
    "    return encoder_input, decoder_input, decoder_target"
   ]
  },
  {
   "cell_type": "code",
   "execution_count": 17,
   "metadata": {},
   "outputs": [],
   "source": [
    "sents_en_in, sents_fra_in, sents_fra_out = load_preprocessed_data()"
   ]
  },
  {
   "cell_type": "code",
   "execution_count": 19,
   "metadata": {},
   "outputs": [
    {
     "name": "stdout",
     "output_type": "stream",
     "text": [
      "[['go'], ['hi'], ['hi'], ['run', '!'], ['run', '!']]\n",
      "[['<sos>', 'va', '!'], ['<sos>', 'salut', '!'], ['<sos>', 'salut'], ['<sos>', 'cours', '!'], ['<sos>', 'courez', '!']]\n",
      "[['va', '!', '<eos>'], ['salut', '!', '<eos>'], ['salut', '<eos>'], ['cours', '!', '<eos>'], ['courez', '!', '<eos>']]\n"
     ]
    }
   ],
   "source": [
    "print(sents_en_in[:5])\n",
    "print(sents_fra_in[:5])\n",
    "print(sents_fra_out[:5])"
   ]
  },
  {
   "cell_type": "code",
   "execution_count": 20,
   "metadata": {},
   "outputs": [],
   "source": [
    "tokenizer_en = Tokenizer(filters=\"\", lower=False)\n",
    "tokenizer_en.fit_on_texts(sents_en_in)\n",
    "encoder_input = tokenizer_en.texts_to_sequences(sents_en_in)\n",
    "\n",
    "tokenizer_fra = Tokenizer(filters=\"\", lower=False)\n",
    "tokenizer_fra.fit_on_texts(sents_fra_in)\n",
    "tokenizer_fra.fit_on_texts(sents_fra_out)\n",
    "decoder_input = tokenizer_fra.texts_to_sequences(sents_fra_in)\n",
    "decoder_target = tokenizer_fra.texts_to_sequences(sents_fra_out)"
   ]
  },
  {
   "cell_type": "code",
   "execution_count": 21,
   "metadata": {},
   "outputs": [],
   "source": [
    "encoder_input = pad_sequences(encoder_input, padding=\"post\")\n",
    "decoder_input = pad_sequences(decoder_input, padding=\"post\")\n",
    "decoder_target = pad_sequences(decoder_target, padding=\"post\")"
   ]
  },
  {
   "cell_type": "markdown",
   "metadata": {},
   "source": [
    "### 3. 케라스의 토크나이저로 텍스트를 숫자로 바꾸기\n",
    "\n",
    " - 아래 링크의 2. 케라스 텍스트 전처리 참고\n",
    "https://wikidocs.net/31766\n",
    "\n",
    "- 영어와 프랑스어에 대한 토크나이저를 각각 생성하고, tokenizer.texts_to_sequences()를 사용하여 모든 샘플에 대해서 정수 시퀀스로 변환"
   ]
  },
  {
   "cell_type": "code",
   "execution_count": 22,
   "metadata": {},
   "outputs": [
    {
     "name": "stdout",
     "output_type": "stream",
     "text": [
      "영어 단어 집합의 크기 : 4761, 프랑스어 단어 집합의 크기 : 7880\n"
     ]
    }
   ],
   "source": [
    "src_vocab_size = len(tokenizer_en.word_index) + 1\n",
    "tar_vocab_size = len(tokenizer_fra.word_index) + 1\n",
    "print(\"영어 단어 집합의 크기 : {:d}, 프랑스어 단어 집합의 크기 : {:d}\".format(src_vocab_size, tar_vocab_size))"
   ]
  },
  {
   "cell_type": "code",
   "execution_count": 23,
   "metadata": {},
   "outputs": [],
   "source": [
    "src_to_index = tokenizer_en.word_index\n",
    "index_to_src = tokenizer_en.index_word # 훈련 후 결과 비교할 때 사용\n",
    "\n",
    "tar_to_index = tokenizer_fra.word_index # 훈련 후 예측 과정에서 사용\n",
    "index_to_tar = tokenizer_fra.index_word # 훈련 후 결과 비교할 때 사용"
   ]
  },
  {
   "cell_type": "code",
   "execution_count": 24,
   "metadata": {},
   "outputs": [
    {
     "name": "stdout",
     "output_type": "stream",
     "text": [
      "[ 8400 27351 27624 ... 22809   650  8712]\n"
     ]
    }
   ],
   "source": [
    "indices = np.arange(encoder_input.shape[0])\n",
    "np.random.shuffle(indices)\n",
    "print(indices)"
   ]
  },
  {
   "cell_type": "code",
   "execution_count": 25,
   "metadata": {},
   "outputs": [],
   "source": [
    "encoder_input = encoder_input[indices]\n",
    "decoder_input = decoder_input[indices]\n",
    "decoder_target = decoder_target[indices]"
   ]
  },
  {
   "cell_type": "markdown",
   "metadata": {},
   "source": [
    "### 4. 임베딩 층(Embedding layer) 사용하기\n",
    "입력이 되는 각 단어를 임베딩 층을 사용해서 벡터화 하기. 아래 링크의 1. 케라스 임베딩층 참고\n",
    "\n",
    "https://wikidocs.net/33793\n",
    "\n",
    "코드 예시)\n",
    "\n",
    "```\n",
    "from tensorflow.keras.layers import Input, mbedding, Masking\n",
    "\n",
    "# 인코더에서 사용할 임베딩 층 사용 예시\n",
    "encoder_inputs = Input(shape=(None,))\n",
    "enc_emb =  Embedding(단어장의 크기, 임베딩 벡터의 차원)(encoder_inputs)\n",
    "encoder_lstm = LSTM(hidden state의 크기, return_state=True)\n",
    "encoder_outputs, state_h, state_c = encoder_lstm(enc_emb)\n",
    "주의할 점은 인코더와 디코더의 임베딩 층은 서로 다른 임베딩 층을 사용해야 하지만,\n",
    "디코더의 훈련 과정과 테스트 과정(예측 과정)에서의 임베딩 층은 동일해야 합니다!\n",
    "```"
   ]
  },
  {
   "cell_type": "markdown",
   "metadata": {},
   "source": [
    "### 5. 모델 구현하기"
   ]
  },
  {
   "cell_type": "code",
   "execution_count": 26,
   "metadata": {},
   "outputs": [
    {
     "name": "stdout",
     "output_type": "stream",
     "text": [
      "3300\n"
     ]
    }
   ],
   "source": [
    "n_of_val = int(33000*0.1)\n",
    "print(n_of_val)"
   ]
  },
  {
   "cell_type": "code",
   "execution_count": 27,
   "metadata": {},
   "outputs": [],
   "source": [
    "encoder_input_train = encoder_input[:-n_of_val]\n",
    "decoder_input_train = decoder_input[:-n_of_val]\n",
    "decoder_target_train = decoder_target[:-n_of_val]\n",
    "\n",
    "encoder_input_test = encoder_input[-n_of_val:]\n",
    "decoder_input_test = decoder_input[-n_of_val:]\n",
    "decoder_target_test = decoder_target[-n_of_val:]"
   ]
  },
  {
   "cell_type": "code",
   "execution_count": 28,
   "metadata": {},
   "outputs": [],
   "source": [
    "from tensorflow.keras.layers import Input, LSTM, Embedding, Dense, Masking\n",
    "from tensorflow.keras.models import Model"
   ]
  },
  {
   "cell_type": "code",
   "execution_count": 29,
   "metadata": {},
   "outputs": [],
   "source": [
    "latent_dim = 50"
   ]
  },
  {
   "cell_type": "code",
   "execution_count": 30,
   "metadata": {},
   "outputs": [],
   "source": [
    "# 인코더\n",
    "encoder_inputs = Input(shape=(None,))\n",
    "enc_emb =  Embedding(src_vocab_size, latent_dim)(encoder_inputs) # 임베딩 층\n",
    "enc_masking = Masking(mask_value=0.0)(enc_emb) # 패딩 0은 연산에서 제외\n",
    "encoder_lstm = LSTM(latent_dim, return_state=True) # 상태값 리턴을 위해 return_state는 True\n",
    "encoder_outputs, state_h, state_c = encoder_lstm(enc_masking) # 은닉 상태와 셀 상태를 리턴\n",
    "encoder_states = [state_h, state_c] # 인코더의 은닉 상태와 셀 상태를 저장"
   ]
  },
  {
   "cell_type": "code",
   "execution_count": 31,
   "metadata": {},
   "outputs": [],
   "source": [
    "# 디코더\n",
    "decoder_inputs = Input(shape=(None,))\n",
    "dec_emb_layer = Embedding(tar_vocab_size, latent_dim) # 임베딩 층\n",
    "dec_emb = dec_emb_layer(decoder_inputs) # 패딩 0은 연산에서 제외\n",
    "dec_masking = Masking(mask_value=0.0)(dec_emb)\n",
    "\n",
    "# 상태값 리턴을 위해 return_state는 True, 모든 시점에 대해서 단어를 예측하기 위해 return_sequences는 True\n",
    "decoder_lstm = LSTM(latent_dim, return_sequences=True, return_state=True) \n",
    "\n",
    "# 인코더의 은닉 상태를 초기 은닉 상태(initial_state)로 사용\n",
    "decoder_outputs, _, _ = decoder_lstm(dec_masking,\n",
    "                                     initial_state=encoder_states)\n",
    "\n",
    "# 모든 시점의 결과에 대해서 소프트맥스 함수를 사용한 출력층을 통해 단어 예측\n",
    "decoder_dense = Dense(tar_vocab_size, activation='softmax')\n",
    "decoder_outputs = decoder_dense(decoder_outputs)"
   ]
  },
  {
   "cell_type": "code",
   "execution_count": 32,
   "metadata": {},
   "outputs": [],
   "source": [
    "model = Model([encoder_inputs, decoder_inputs], decoder_outputs)"
   ]
  },
  {
   "cell_type": "code",
   "execution_count": 33,
   "metadata": {},
   "outputs": [
    {
     "name": "stdout",
     "output_type": "stream",
     "text": [
      "Model: \"functional_1\"\n",
      "__________________________________________________________________________________________________\n",
      "Layer (type)                    Output Shape         Param #     Connected to                     \n",
      "==================================================================================================\n",
      "input_1 (InputLayer)            [(None, None)]       0                                            \n",
      "__________________________________________________________________________________________________\n",
      "input_2 (InputLayer)            [(None, None)]       0                                            \n",
      "__________________________________________________________________________________________________\n",
      "embedding (Embedding)           (None, None, 50)     238050      input_1[0][0]                    \n",
      "__________________________________________________________________________________________________\n",
      "embedding_1 (Embedding)         (None, None, 50)     394000      input_2[0][0]                    \n",
      "__________________________________________________________________________________________________\n",
      "masking (Masking)               (None, None, 50)     0           embedding[0][0]                  \n",
      "__________________________________________________________________________________________________\n",
      "masking_1 (Masking)             (None, None, 50)     0           embedding_1[0][0]                \n",
      "__________________________________________________________________________________________________\n",
      "lstm (LSTM)                     [(None, 50), (None,  20200       masking[0][0]                    \n",
      "__________________________________________________________________________________________________\n",
      "lstm_1 (LSTM)                   [(None, None, 50), ( 20200       masking_1[0][0]                  \n",
      "                                                                 lstm[0][1]                       \n",
      "                                                                 lstm[0][2]                       \n",
      "__________________________________________________________________________________________________\n",
      "dense (Dense)                   (None, None, 7880)   401880      lstm_1[0][0]                     \n",
      "==================================================================================================\n",
      "Total params: 1,074,330\n",
      "Trainable params: 1,074,330\n",
      "Non-trainable params: 0\n",
      "__________________________________________________________________________________________________\n"
     ]
    }
   ],
   "source": [
    "model.compile(optimizer='rmsprop', loss='sparse_categorical_crossentropy', metrics=['acc'])\n",
    "model.summary()"
   ]
  },
  {
   "cell_type": "code",
   "execution_count": 34,
   "metadata": {},
   "outputs": [
    {
     "name": "stdout",
     "output_type": "stream",
     "text": [
      "Epoch 1/50\n",
      "233/233 [==============================] - 9s 39ms/step - loss: 3.1789 - acc: 0.6414 - val_loss: 1.9853 - val_acc: 0.7027\n",
      "Epoch 2/50\n",
      "233/233 [==============================] - 8s 33ms/step - loss: 1.8532 - acc: 0.7145 - val_loss: 1.8144 - val_acc: 0.7207\n",
      "Epoch 3/50\n",
      "233/233 [==============================] - 8s 33ms/step - loss: 1.7186 - acc: 0.7282 - val_loss: 1.7014 - val_acc: 0.7368\n",
      "Epoch 4/50\n",
      "233/233 [==============================] - 8s 33ms/step - loss: 1.6019 - acc: 0.7474 - val_loss: 1.6064 - val_acc: 0.7474\n",
      "Epoch 5/50\n",
      "233/233 [==============================] - 8s 34ms/step - loss: 1.5165 - acc: 0.7572 - val_loss: 1.5553 - val_acc: 0.7560\n",
      "Epoch 6/50\n",
      "233/233 [==============================] - 8s 33ms/step - loss: 1.4477 - acc: 0.7687 - val_loss: 1.4781 - val_acc: 0.7680\n",
      "Epoch 7/50\n",
      "233/233 [==============================] - 8s 33ms/step - loss: 1.3915 - acc: 0.7769 - val_loss: 1.4289 - val_acc: 0.7748\n",
      "Epoch 8/50\n",
      "233/233 [==============================] - 8s 32ms/step - loss: 1.3458 - acc: 0.7835 - val_loss: 1.4009 - val_acc: 0.7820\n",
      "Epoch 9/50\n",
      "233/233 [==============================] - 8s 32ms/step - loss: 1.3049 - acc: 0.7891 - val_loss: 1.3662 - val_acc: 0.7867\n",
      "Epoch 10/50\n",
      "233/233 [==============================] - 8s 33ms/step - loss: 1.2692 - acc: 0.7942 - val_loss: 1.3420 - val_acc: 0.7887\n",
      "Epoch 11/50\n",
      "233/233 [==============================] - 8s 32ms/step - loss: 1.2368 - acc: 0.7985 - val_loss: 1.3161 - val_acc: 0.7940\n",
      "Epoch 12/50\n",
      "233/233 [==============================] - 8s 32ms/step - loss: 1.2074 - acc: 0.8026 - val_loss: 1.2899 - val_acc: 0.7973\n",
      "Epoch 13/50\n",
      "233/233 [==============================] - 8s 34ms/step - loss: 1.1797 - acc: 0.8066 - val_loss: 1.2807 - val_acc: 0.7970\n",
      "Epoch 14/50\n",
      "233/233 [==============================] - 8s 33ms/step - loss: 1.1534 - acc: 0.8099 - val_loss: 1.2573 - val_acc: 0.8013\n",
      "Epoch 15/50\n",
      "233/233 [==============================] - 8s 32ms/step - loss: 1.1289 - acc: 0.8129 - val_loss: 1.2312 - val_acc: 0.8040\n",
      "Epoch 16/50\n",
      "233/233 [==============================] - 8s 32ms/step - loss: 1.1054 - acc: 0.8158 - val_loss: 1.2141 - val_acc: 0.8062\n",
      "Epoch 17/50\n",
      "233/233 [==============================] - 8s 33ms/step - loss: 1.0841 - acc: 0.8183 - val_loss: 1.2041 - val_acc: 0.8092\n",
      "Epoch 18/50\n",
      "233/233 [==============================] - 8s 34ms/step - loss: 1.0639 - acc: 0.8208 - val_loss: 1.1820 - val_acc: 0.8111\n",
      "Epoch 19/50\n",
      "233/233 [==============================] - 8s 34ms/step - loss: 1.0455 - acc: 0.8232 - val_loss: 1.1635 - val_acc: 0.8123\n",
      "Epoch 20/50\n",
      "233/233 [==============================] - 8s 34ms/step - loss: 1.0276 - acc: 0.8254 - val_loss: 1.1579 - val_acc: 0.8133\n",
      "Epoch 21/50\n",
      "233/233 [==============================] - 8s 33ms/step - loss: 1.0103 - acc: 0.8278 - val_loss: 1.1605 - val_acc: 0.8132\n",
      "Epoch 22/50\n",
      "233/233 [==============================] - 8s 33ms/step - loss: 0.9937 - acc: 0.8301 - val_loss: 1.1461 - val_acc: 0.8158\n",
      "Epoch 23/50\n",
      "233/233 [==============================] - 8s 33ms/step - loss: 0.9778 - acc: 0.8322 - val_loss: 1.1243 - val_acc: 0.8180\n",
      "Epoch 24/50\n",
      "233/233 [==============================] - 8s 34ms/step - loss: 0.9620 - acc: 0.8341 - val_loss: 1.1281 - val_acc: 0.8177\n",
      "Epoch 25/50\n",
      "233/233 [==============================] - 8s 33ms/step - loss: 0.9469 - acc: 0.8360 - val_loss: 1.1155 - val_acc: 0.8183\n",
      "Epoch 26/50\n",
      "233/233 [==============================] - 8s 33ms/step - loss: 0.9322 - acc: 0.8380 - val_loss: 1.1014 - val_acc: 0.8215\n",
      "Epoch 27/50\n",
      "233/233 [==============================] - 8s 34ms/step - loss: 0.9179 - acc: 0.8401 - val_loss: 1.0897 - val_acc: 0.8225\n",
      "Epoch 28/50\n",
      "233/233 [==============================] - 8s 33ms/step - loss: 0.9041 - acc: 0.8421 - val_loss: 1.0800 - val_acc: 0.8224\n",
      "Epoch 29/50\n",
      "233/233 [==============================] - 8s 33ms/step - loss: 0.8907 - acc: 0.8442 - val_loss: 1.0710 - val_acc: 0.8244\n",
      "Epoch 30/50\n",
      "233/233 [==============================] - 8s 32ms/step - loss: 0.8775 - acc: 0.8458 - val_loss: 1.0683 - val_acc: 0.8246\n",
      "Epoch 31/50\n",
      "233/233 [==============================] - 8s 32ms/step - loss: 0.8658 - acc: 0.8477 - val_loss: 1.0574 - val_acc: 0.8255\n",
      "Epoch 32/50\n",
      "233/233 [==============================] - 8s 33ms/step - loss: 0.8539 - acc: 0.8501 - val_loss: 1.0523 - val_acc: 0.8265\n",
      "Epoch 33/50\n",
      "233/233 [==============================] - 8s 33ms/step - loss: 0.8429 - acc: 0.8519 - val_loss: 1.0525 - val_acc: 0.8253\n",
      "Epoch 34/50\n",
      "233/233 [==============================] - 8s 33ms/step - loss: 0.8327 - acc: 0.8536 - val_loss: 1.0350 - val_acc: 0.8298\n",
      "Epoch 35/50\n",
      "233/233 [==============================] - 8s 33ms/step - loss: 0.8224 - acc: 0.8555 - val_loss: 1.0228 - val_acc: 0.8320\n",
      "Epoch 36/50\n",
      "233/233 [==============================] - 8s 33ms/step - loss: 0.8132 - acc: 0.8572 - val_loss: 1.0272 - val_acc: 0.8320\n",
      "Epoch 37/50\n",
      "233/233 [==============================] - 8s 33ms/step - loss: 0.8037 - acc: 0.8593 - val_loss: 1.0266 - val_acc: 0.8310\n",
      "Epoch 38/50\n",
      "233/233 [==============================] - 8s 33ms/step - loss: 0.7949 - acc: 0.8608 - val_loss: 1.0143 - val_acc: 0.8329\n",
      "Epoch 39/50\n",
      "233/233 [==============================] - 8s 33ms/step - loss: 0.7862 - acc: 0.8626 - val_loss: 1.0226 - val_acc: 0.8323\n",
      "Epoch 40/50\n",
      "233/233 [==============================] - 8s 33ms/step - loss: 0.7776 - acc: 0.8642 - val_loss: 1.0143 - val_acc: 0.8332\n",
      "Epoch 41/50\n",
      "233/233 [==============================] - 8s 33ms/step - loss: 0.7694 - acc: 0.8657 - val_loss: 0.9993 - val_acc: 0.8364\n",
      "Epoch 42/50\n",
      "233/233 [==============================] - 8s 34ms/step - loss: 0.7613 - acc: 0.8674 - val_loss: 1.0108 - val_acc: 0.8344\n",
      "Epoch 43/50\n",
      "233/233 [==============================] - 8s 34ms/step - loss: 0.7541 - acc: 0.8686 - val_loss: 0.9927 - val_acc: 0.8371\n",
      "Epoch 44/50\n",
      "233/233 [==============================] - 8s 34ms/step - loss: 0.7467 - acc: 0.8702 - val_loss: 1.0002 - val_acc: 0.8371\n",
      "Epoch 45/50\n",
      "233/233 [==============================] - 9s 37ms/step - loss: 0.7400 - acc: 0.8714 - val_loss: 0.9883 - val_acc: 0.8378\n",
      "Epoch 46/50\n",
      "233/233 [==============================] - 8s 33ms/step - loss: 0.7337 - acc: 0.8728 - val_loss: 0.9890 - val_acc: 0.8383\n",
      "Epoch 47/50\n",
      "233/233 [==============================] - 8s 33ms/step - loss: 0.7277 - acc: 0.8739 - val_loss: 0.9990 - val_acc: 0.8368\n",
      "Epoch 48/50\n",
      "233/233 [==============================] - 8s 33ms/step - loss: 0.7221 - acc: 0.8753 - val_loss: 0.9836 - val_acc: 0.8398\n",
      "Epoch 49/50\n",
      "233/233 [==============================] - 8s 32ms/step - loss: 0.7163 - acc: 0.8768 - val_loss: 0.9922 - val_acc: 0.8376\n",
      "Epoch 50/50\n",
      "233/233 [==============================] - 8s 32ms/step - loss: 0.7108 - acc: 0.8778 - val_loss: 0.9831 - val_acc: 0.8404\n"
     ]
    },
    {
     "data": {
      "text/plain": [
       "<tensorflow.python.keras.callbacks.History at 0x7f52543bb350>"
      ]
     },
     "execution_count": 34,
     "metadata": {},
     "output_type": "execute_result"
    }
   ],
   "source": [
    "model.fit(x = [encoder_input_train, decoder_input_train], y = decoder_target_train, \\\n",
    "          validation_data = ([encoder_input_test, decoder_input_test], decoder_target_test),\n",
    "          batch_size = 128, epochs = 50)"
   ]
  },
  {
   "cell_type": "code",
   "execution_count": null,
   "metadata": {},
   "outputs": [],
   "source": []
  },
  {
   "cell_type": "markdown",
   "metadata": {},
   "source": [
    "### 6. 모델 평가하기"
   ]
  },
  {
   "cell_type": "code",
   "execution_count": 35,
   "metadata": {},
   "outputs": [],
   "source": [
    "encoder_model = Model(encoder_inputs, encoder_states)"
   ]
  },
  {
   "cell_type": "code",
   "execution_count": 36,
   "metadata": {},
   "outputs": [],
   "source": [
    "decoder_state_input_h = Input(shape=(latent_dim,))\n",
    "decoder_state_input_c = Input(shape=(latent_dim,))\n",
    "decoder_states_inputs = [decoder_state_input_h, decoder_state_input_c]\n",
    "\n",
    "# 훈련 때 사용했던 임베딩 층을 재사용\n",
    "dec_emb2= dec_emb_layer(decoder_inputs)\n",
    "\n",
    "# 다음 단어 예측을 위해 이전 시점의 상태를 현 시점의 초기 상태로 사용\n",
    "decoder_outputs2, state_h2, state_c2 = decoder_lstm(dec_emb2, initial_state=decoder_states_inputs)\n",
    "decoder_states2 = [state_h2, state_c2]\n",
    "\n",
    "# 모든 시점에 대해서 단어 예측\n",
    "decoder_outputs2 = decoder_dense(decoder_outputs2)"
   ]
  },
  {
   "cell_type": "code",
   "execution_count": 37,
   "metadata": {},
   "outputs": [],
   "source": [
    "decoder_model = Model(\n",
    "    [decoder_inputs] + decoder_states_inputs,\n",
    "    [decoder_outputs2] + decoder_states2)"
   ]
  },
  {
   "cell_type": "code",
   "execution_count": 38,
   "metadata": {},
   "outputs": [],
   "source": [
    "def decode_sequence(input_seq):\n",
    "    # 입력으로부터 인코더의 상태를 얻음\n",
    "    states_value = encoder_model.predict(input_seq)\n",
    "\n",
    "    # <SOS>에 해당하는 정수 생성\n",
    "    target_seq = np.zeros((1,1))\n",
    "    target_seq[0, 0] = tar_to_index['<sos>']\n",
    "\n",
    "    stop_condition = False\n",
    "    decoded_sentence = ''\n",
    "\n",
    "    # stop_condition이 True가 될 때까지 루프 반복\n",
    "    # 구현의 간소화를 위해서 이 함수는 배치 크기를 1로 가정합니다.\n",
    "    while not stop_condition:\n",
    "        # 이점 시점의 상태 states_value를 현 시점의 초기 상태로 사용\n",
    "        output_tokens, h, c = decoder_model.predict([target_seq] + states_value)\n",
    "\n",
    "        # 예측 결과를 단어로 변환\n",
    "        sampled_token_index = np.argmax(output_tokens[0, -1, :])\n",
    "        sampled_char = index_to_tar[sampled_token_index]\n",
    "\n",
    "         # 현재 시점의 예측 단어를 예측 문장에 추가\n",
    "        decoded_sentence += ' '+sampled_char\n",
    "\n",
    "        # <eos>에 도달하거나 정해진 길이를 넘으면 중단.\n",
    "        if (sampled_char == '<eos>' or\n",
    "           len(decoded_sentence) > 50):\n",
    "            stop_condition = True\n",
    "\n",
    "        # 현재 시점의 예측 결과를 다음 시점의 입력으로 사용하기 위해 저장\n",
    "        target_seq = np.zeros((1,1))\n",
    "        target_seq[0, 0] = sampled_token_index\n",
    "\n",
    "        # 현재 시점의 상태를 다음 시점의 상태로 사용하기 위해 저장\n",
    "        states_value = [h, c]\n",
    "\n",
    "    return decoded_sentence"
   ]
  },
  {
   "cell_type": "code",
   "execution_count": 39,
   "metadata": {},
   "outputs": [],
   "source": [
    "def seq2src(input_seq):\n",
    "    temp=''\n",
    "    for i in input_seq:\n",
    "        if(i!=0):\n",
    "            temp = temp + index_to_src[i]+' '\n",
    "    return temp\n",
    "\n",
    "# 번역문의 정수 시퀀스를 텍스트 시퀀스로 변환\n",
    "def seq2tar(input_seq):\n",
    "    temp=''\n",
    "    for i in input_seq:\n",
    "        if((i!=0 and i!=tar_to_index['<sos>']) and i!=tar_to_index['<eos>']):\n",
    "            temp = temp + index_to_tar[i] + ' '\n",
    "    return temp"
   ]
  },
  {
   "cell_type": "code",
   "execution_count": 40,
   "metadata": {},
   "outputs": [
    {
     "name": "stdout",
     "output_type": "stream",
     "text": [
      "원문 :  you aren't invited \n",
      "번역문 : vous n' tes pas invit s \n",
      "예측문 :  vous n' tes pas invit e \n",
      "\n",
      "\n",
      "원문 :  he is tall and lean \n",
      "번역문 : il est grand et mince \n",
      "예측문 :  il est d sol e \n",
      "\n",
      "\n",
      "원문 :  you're so sweet \n",
      "번역문 : vous tes tellement gentilles ! \n",
      "예측문 :  vous tes si bonne chance \n",
      "\n",
      "\n",
      "원문 :  i hate losing \n",
      "번역문 : je d teste avoir le dessous \n",
      "예측문 :  je d teste le chien \n",
      "\n",
      "\n",
      "원문 :  we're having lunch \n",
      "번역문 : nous sommes en train de d jeuner \n",
      "예측문 :  nous pr mes pr par s r \n",
      "\n",
      "\n"
     ]
    }
   ],
   "source": [
    "for seq_index in [3,50,100,300,1001]:\n",
    "  input_seq = encoder_input_train[seq_index: seq_index + 1]\n",
    "  decoded_sentence = decode_sequence(input_seq)\n",
    "\n",
    "  print(\"원문 : \",seq2src(encoder_input_train[seq_index]))\n",
    "  print(\"번역문 :\",seq2tar(decoder_input_train[seq_index]))\n",
    "  print(\"예측문 :\",decoded_sentence[:-5])\n",
    "  print(\"\\n\")"
   ]
  },
  {
   "cell_type": "code",
   "execution_count": 41,
   "metadata": {},
   "outputs": [
    {
     "name": "stdout",
     "output_type": "stream",
     "text": [
      "원문 :  can i go now ? \n",
      "번역문 : puis je partir maintenant ? \n",
      "예측문 :  puis je aller maintenant ? \n",
      "\n",
      "\n",
      "원문 :  just do your job \n",
      "번역문 : faites simplement votre travail ! \n",
      "예측문 :  fais ton travail ne peuvent ! \n",
      "\n",
      "\n",
      "원문 :  i'm not pretty \n",
      "번역문 : je ne suis pas jolie \n",
      "예측문 :  je ne suis pas si idiot \n",
      "\n",
      "\n",
      "원문 :  did anyone care ? \n",
      "번역문 : quiconque s'en est il souci ? \n",
      "예측문 :  quiconque est il l soit trouv ? \n",
      "\n",
      "\n",
      "원문 :  you were perfect \n",
      "번역문 : vous f tes parfaite \n",
      "예측문 :  vous avez t parfait \n",
      "\n",
      "\n"
     ]
    }
   ],
   "source": [
    "for seq_index in [3,50,100,300,1001]:\n",
    "  input_seq = encoder_input_test[seq_index: seq_index + 1]\n",
    "  decoded_sentence = decode_sequence(input_seq)\n",
    "\n",
    "  print(\"원문 : \",seq2src(encoder_input_test[seq_index]))\n",
    "  print(\"번역문 :\",seq2tar(decoder_input_test[seq_index]))\n",
    "  print(\"예측문 :\",decoded_sentence[:-5])\n",
    "  print(\"\\n\")"
   ]
  },
  {
   "cell_type": "code",
   "execution_count": null,
   "metadata": {},
   "outputs": [],
   "source": []
  },
  {
   "cell_type": "code",
   "execution_count": null,
   "metadata": {},
   "outputs": [],
   "source": []
  },
  {
   "cell_type": "code",
   "execution_count": null,
   "metadata": {},
   "outputs": [],
   "source": []
  }
 ],
 "metadata": {
  "kernelspec": {
   "display_name": "Python 3",
   "language": "python",
   "name": "python3"
  },
  "language_info": {
   "codemirror_mode": {
    "name": "ipython",
    "version": 3
   },
   "file_extension": ".py",
   "mimetype": "text/x-python",
   "name": "python",
   "nbconvert_exporter": "python",
   "pygments_lexer": "ipython3",
   "version": "3.7.6"
  }
 },
 "nbformat": 4,
 "nbformat_minor": 4
}
