{
 "cells": [
  {
   "cell_type": "code",
   "execution_count": 1,
   "metadata": {},
   "outputs": [],
   "source": [
    "import tensorflow as tf\n",
    "\n",
    "from sklearn.metrics import roc_curve, auc, accuracy_score, confusion_matrix, precision_recall_curve, average_precision_score\n",
    "from scipy.interpolate import interp1d\n",
    "from inspect import signature\n",
    "from scipy.optimize import brentq\n",
    "\n",
    "import glob\n",
    "import imageio\n",
    "import matplotlib.pyplot as plt\n",
    "import numpy as np\n",
    "import os\n",
    "\n",
    "import PIL\n",
    "from tensorflow.keras import layers\n",
    "import time\n",
    "from scipy.stats import norm\n",
    "\n",
    "from IPython import display"
   ]
  },
  {
   "cell_type": "code",
   "execution_count": 2,
   "metadata": {},
   "outputs": [
    {
     "name": "stdout",
     "output_type": "stream",
     "text": [
      "(60000, 32, 32, 1)\n",
      "(10000, 32, 32, 1)\n"
     ]
    }
   ],
   "source": [
    "(train_data, train_labels), (test_data, test_labels) = tf.keras.datasets.fashion_mnist.load_data()\n",
    "\n",
    "train_data = (train_data - 127.5) / 127.5\n",
    "test_data = (test_data - 127.5) / 127.5\n",
    "\n",
    "from PIL import Image\n",
    "\n",
    "# Fashion MNIST padding to 32 X 32\n",
    "train_data_32 = np.zeros((train_data.shape[0], 32, 32)).astype('float32')\n",
    "test_data_32 = np.zeros((test_data.shape[0], 32, 32)).astype('float32')     \n",
    "train_data_32[:, 2:30, 2:30] = train_data\n",
    "test_data_32[:, 2:30, 2:30] = test_data\n",
    "\n",
    "# 1channel data reshape\n",
    "train_data = train_data_32.reshape(train_data_32.shape[0], 32, 32, 1).astype('float32')\n",
    "test_data = test_data_32.reshape(test_data_32.shape[0], 32, 32, 1).astype('float32')\n",
    "\n",
    "print(train_data.shape)\n",
    "print(test_data.shape)"
   ]
  },
  {
   "cell_type": "code",
   "execution_count": 3,
   "metadata": {},
   "outputs": [
    {
     "data": {
      "image/png": "[encoded data removed]",
      "text/plain": [
       "<Figure size 720x360 with 10 Axes>"
      ]
     },
     "metadata": {
      "needs_background": "light"
     },
     "output_type": "display_data"
    }
   ],
   "source": [
    "plt.figure(figsize=(10, 5))\n",
    "\n",
    "for i in range(10):\n",
    "    plt.subplot(2, 5, i+1)\n",
    "    plt.imshow(train_data[i].reshape(32, 32), cmap='gray')\n",
    "    plt.title(f'index: {i}')\n",
    "    plt.axis('off')\n",
    "plt.show()"
   ]
  },
  {
   "cell_type": "code",
   "execution_count": 4,
   "metadata": {},
   "outputs": [],
   "source": [
    "def set_labels(labels):\n",
    "    new_t_labels = []\n",
    "    for old_label in labels:\n",
    "        if old_label == 8:   # Bag:8\n",
    "            new_t_labels.append([0])  # Bag을 이상치로 처리\n",
    "        else:\n",
    "            new_t_labels.append([1])  # 그 외의 경우는 정상치\n",
    "             \n",
    "    return np.array(new_t_labels)"
   ]
  },
  {
   "cell_type": "code",
   "execution_count": 5,
   "metadata": {},
   "outputs": [],
   "source": [
    "bol_train_labels = set_labels(train_labels)\n",
    "bol_test_labels = set_labels(test_labels)"
   ]
  },
  {
   "cell_type": "code",
   "execution_count": 6,
   "metadata": {},
   "outputs": [],
   "source": [
    "normal_data = []\n",
    "normal_labels = []\n",
    "anomaly_data = []\n",
    "anomaly_labels = []\n",
    "for data, label in zip(train_data, bol_train_labels):\n",
    "    if label == 0:\n",
    "        anomaly_data.append(data)\n",
    "        anomaly_labels.append(label)\n",
    "    else:\n",
    "        normal_data.append(data)\n",
    "        normal_labels.append(label)\n",
    "        \n",
    "normal_data = np.array(normal_data)\n",
    "normal_labels = np.array(normal_labels)\n",
    "anomaly_data = np.array(anomaly_data)\n",
    "anomaly_labels = np.array(anomaly_labels)"
   ]
  },
  {
   "cell_type": "code",
   "execution_count": 7,
   "metadata": {},
   "outputs": [
    {
     "name": "stdout",
     "output_type": "stream",
     "text": [
      "(54000, 32, 32, 1) (54000, 1)\n",
      "(6000, 32, 32, 1) (6000, 1)\n"
     ]
    }
   ],
   "source": [
    "print(normal_data.shape, normal_labels.shape)\n",
    "print(anomaly_data.shape, anomaly_labels.shape)"
   ]
  },
  {
   "cell_type": "code",
   "execution_count": 8,
   "metadata": {},
   "outputs": [],
   "source": [
    "train_data = normal_data\n",
    "bol_train_labels = normal_labels\n",
    "test_data = tf.concat([test_data, anomaly_data], 0)\n",
    "bol_test_labels = tf.concat([bol_test_labels, anomaly_labels], 0)"
   ]
  },
  {
   "cell_type": "code",
   "execution_count": 9,
   "metadata": {},
   "outputs": [
    {
     "name": "stdout",
     "output_type": "stream",
     "text": [
      "(54000, 32, 32, 1)\n",
      "(16000, 32, 32, 1)\n"
     ]
    }
   ],
   "source": [
    "print(train_data.shape)\n",
    "print(test_data.shape)"
   ]
  },
  {
   "cell_type": "code",
   "execution_count": 10,
   "metadata": {},
   "outputs": [
    {
     "name": "stdout",
     "output_type": "stream",
     "text": [
      "(54000, 1)\n",
      "(16000, 1)\n"
     ]
    }
   ],
   "source": [
    "print(bol_train_labels.shape)\n",
    "print(bol_test_labels.shape)"
   ]
  },
  {
   "cell_type": "code",
   "execution_count": 11,
   "metadata": {},
   "outputs": [
    {
     "name": "stdout",
     "output_type": "stream",
     "text": [
      "Done\n"
     ]
    }
   ],
   "source": [
    "for label in bol_train_labels:\n",
    "    if label == 0:\n",
    "        print(label)\n",
    "print(\"Done\")"
   ]
  },
  {
   "cell_type": "code",
   "execution_count": 12,
   "metadata": {},
   "outputs": [],
   "source": [
    "BUFFER_SIZE = 10000\n",
    "BATCH_SIZE = 8\n",
    "\n",
    "train_dataset = tf.data.Dataset.from_tensor_slices((train_data, bol_train_labels))\n",
    "train_dataset = train_dataset.shuffle(BUFFER_SIZE).batch(BATCH_SIZE)\n",
    "\n",
    "test_dataset = tf.data.Dataset.from_tensor_slices((test_data, bol_test_labels))\n",
    "test_dataset = test_dataset.shuffle(BUFFER_SIZE).batch(BATCH_SIZE)"
   ]
  },
  {
   "cell_type": "code",
   "execution_count": 13,
   "metadata": {},
   "outputs": [
    {
     "name": "stdout",
     "output_type": "stream",
     "text": [
      "tf.Tensor(\n",
      "[[1]\n",
      " [1]\n",
      " [1]\n",
      " [1]\n",
      " [1]\n",
      " [1]\n",
      " [1]\n",
      " [1]], shape=(8, 1), dtype=int64)\n"
     ]
    }
   ],
   "source": [
    "for data, label in train_dataset.take(1):\n",
    "    print(label)"
   ]
  },
  {
   "cell_type": "code",
   "execution_count": 14,
   "metadata": {},
   "outputs": [
    {
     "name": "stdout",
     "output_type": "stream",
     "text": [
      "tf.Tensor(\n",
      "[[1]\n",
      " [1]\n",
      " [1]\n",
      " [1]\n",
      " [0]\n",
      " [1]\n",
      " [0]\n",
      " [1]], shape=(8, 1), dtype=int64)\n"
     ]
    }
   ],
   "source": [
    "for data, label in test_dataset.take(1):\n",
    "    print(label)"
   ]
  },
  {
   "cell_type": "code",
   "execution_count": 15,
   "metadata": {},
   "outputs": [],
   "source": [
    "class Conv_block(tf.keras.Model):\n",
    "    def __init__(self, num_filters):\n",
    "        super(Conv_block, self).__init__()\n",
    "        self.conv_layer = tf.keras.Sequential([\n",
    "            layers.Conv2D(num_filters, 3, strides=2, padding='same', use_bias=False,\n",
    "                          kernel_initializer=tf.random_normal_initializer(0., 0.02)),\n",
    "            layers.BatchNormalization(),\n",
    "            layers.LeakyReLU(0.2),\n",
    "        ])\n",
    "        \n",
    "    def call(self, inputs, training=False):\n",
    "        outputs = self.conv_layer(inputs)\n",
    "        \n",
    "        return outputs"
   ]
  },
  {
   "cell_type": "code",
   "execution_count": 16,
   "metadata": {},
   "outputs": [],
   "source": [
    "class Conv_T_block(tf.keras.Model):\n",
    "    def __init__(self, num_filters):\n",
    "        super(Conv_T_block, self).__init__()\n",
    "        self.conv_T_layer = tf.keras.Sequential([\n",
    "            layers.Conv2DTranspose(num_filters, 3, strides=2, padding='same', use_bias=False,\n",
    "                                   kernel_initializer=tf.random_normal_initializer(0., 0.02)),\n",
    "            layers.BatchNormalization(),\n",
    "            layers.ReLU(),\n",
    "        ])\n",
    "        \n",
    "    def call(self, inputs, concat, training=False):\n",
    "        upsample = self.conv_T_layer(inputs)\n",
    "        outputs = tf.concat([upsample, concat], -1)\n",
    "        \n",
    "        return outputs"
   ]
  },
  {
   "cell_type": "code",
   "execution_count": 17,
   "metadata": {},
   "outputs": [],
   "source": [
    "class Generator(tf.keras.Model):\n",
    "    def __init__(self, num_output_channel=3):\n",
    "        super(Generator, self).__init__()\n",
    "        self.encoder_1 = Conv_block(64) # 16\n",
    "        self.encoder_2 = Conv_block(128) # 8\n",
    "        self.encoder_3 = Conv_block(256) # 4\n",
    "        self.encoder_4 = Conv_block(512) # 2\n",
    "        \n",
    "        self.center = Conv_block(512) # 1\n",
    "        \n",
    "        self.decoder_4 = Conv_T_block(512) # 2\n",
    "        self.decoder_3 = Conv_T_block(256) # 4\n",
    "        self.decoder_2 = Conv_T_block(128) # 8\n",
    "        self.decoder_1 = Conv_T_block(64) # 16\n",
    "        \n",
    "        self.output_layer = layers.Conv2DTranspose(num_output_channel, 1, strides=2, padding='same', use_bias=False, # 32\n",
    "                                                   kernel_initializer=tf.random_normal_initializer(0., 0.02))\n",
    "                \n",
    "    def call(self, inputs, training=False):\n",
    "        en_1 = self.encoder_1(inputs) # gen\n",
    "        en_2 = self.encoder_2(en_1)\n",
    "        en_3 = self.encoder_3(en_2)\n",
    "        en_4 = self.encoder_4(en_3)\n",
    "        \n",
    "        center = self.center(en_4)\n",
    "        \n",
    "        de_4 = self.decoder_4(center, en_4)\n",
    "        de_3 = self.decoder_3(de_4, en_3)\n",
    "        de_2 = self.decoder_2(de_3, en_2)\n",
    "        de_1 = self.decoder_1(de_2, en_1)\n",
    "        \n",
    "        outputs = self.output_layer(de_1)\n",
    "        \n",
    "        return outputs"
   ]
  },
  {
   "cell_type": "code",
   "execution_count": 18,
   "metadata": {},
   "outputs": [],
   "source": [
    "class Discriminator(tf.keras.Model):\n",
    "    def __init__(self):\n",
    "        super(Discriminator, self).__init__()\n",
    "        self.encoder_1 = Conv_block(64) # 16\n",
    "        self.encoder_2 = Conv_block(128) # 8\n",
    "        self.encoder_3 = Conv_block(256) # 4\n",
    "        self.encoder_4 = Conv_block(512) # 2\n",
    "        \n",
    "        self.center = Conv_block(100) # 1\n",
    "        \n",
    "        self.outputs = layers.Conv2D(1, 3, strides=1, padding='same',\n",
    "                                          use_bias=False, activation='sigmoid')\n",
    "    \n",
    "    def call(self, inputs, training=False):\n",
    "        en_1 = self.encoder_1(inputs) # dis\n",
    "        en_2 = self.encoder_2(en_1)\n",
    "        en_3 = self.encoder_3(en_2)\n",
    "        en_4 = self.encoder_4(en_3)\n",
    "        \n",
    "        center = self.center(en_4)\n",
    "        \n",
    "        outputs = self.outputs(center)\n",
    "        \n",
    "        return outputs, center"
   ]
  },
  {
   "cell_type": "code",
   "execution_count": 19,
   "metadata": {},
   "outputs": [],
   "source": [
    "generator = Generator(num_output_channel=1)  # Generator가 32X32X1 짜리 이미지를 생성해야 합니다. \n",
    "discriminator = Discriminator()"
   ]
  },
  {
   "cell_type": "code",
   "execution_count": 20,
   "metadata": {},
   "outputs": [],
   "source": [
    "l2_loss = tf.keras.losses.MeanSquaredError()\n",
    "l1_loss = tf.keras.losses.MeanAbsoluteError()\n",
    "cross_entropy = tf.keras.losses.BinaryCrossentropy(from_logits=False)"
   ]
  },
  {
   "cell_type": "code",
   "execution_count": 21,
   "metadata": {},
   "outputs": [],
   "source": [
    "def discriminator_loss(pred_real, pred_fake):\n",
    "    real_loss = cross_entropy(tf.ones_like(pred_real), pred_real)\n",
    "    fake_loss = cross_entropy(tf.zeros_like(pred_fake), pred_fake)\n",
    "    \n",
    "    total_dis_loss = (real_loss + fake_loss) * 0.5\n",
    "    \n",
    "    return total_dis_loss"
   ]
  },
  {
   "cell_type": "code",
   "execution_count": 22,
   "metadata": {},
   "outputs": [],
   "source": [
    "def generator_loss(real_output, fake_output, input_data, gen_data, latent_first, latent_sec):\n",
    "    w_adv = 1.\n",
    "    w_context = 40.\n",
    "    w_encoder = 1.\n",
    "    \n",
    "    adv_loss = cross_entropy(real_output, fake_output)\n",
    "    context_loss = l1_loss(input_data, gen_data)\n",
    "    encoder_loss = l2_loss(latent_first, latent_sec)\n",
    "    \n",
    "    total_gen_loss = w_adv * adv_loss + \\\n",
    "                     w_context * context_loss + \\\n",
    "                     w_encoder * encoder_loss\n",
    "    \n",
    "    return total_gen_loss"
   ]
  },
  {
   "cell_type": "code",
   "execution_count": 23,
   "metadata": {},
   "outputs": [],
   "source": [
    "# Optimizer 설정\n",
    "generator_optimizer = tf.keras.optimizers.Adam(2e-3, 0.5)\n",
    "discriminator_optimizer = tf.keras.optimizers.Adam(2e-3, 0.5)"
   ]
  },
  {
   "cell_type": "code",
   "execution_count": 24,
   "metadata": {},
   "outputs": [],
   "source": [
    "def train_step(images):\n",
    "    with tf.GradientTape() as gen_tape, tf.GradientTape() as disc_tape:\n",
    "        generated_images = generator(images, training=True)\n",
    "        \n",
    "        pred_real, feat_real = discriminator(images, training=True)\n",
    "        pred_fake, feat_fake = discriminator(generated_images, training=True)\n",
    "\n",
    "        gen_loss = generator_loss(pred_real, pred_fake,\n",
    "                                  images, generated_images,\n",
    "                                  feat_real, feat_fake)\n",
    "\n",
    "        disc_loss = discriminator_loss(pred_real, pred_fake)        \n",
    "\n",
    "    gradients_of_generator = gen_tape.gradient(gen_loss, generator.trainable_variables)\n",
    "    gradients_of_discriminator = disc_tape.gradient(disc_loss, discriminator.trainable_variables)\n",
    "\n",
    "    generator_optimizer.apply_gradients(zip(gradients_of_generator, generator.trainable_variables))\n",
    "    discriminator_optimizer.apply_gradients(zip(gradients_of_discriminator, discriminator.trainable_variables))\n",
    "    \n",
    "    return gen_loss, disc_loss"
   ]
  },
  {
   "cell_type": "code",
   "execution_count": 25,
   "metadata": {},
   "outputs": [],
   "source": [
    "checkpoint_path = os.path.join(os.getenv('HOME'),'aiffel/ganomaly_skip_no_norm/ckpt')\n",
    "\n",
    "if not os.path.isdir(checkpoint_path):\n",
    "    os.makedirs(checkpoint_path)\n",
    "checkpoint = tf.train.Checkpoint(generator_optimizer=generator_optimizer,\n",
    "                                 discriminator_optimizer=discriminator_optimizer,\n",
    "                                 generator=generator,\n",
    "                                 discriminator=discriminator)"
   ]
  },
  {
   "cell_type": "code",
   "execution_count": 30,
   "metadata": {},
   "outputs": [
    {
     "name": "stdout",
     "output_type": "stream",
     "text": [
      "Steps : 100, \t Total Gen Loss : 30.37959861755371, \t Total Dis Loss : 0.0015587876550853252\n",
      "Steps : 200, \t Total Gen Loss : 30.332420349121094, \t Total Dis Loss : 0.003452947363257408\n",
      "Steps : 300, \t Total Gen Loss : 29.90044593811035, \t Total Dis Loss : 0.0003504113119561225\n",
      "Steps : 400, \t Total Gen Loss : 30.034093856811523, \t Total Dis Loss : 0.0004987683496437967\n",
      "Steps : 500, \t Total Gen Loss : 31.128765106201172, \t Total Dis Loss : 4.926184919895604e-05\n",
      "Steps : 600, \t Total Gen Loss : 28.205957412719727, \t Total Dis Loss : 0.0006169606349430978\n",
      "Steps : 700, \t Total Gen Loss : 30.47907829284668, \t Total Dis Loss : 0.00026139229885302484\n",
      "Steps : 800, \t Total Gen Loss : 30.661102294921875, \t Total Dis Loss : 9.76066367002204e-05\n",
      "Steps : 900, \t Total Gen Loss : 31.167226791381836, \t Total Dis Loss : 0.0015922600869089365\n",
      "Steps : 1000, \t Total Gen Loss : 30.250551223754883, \t Total Dis Loss : 0.0008385974797420204\n",
      "Steps : 1100, \t Total Gen Loss : 27.18029022216797, \t Total Dis Loss : 0.013124171644449234\n",
      "Steps : 1200, \t Total Gen Loss : 30.49480438232422, \t Total Dis Loss : 0.0002557030238676816\n",
      "Steps : 1300, \t Total Gen Loss : 29.02297019958496, \t Total Dis Loss : 0.0011792001314461231\n",
      "Steps : 1400, \t Total Gen Loss : 28.947864532470703, \t Total Dis Loss : 0.000706529535818845\n",
      "Steps : 1500, \t Total Gen Loss : 29.399770736694336, \t Total Dis Loss : 0.0013092195149511099\n",
      "Steps : 1600, \t Total Gen Loss : 29.51966094970703, \t Total Dis Loss : 0.0015366256702691317\n",
      "Steps : 1700, \t Total Gen Loss : 28.696914672851562, \t Total Dis Loss : 0.000262370245764032\n",
      "Steps : 1800, \t Total Gen Loss : 29.067684173583984, \t Total Dis Loss : 0.0015849156770855188\n",
      "Steps : 1900, \t Total Gen Loss : 27.6404972076416, \t Total Dis Loss : 0.0023419447243213654\n",
      "Steps : 2000, \t Total Gen Loss : 31.106895446777344, \t Total Dis Loss : 0.0007497556507587433\n",
      "Steps : 2100, \t Total Gen Loss : 28.812355041503906, \t Total Dis Loss : 0.0008924430003389716\n",
      "Steps : 2200, \t Total Gen Loss : 27.84052276611328, \t Total Dis Loss : 0.01481290441006422\n",
      "Steps : 2300, \t Total Gen Loss : 28.732393264770508, \t Total Dis Loss : 0.0005835328483954072\n",
      "Steps : 2400, \t Total Gen Loss : 30.556957244873047, \t Total Dis Loss : 8.771283319219947e-05\n",
      "Steps : 2500, \t Total Gen Loss : 30.4729061126709, \t Total Dis Loss : 0.0003146716917399317\n",
      "Steps : 2600, \t Total Gen Loss : 31.00169563293457, \t Total Dis Loss : 0.0002991174114868045\n",
      "Steps : 2700, \t Total Gen Loss : 29.113256454467773, \t Total Dis Loss : 0.04077170789241791\n",
      "Steps : 2800, \t Total Gen Loss : 30.218881607055664, \t Total Dis Loss : 0.0019180160015821457\n",
      "Steps : 2900, \t Total Gen Loss : 29.89682388305664, \t Total Dis Loss : 0.008194906637072563\n",
      "Steps : 3000, \t Total Gen Loss : 31.966724395751953, \t Total Dis Loss : 0.011998758651316166\n",
      "Steps : 3100, \t Total Gen Loss : 32.5639762878418, \t Total Dis Loss : 0.014271016232669353\n",
      "Steps : 3200, \t Total Gen Loss : 35.057613372802734, \t Total Dis Loss : 0.0012532458640635014\n",
      "Steps : 3300, \t Total Gen Loss : 31.904552459716797, \t Total Dis Loss : 0.002535797655582428\n",
      "Steps : 3400, \t Total Gen Loss : 31.146085739135742, \t Total Dis Loss : 0.001478367019444704\n",
      "Steps : 3500, \t Total Gen Loss : 31.490909576416016, \t Total Dis Loss : 0.0010721611324697733\n",
      "Steps : 3600, \t Total Gen Loss : 31.958354949951172, \t Total Dis Loss : 0.007086847443133593\n",
      "Steps : 3700, \t Total Gen Loss : 31.0183162689209, \t Total Dis Loss : 0.002474617911502719\n",
      "Steps : 3800, \t Total Gen Loss : 36.718017578125, \t Total Dis Loss : 0.0010776437120512128\n",
      "Steps : 3900, \t Total Gen Loss : 30.516183853149414, \t Total Dis Loss : 0.007150881923735142\n",
      "Steps : 4000, \t Total Gen Loss : 31.93781852722168, \t Total Dis Loss : 0.0012457510456442833\n",
      "Steps : 4100, \t Total Gen Loss : 33.42268753051758, \t Total Dis Loss : 0.001664541196078062\n",
      "Steps : 4200, \t Total Gen Loss : 32.442352294921875, \t Total Dis Loss : 0.0010201948462054133\n",
      "Steps : 4300, \t Total Gen Loss : 32.692962646484375, \t Total Dis Loss : 0.001083962619304657\n",
      "Steps : 4400, \t Total Gen Loss : 29.63941192626953, \t Total Dis Loss : 0.04919299855828285\n",
      "Steps : 4500, \t Total Gen Loss : 32.567317962646484, \t Total Dis Loss : 0.0007069657440297306\n",
      "Steps : 4600, \t Total Gen Loss : 31.187461853027344, \t Total Dis Loss : 0.0025035913567990065\n",
      "Steps : 4700, \t Total Gen Loss : 30.321744918823242, \t Total Dis Loss : 0.0006539869937114418\n",
      "Steps : 4800, \t Total Gen Loss : 30.59073257446289, \t Total Dis Loss : 0.0003505900676827878\n",
      "Steps : 4900, \t Total Gen Loss : 30.953838348388672, \t Total Dis Loss : 0.0013961889781057835\n",
      "Steps : 5000, \t Total Gen Loss : 29.935075759887695, \t Total Dis Loss : 0.1455974280834198\n",
      "Steps : 5100, \t Total Gen Loss : 31.222604751586914, \t Total Dis Loss : 0.0034812712110579014\n",
      "Steps : 5200, \t Total Gen Loss : 33.07728576660156, \t Total Dis Loss : 0.0003975885920226574\n",
      "Steps : 5300, \t Total Gen Loss : 31.263412475585938, \t Total Dis Loss : 0.0006712758331559598\n",
      "Steps : 5400, \t Total Gen Loss : 30.178524017333984, \t Total Dis Loss : 0.0005420905654318631\n",
      "Steps : 5500, \t Total Gen Loss : 30.512680053710938, \t Total Dis Loss : 0.0010951883159577847\n",
      "Steps : 5600, \t Total Gen Loss : 31.908082962036133, \t Total Dis Loss : 0.002006552182137966\n",
      "Steps : 5700, \t Total Gen Loss : 33.76250076293945, \t Total Dis Loss : 0.0025150522124022245\n",
      "Steps : 5800, \t Total Gen Loss : 30.73331069946289, \t Total Dis Loss : 0.002600342035293579\n",
      "Steps : 5900, \t Total Gen Loss : 31.85588836669922, \t Total Dis Loss : 0.00040193667518906295\n",
      "Steps : 6000, \t Total Gen Loss : 32.12759780883789, \t Total Dis Loss : 0.002470031613484025\n",
      "Steps : 6100, \t Total Gen Loss : 30.78915786743164, \t Total Dis Loss : 0.002950538881123066\n",
      "Steps : 6200, \t Total Gen Loss : 31.253604888916016, \t Total Dis Loss : 0.017215263098478317\n",
      "Steps : 6300, \t Total Gen Loss : 28.426755905151367, \t Total Dis Loss : 0.0014761855127289891\n",
      "Steps : 6400, \t Total Gen Loss : 29.57096290588379, \t Total Dis Loss : 0.0019272988429293036\n",
      "Steps : 6500, \t Total Gen Loss : 28.347803115844727, \t Total Dis Loss : 0.0007599543314427137\n",
      "Steps : 6600, \t Total Gen Loss : 32.6335563659668, \t Total Dis Loss : 0.0004313871613703668\n",
      "Steps : 6700, \t Total Gen Loss : 33.43448257446289, \t Total Dis Loss : 0.0010597540531307459\n",
      "Time for epoch 1 is 351.70124983787537 sec\n",
      "Steps : 6800, \t Total Gen Loss : 30.720684051513672, \t Total Dis Loss : 0.015374709852039814\n",
      "Steps : 6900, \t Total Gen Loss : 32.35047149658203, \t Total Dis Loss : 0.0012545620556920767\n",
      "Steps : 7000, \t Total Gen Loss : 32.0139045715332, \t Total Dis Loss : 0.002688542939722538\n",
      "Steps : 7100, \t Total Gen Loss : 30.305618286132812, \t Total Dis Loss : 0.013578912243247032\n",
      "Steps : 7200, \t Total Gen Loss : 30.4926700592041, \t Total Dis Loss : 0.010966540314257145\n",
      "Steps : 7300, \t Total Gen Loss : 33.27408981323242, \t Total Dis Loss : 0.002719518728554249\n",
      "Steps : 7400, \t Total Gen Loss : 31.54604721069336, \t Total Dis Loss : 0.0012540637981146574\n",
      "Steps : 7500, \t Total Gen Loss : 31.612224578857422, \t Total Dis Loss : 0.0027869301848113537\n",
      "Steps : 7600, \t Total Gen Loss : 31.20252227783203, \t Total Dis Loss : 0.0015055880649015307\n",
      "Steps : 7700, \t Total Gen Loss : 32.10347366333008, \t Total Dis Loss : 0.0015410562045872211\n",
      "Steps : 7800, \t Total Gen Loss : 31.2236328125, \t Total Dis Loss : 0.0005982662551105022\n",
      "Steps : 7900, \t Total Gen Loss : 29.806833267211914, \t Total Dis Loss : 0.0017755567096173763\n",
      "Steps : 8000, \t Total Gen Loss : 30.733280181884766, \t Total Dis Loss : 0.0008159606950357556\n",
      "Steps : 8100, \t Total Gen Loss : 29.09457015991211, \t Total Dis Loss : 0.0005149446660652757\n",
      "Steps : 8200, \t Total Gen Loss : 30.597379684448242, \t Total Dis Loss : 0.0019411456305533648\n",
      "Steps : 8300, \t Total Gen Loss : 30.62472915649414, \t Total Dis Loss : 0.001306689577177167\n",
      "Steps : 8400, \t Total Gen Loss : 30.166879653930664, \t Total Dis Loss : 0.0008720721234567463\n",
      "Steps : 8500, \t Total Gen Loss : 29.265308380126953, \t Total Dis Loss : 0.003453500336036086\n",
      "Steps : 8600, \t Total Gen Loss : 35.30208206176758, \t Total Dis Loss : 0.0035151743795722723\n",
      "Steps : 8700, \t Total Gen Loss : 32.2912483215332, \t Total Dis Loss : 0.004398334305733442\n",
      "Steps : 8800, \t Total Gen Loss : 30.47429847717285, \t Total Dis Loss : 0.026716232299804688\n"
     ]
    },
    {
     "name": "stdout",
     "output_type": "stream",
     "text": [
      "Steps : 8900, \t Total Gen Loss : 30.512435913085938, \t Total Dis Loss : 0.002702775876969099\n",
      "Steps : 9000, \t Total Gen Loss : 31.003610610961914, \t Total Dis Loss : 0.0011082467390224338\n",
      "Steps : 9100, \t Total Gen Loss : 32.6804313659668, \t Total Dis Loss : 0.010673555545508862\n",
      "Steps : 9200, \t Total Gen Loss : 31.426454544067383, \t Total Dis Loss : 0.0011484276037663221\n",
      "Steps : 9300, \t Total Gen Loss : 30.953262329101562, \t Total Dis Loss : 0.0016151982126757503\n",
      "Steps : 9400, \t Total Gen Loss : 33.10356521606445, \t Total Dis Loss : 0.0015854556113481522\n",
      "Steps : 9500, \t Total Gen Loss : 31.494014739990234, \t Total Dis Loss : 0.003380544250831008\n",
      "Steps : 9600, \t Total Gen Loss : 30.551239013671875, \t Total Dis Loss : 0.4987736940383911\n",
      "Steps : 9700, \t Total Gen Loss : 29.30673599243164, \t Total Dis Loss : 0.003581955563277006\n",
      "Steps : 9800, \t Total Gen Loss : 29.60118865966797, \t Total Dis Loss : 0.0073826927691698074\n",
      "Steps : 9900, \t Total Gen Loss : 31.713333129882812, \t Total Dis Loss : 0.0012897445121780038\n",
      "Steps : 10000, \t Total Gen Loss : 31.533584594726562, \t Total Dis Loss : 0.0010062232613563538\n",
      "Steps : 10100, \t Total Gen Loss : 31.02142333984375, \t Total Dis Loss : 0.0004192887572571635\n",
      "Steps : 10200, \t Total Gen Loss : 29.47115135192871, \t Total Dis Loss : 0.00156793009955436\n",
      "Steps : 10300, \t Total Gen Loss : 34.53466796875, \t Total Dis Loss : 0.004915020428597927\n",
      "Steps : 10400, \t Total Gen Loss : 32.540706634521484, \t Total Dis Loss : 0.0006411299691535532\n",
      "Steps : 10500, \t Total Gen Loss : 32.72309494018555, \t Total Dis Loss : 0.0010559569345787168\n",
      "Steps : 10600, \t Total Gen Loss : 31.32773208618164, \t Total Dis Loss : 0.00257663382217288\n",
      "Steps : 10700, \t Total Gen Loss : 31.7801513671875, \t Total Dis Loss : 0.000593527453020215\n",
      "Steps : 10800, \t Total Gen Loss : 31.63202667236328, \t Total Dis Loss : 0.000940605707000941\n",
      "Steps : 10900, \t Total Gen Loss : 32.427162170410156, \t Total Dis Loss : 0.00040414539398625493\n",
      "Steps : 11000, \t Total Gen Loss : 30.336206436157227, \t Total Dis Loss : 0.0004477409238461405\n",
      "Steps : 11100, \t Total Gen Loss : 31.796335220336914, \t Total Dis Loss : 0.0013794138794764876\n",
      "Steps : 11200, \t Total Gen Loss : 31.777202606201172, \t Total Dis Loss : 0.0005613660323433578\n",
      "Steps : 11300, \t Total Gen Loss : 33.60040283203125, \t Total Dis Loss : 0.0010229205945506692\n",
      "Steps : 11400, \t Total Gen Loss : 32.66885757446289, \t Total Dis Loss : 0.0006934035336598754\n",
      "Steps : 11500, \t Total Gen Loss : 33.24130630493164, \t Total Dis Loss : 0.0017922519473358989\n",
      "Steps : 11600, \t Total Gen Loss : 32.32662582397461, \t Total Dis Loss : 0.016103027388453484\n",
      "Steps : 11700, \t Total Gen Loss : 32.987274169921875, \t Total Dis Loss : 0.00045435826177708805\n",
      "Steps : 11800, \t Total Gen Loss : 32.5628547668457, \t Total Dis Loss : 0.0025913603603839874\n",
      "Steps : 11900, \t Total Gen Loss : 32.37498092651367, \t Total Dis Loss : 0.0008029314922168851\n",
      "Steps : 12000, \t Total Gen Loss : 32.203983306884766, \t Total Dis Loss : 0.00047192699275910854\n",
      "Steps : 12100, \t Total Gen Loss : 33.824466705322266, \t Total Dis Loss : 0.00026865664403885603\n",
      "Steps : 12200, \t Total Gen Loss : 33.520729064941406, \t Total Dis Loss : 0.00030813319608569145\n",
      "Steps : 12300, \t Total Gen Loss : 30.837364196777344, \t Total Dis Loss : 0.0007679053233005106\n",
      "Steps : 12400, \t Total Gen Loss : 28.797269821166992, \t Total Dis Loss : 0.010381007567048073\n",
      "Steps : 12500, \t Total Gen Loss : 28.544069290161133, \t Total Dis Loss : 0.06742530316114426\n",
      "Steps : 12600, \t Total Gen Loss : 31.123390197753906, \t Total Dis Loss : 0.07585430890321732\n",
      "Steps : 12700, \t Total Gen Loss : 34.211517333984375, \t Total Dis Loss : 0.0011054277420043945\n",
      "Steps : 12800, \t Total Gen Loss : 33.59828186035156, \t Total Dis Loss : 0.0005517419194802642\n",
      "Steps : 12900, \t Total Gen Loss : 29.842031478881836, \t Total Dis Loss : 0.0012988452799618244\n",
      "Steps : 13000, \t Total Gen Loss : 29.74757957458496, \t Total Dis Loss : 0.0007943602977320552\n",
      "Steps : 13100, \t Total Gen Loss : 31.505218505859375, \t Total Dis Loss : 0.0008285909425467253\n",
      "Steps : 13200, \t Total Gen Loss : 31.411344528198242, \t Total Dis Loss : 0.00041112693725153804\n",
      "Steps : 13300, \t Total Gen Loss : 32.690067291259766, \t Total Dis Loss : 0.000363874773029238\n",
      "Steps : 13400, \t Total Gen Loss : 30.316965103149414, \t Total Dis Loss : 0.0028232650365680456\n",
      "Steps : 13500, \t Total Gen Loss : 29.421924591064453, \t Total Dis Loss : 0.0008561454596929252\n",
      "Time for epoch 2 is 415.66268658638 sec\n",
      "Steps : 13600, \t Total Gen Loss : 32.66914749145508, \t Total Dis Loss : 0.0009430174250155687\n",
      "Steps : 13700, \t Total Gen Loss : 30.640350341796875, \t Total Dis Loss : 0.0010697162942960858\n",
      "Steps : 13800, \t Total Gen Loss : 31.36281967163086, \t Total Dis Loss : 0.0019665248692035675\n",
      "Steps : 13900, \t Total Gen Loss : 31.46234130859375, \t Total Dis Loss : 0.00048547491314820945\n",
      "Steps : 14000, \t Total Gen Loss : 31.4119815826416, \t Total Dis Loss : 0.013182354159653187\n",
      "Steps : 14100, \t Total Gen Loss : 30.29207992553711, \t Total Dis Loss : 0.0009664802346378565\n",
      "Steps : 14200, \t Total Gen Loss : 32.82516860961914, \t Total Dis Loss : 0.20713740587234497\n",
      "Steps : 14300, \t Total Gen Loss : 33.23968505859375, \t Total Dis Loss : 0.00036499870475381613\n",
      "Steps : 14400, \t Total Gen Loss : 29.121980667114258, \t Total Dis Loss : 0.0031495948787778616\n",
      "Steps : 14500, \t Total Gen Loss : 33.288475036621094, \t Total Dis Loss : 0.012430178932845592\n",
      "Steps : 14600, \t Total Gen Loss : 32.081844329833984, \t Total Dis Loss : 0.0006761723780073225\n",
      "Steps : 14700, \t Total Gen Loss : 32.267269134521484, \t Total Dis Loss : 0.0006937709404155612\n",
      "Steps : 14800, \t Total Gen Loss : 32.95677947998047, \t Total Dis Loss : 0.0005672521074302495\n",
      "Steps : 14900, \t Total Gen Loss : 32.33340835571289, \t Total Dis Loss : 0.0008868383010849357\n",
      "Steps : 15000, \t Total Gen Loss : 31.220163345336914, \t Total Dis Loss : 0.03718451038002968\n",
      "Steps : 15100, \t Total Gen Loss : 30.588542938232422, \t Total Dis Loss : 0.00048592485836707056\n",
      "Steps : 15200, \t Total Gen Loss : 33.605403900146484, \t Total Dis Loss : 0.0008225631318055093\n",
      "Steps : 15300, \t Total Gen Loss : 30.159879684448242, \t Total Dis Loss : 0.0226422268897295\n",
      "Steps : 15400, \t Total Gen Loss : 31.31273078918457, \t Total Dis Loss : 0.0017940399702638388\n",
      "Steps : 15500, \t Total Gen Loss : 34.09903335571289, \t Total Dis Loss : 0.0022589208092540503\n",
      "Steps : 15600, \t Total Gen Loss : 32.884803771972656, \t Total Dis Loss : 0.00046834422391839325\n",
      "Steps : 15700, \t Total Gen Loss : 33.43098831176758, \t Total Dis Loss : 0.0015510384691879153\n",
      "Steps : 15800, \t Total Gen Loss : 31.98180389404297, \t Total Dis Loss : 0.0008777822367846966\n",
      "Steps : 15900, \t Total Gen Loss : 31.529481887817383, \t Total Dis Loss : 0.0008896505460143089\n",
      "Steps : 16000, \t Total Gen Loss : 32.63058853149414, \t Total Dis Loss : 0.0008678692975081503\n",
      "Steps : 16100, \t Total Gen Loss : 31.963411331176758, \t Total Dis Loss : 0.005485696252435446\n",
      "Steps : 16200, \t Total Gen Loss : 31.850019454956055, \t Total Dis Loss : 0.0020336410962045193\n",
      "Steps : 16300, \t Total Gen Loss : 30.097244262695312, \t Total Dis Loss : 0.0022042514756321907\n",
      "Steps : 16400, \t Total Gen Loss : 31.475088119506836, \t Total Dis Loss : 0.0010850841645151377\n",
      "Steps : 16500, \t Total Gen Loss : 33.78916549682617, \t Total Dis Loss : 0.0029628537595272064\n",
      "Steps : 16600, \t Total Gen Loss : 33.09601974487305, \t Total Dis Loss : 0.01138628926128149\n",
      "Steps : 16700, \t Total Gen Loss : 30.57799530029297, \t Total Dis Loss : 0.0016769944922998548\n",
      "Steps : 16800, \t Total Gen Loss : 29.531959533691406, \t Total Dis Loss : 0.003092346014454961\n",
      "Steps : 16900, \t Total Gen Loss : 34.50651550292969, \t Total Dis Loss : 0.0031032611150294542\n",
      "Steps : 17000, \t Total Gen Loss : 33.14053726196289, \t Total Dis Loss : 0.0016497864853590727\n",
      "Steps : 17100, \t Total Gen Loss : 32.52897644042969, \t Total Dis Loss : 0.001385422539897263\n",
      "Steps : 17200, \t Total Gen Loss : 33.62773513793945, \t Total Dis Loss : 0.0016589593142271042\n",
      "Steps : 17300, \t Total Gen Loss : 34.11790466308594, \t Total Dis Loss : 0.002166459569707513\n",
      "Steps : 17400, \t Total Gen Loss : 34.98400115966797, \t Total Dis Loss : 0.0003534065617714077\n",
      "Steps : 17500, \t Total Gen Loss : 33.44154357910156, \t Total Dis Loss : 0.008351421914994717\n"
     ]
    },
    {
     "name": "stdout",
     "output_type": "stream",
     "text": [
      "Steps : 17600, \t Total Gen Loss : 33.64118194580078, \t Total Dis Loss : 0.000619197846390307\n",
      "Steps : 17700, \t Total Gen Loss : 33.0833740234375, \t Total Dis Loss : 0.0004977376665920019\n",
      "Steps : 17800, \t Total Gen Loss : 33.34765625, \t Total Dis Loss : 0.00020299605967011303\n",
      "Steps : 17900, \t Total Gen Loss : 34.220550537109375, \t Total Dis Loss : 0.00015708488353993744\n",
      "Steps : 18000, \t Total Gen Loss : 30.576940536499023, \t Total Dis Loss : 0.002053576521575451\n",
      "Steps : 18100, \t Total Gen Loss : 33.34306335449219, \t Total Dis Loss : 0.0003183399676345289\n",
      "Steps : 18200, \t Total Gen Loss : 30.510961532592773, \t Total Dis Loss : 0.00024368250160478055\n",
      "Steps : 18300, \t Total Gen Loss : 31.188495635986328, \t Total Dis Loss : 0.0034905087668448687\n",
      "Steps : 18400, \t Total Gen Loss : 28.313634872436523, \t Total Dis Loss : 0.001223771134391427\n",
      "Steps : 18500, \t Total Gen Loss : 34.355037689208984, \t Total Dis Loss : 0.0006141242920421064\n",
      "Steps : 18600, \t Total Gen Loss : 31.87984275817871, \t Total Dis Loss : 0.0013118641218170524\n",
      "Steps : 18700, \t Total Gen Loss : 33.39249038696289, \t Total Dis Loss : 0.005049359053373337\n",
      "Steps : 18800, \t Total Gen Loss : 34.74402618408203, \t Total Dis Loss : 0.00039234088035300374\n",
      "Steps : 18900, \t Total Gen Loss : 30.974353790283203, \t Total Dis Loss : 0.0005921269184909761\n",
      "Steps : 19000, \t Total Gen Loss : 31.347625732421875, \t Total Dis Loss : 0.001984698697924614\n",
      "Steps : 19100, \t Total Gen Loss : 33.76249694824219, \t Total Dis Loss : 0.00112646643538028\n",
      "Steps : 19200, \t Total Gen Loss : 31.753189086914062, \t Total Dis Loss : 0.0015811121556907892\n",
      "Steps : 19300, \t Total Gen Loss : 32.35082244873047, \t Total Dis Loss : 0.013953239656984806\n",
      "Steps : 19400, \t Total Gen Loss : 33.657501220703125, \t Total Dis Loss : 0.0010806419886648655\n",
      "Steps : 19500, \t Total Gen Loss : 32.15983963012695, \t Total Dis Loss : 0.0015084098558872938\n",
      "Steps : 19600, \t Total Gen Loss : 32.595123291015625, \t Total Dis Loss : 0.0009366705198772252\n",
      "Steps : 19700, \t Total Gen Loss : 29.635433197021484, \t Total Dis Loss : 0.0017566618043929338\n",
      "Steps : 19800, \t Total Gen Loss : 32.3234977722168, \t Total Dis Loss : 0.0012805636506527662\n",
      "Steps : 19900, \t Total Gen Loss : 31.537145614624023, \t Total Dis Loss : 0.0002629532536957413\n",
      "Steps : 20000, \t Total Gen Loss : 34.45281982421875, \t Total Dis Loss : 0.00036048275069333613\n",
      "Steps : 20100, \t Total Gen Loss : 32.823631286621094, \t Total Dis Loss : 0.001460685976780951\n",
      "Steps : 20200, \t Total Gen Loss : 33.55946350097656, \t Total Dis Loss : 0.002113457303494215\n",
      "Time for epoch 3 is 414.9776759147644 sec\n",
      "Steps : 20300, \t Total Gen Loss : 35.767826080322266, \t Total Dis Loss : 0.0004052963340654969\n",
      "Steps : 20400, \t Total Gen Loss : 32.65972137451172, \t Total Dis Loss : 0.0017642354359850287\n",
      "Steps : 20500, \t Total Gen Loss : 33.87649154663086, \t Total Dis Loss : 0.0004959544166922569\n",
      "Steps : 20600, \t Total Gen Loss : 31.58049201965332, \t Total Dis Loss : 0.0004944975953549147\n",
      "Steps : 20700, \t Total Gen Loss : 31.59515953063965, \t Total Dis Loss : 0.0005220199236646295\n",
      "Steps : 20800, \t Total Gen Loss : 34.7749137878418, \t Total Dis Loss : 0.0009075384587049484\n",
      "Steps : 20900, \t Total Gen Loss : 34.40763854980469, \t Total Dis Loss : 0.0054053496569395065\n",
      "Steps : 21000, \t Total Gen Loss : 33.51608657836914, \t Total Dis Loss : 0.001446378417313099\n",
      "Steps : 21100, \t Total Gen Loss : 30.208539962768555, \t Total Dis Loss : 0.0006495058769360185\n",
      "Steps : 21200, \t Total Gen Loss : 33.217987060546875, \t Total Dis Loss : 0.0002070491755148396\n",
      "Steps : 21300, \t Total Gen Loss : 31.30156898498535, \t Total Dis Loss : 0.00400471081957221\n",
      "Steps : 21400, \t Total Gen Loss : 33.3453483581543, \t Total Dis Loss : 0.0004731009539682418\n",
      "Steps : 21500, \t Total Gen Loss : 30.484935760498047, \t Total Dis Loss : 0.0011217943392693996\n",
      "Steps : 21600, \t Total Gen Loss : 32.31327438354492, \t Total Dis Loss : 0.00021949506481178105\n",
      "Steps : 21700, \t Total Gen Loss : 34.5588493347168, \t Total Dis Loss : 0.0003543523489497602\n",
      "Steps : 21800, \t Total Gen Loss : 32.140193939208984, \t Total Dis Loss : 0.4059160649776459\n",
      "Steps : 21900, \t Total Gen Loss : 28.761119842529297, \t Total Dis Loss : 0.022690171375870705\n",
      "Steps : 22000, \t Total Gen Loss : 33.32554626464844, \t Total Dis Loss : 0.0007349271909333766\n",
      "Steps : 22100, \t Total Gen Loss : 29.080585479736328, \t Total Dis Loss : 0.0018003876321017742\n",
      "Steps : 22200, \t Total Gen Loss : 28.412446975708008, \t Total Dis Loss : 0.508476734161377\n",
      "Steps : 22300, \t Total Gen Loss : 31.90729331970215, \t Total Dis Loss : 0.007825592532753944\n",
      "Steps : 22400, \t Total Gen Loss : 30.627254486083984, \t Total Dis Loss : 0.0213811956346035\n",
      "Steps : 22500, \t Total Gen Loss : 34.62495803833008, \t Total Dis Loss : 0.0006645453395321965\n",
      "Steps : 22600, \t Total Gen Loss : 34.20191955566406, \t Total Dis Loss : 0.0013067590771242976\n",
      "Steps : 22700, \t Total Gen Loss : 31.686487197875977, \t Total Dis Loss : 0.0007505780085921288\n",
      "Steps : 22800, \t Total Gen Loss : 33.04293441772461, \t Total Dis Loss : 0.029940204694867134\n",
      "Steps : 22900, \t Total Gen Loss : 31.308420181274414, \t Total Dis Loss : 0.010007640346884727\n",
      "Steps : 23000, \t Total Gen Loss : 34.38136672973633, \t Total Dis Loss : 0.012448013760149479\n",
      "Steps : 23100, \t Total Gen Loss : 32.578128814697266, \t Total Dis Loss : 0.00478229159489274\n",
      "Steps : 23200, \t Total Gen Loss : 34.45359420776367, \t Total Dis Loss : 0.00027219337061978877\n",
      "Steps : 23300, \t Total Gen Loss : 34.83699417114258, \t Total Dis Loss : 0.0007630857871845365\n",
      "Steps : 23400, \t Total Gen Loss : 32.73792266845703, \t Total Dis Loss : 0.0014452253235504031\n",
      "Steps : 23500, \t Total Gen Loss : 32.45006561279297, \t Total Dis Loss : 0.00020512483024504036\n",
      "Steps : 23600, \t Total Gen Loss : 32.806575775146484, \t Total Dis Loss : 0.0064685228280723095\n",
      "Steps : 23700, \t Total Gen Loss : 33.6160774230957, \t Total Dis Loss : 0.000486033852212131\n",
      "Steps : 23800, \t Total Gen Loss : 32.65461349487305, \t Total Dis Loss : 0.00017739764007274061\n",
      "Steps : 23900, \t Total Gen Loss : 32.12229537963867, \t Total Dis Loss : 0.00048613580293022096\n",
      "Steps : 24000, \t Total Gen Loss : 37.12519836425781, \t Total Dis Loss : 0.0004893291043117642\n",
      "Steps : 24100, \t Total Gen Loss : 32.38919448852539, \t Total Dis Loss : 0.0004535456537269056\n",
      "Steps : 24200, \t Total Gen Loss : 31.564403533935547, \t Total Dis Loss : 0.0018279849318787456\n",
      "Steps : 24300, \t Total Gen Loss : 34.3035888671875, \t Total Dis Loss : 0.0002922117128036916\n",
      "Steps : 24400, \t Total Gen Loss : 33.25584411621094, \t Total Dis Loss : 0.0002764223318081349\n",
      "Steps : 24500, \t Total Gen Loss : 34.04816818237305, \t Total Dis Loss : 0.003602218348532915\n",
      "Steps : 24600, \t Total Gen Loss : 34.1307373046875, \t Total Dis Loss : 0.000864996574819088\n",
      "Steps : 24700, \t Total Gen Loss : 33.820186614990234, \t Total Dis Loss : 0.0003491840325295925\n",
      "Steps : 24800, \t Total Gen Loss : 32.622154235839844, \t Total Dis Loss : 0.0005906920414417982\n",
      "Steps : 24900, \t Total Gen Loss : 32.4984130859375, \t Total Dis Loss : 0.0007098070345818996\n",
      "Steps : 25000, \t Total Gen Loss : 31.923566818237305, \t Total Dis Loss : 0.0007269641500897706\n",
      "Steps : 25100, \t Total Gen Loss : 31.92679214477539, \t Total Dis Loss : 0.0017535805236548185\n",
      "Steps : 25200, \t Total Gen Loss : 30.654264450073242, \t Total Dis Loss : 0.0007493157754652202\n",
      "Steps : 25300, \t Total Gen Loss : 30.40553092956543, \t Total Dis Loss : 0.0013288967311382294\n",
      "Steps : 25400, \t Total Gen Loss : 32.03450012207031, \t Total Dis Loss : 0.0016627504955977201\n",
      "Steps : 25500, \t Total Gen Loss : 33.882930755615234, \t Total Dis Loss : 0.00017277372535318136\n",
      "Steps : 25600, \t Total Gen Loss : 32.601951599121094, \t Total Dis Loss : 0.0010096951154991984\n",
      "Steps : 25700, \t Total Gen Loss : 35.455833435058594, \t Total Dis Loss : 0.00022831483511254191\n",
      "Steps : 25800, \t Total Gen Loss : 35.25178146362305, \t Total Dis Loss : 0.00017698065494187176\n",
      "Steps : 25900, \t Total Gen Loss : 33.54623794555664, \t Total Dis Loss : 0.0003324946737848222\n",
      "Steps : 26000, \t Total Gen Loss : 33.801212310791016, \t Total Dis Loss : 0.00022395547421183437\n",
      "Steps : 26100, \t Total Gen Loss : 33.4852294921875, \t Total Dis Loss : 0.002075175754725933\n",
      "Steps : 26200, \t Total Gen Loss : 36.20042419433594, \t Total Dis Loss : 0.0005209832452237606\n"
     ]
    },
    {
     "name": "stdout",
     "output_type": "stream",
     "text": [
      "Steps : 26300, \t Total Gen Loss : 34.4869270324707, \t Total Dis Loss : 0.00026440160581842065\n",
      "Steps : 26400, \t Total Gen Loss : 31.448965072631836, \t Total Dis Loss : 0.0021524387411773205\n",
      "Steps : 26500, \t Total Gen Loss : 30.674741744995117, \t Total Dis Loss : 0.001356750726699829\n",
      "Steps : 26600, \t Total Gen Loss : 36.5028190612793, \t Total Dis Loss : 0.0001673072256380692\n",
      "Steps : 26700, \t Total Gen Loss : 32.75950241088867, \t Total Dis Loss : 0.0009160332265309989\n",
      "Steps : 26800, \t Total Gen Loss : 31.204092025756836, \t Total Dis Loss : 0.0010738573037087917\n",
      "Steps : 26900, \t Total Gen Loss : 32.69697952270508, \t Total Dis Loss : 0.00020433431200217456\n",
      "Steps : 27000, \t Total Gen Loss : 32.84028625488281, \t Total Dis Loss : 0.00045467138988897204\n",
      "Time for epoch 4 is 416.6502101421356 sec\n",
      "Steps : 27100, \t Total Gen Loss : 32.694454193115234, \t Total Dis Loss : 0.000487496901769191\n",
      "Steps : 27200, \t Total Gen Loss : 33.57573699951172, \t Total Dis Loss : 0.000326937937643379\n",
      "Steps : 27300, \t Total Gen Loss : 31.83255386352539, \t Total Dis Loss : 0.0006006341427564621\n",
      "Steps : 27400, \t Total Gen Loss : 33.524227142333984, \t Total Dis Loss : 0.0006532216793857515\n",
      "Steps : 27500, \t Total Gen Loss : 35.69450759887695, \t Total Dis Loss : 0.00017122244753409177\n",
      "Steps : 27600, \t Total Gen Loss : 32.26007080078125, \t Total Dis Loss : 0.00538895046338439\n",
      "Steps : 27700, \t Total Gen Loss : 33.8360710144043, \t Total Dis Loss : 0.004942086059600115\n",
      "Steps : 27800, \t Total Gen Loss : 32.80121612548828, \t Total Dis Loss : 0.0006623810040764511\n",
      "Steps : 27900, \t Total Gen Loss : 34.971649169921875, \t Total Dis Loss : 0.001079905079677701\n",
      "Steps : 28000, \t Total Gen Loss : 33.725669860839844, \t Total Dis Loss : 0.00043687238940037787\n",
      "Steps : 28100, \t Total Gen Loss : 32.92012023925781, \t Total Dis Loss : 0.004944080952554941\n",
      "Steps : 28200, \t Total Gen Loss : 33.476356506347656, \t Total Dis Loss : 0.00549876457080245\n",
      "Steps : 28300, \t Total Gen Loss : 35.7575569152832, \t Total Dis Loss : 0.00010997027129633352\n",
      "Steps : 28400, \t Total Gen Loss : 34.28567123413086, \t Total Dis Loss : 0.001221830490976572\n",
      "Steps : 28500, \t Total Gen Loss : 30.55718231201172, \t Total Dis Loss : 0.001329605933278799\n",
      "Steps : 28600, \t Total Gen Loss : 33.591487884521484, \t Total Dis Loss : 0.0004590569587890059\n",
      "Steps : 28700, \t Total Gen Loss : 32.940643310546875, \t Total Dis Loss : 0.000537745887413621\n",
      "Steps : 28800, \t Total Gen Loss : 35.52865219116211, \t Total Dis Loss : 0.0008829753496684134\n",
      "Steps : 28900, \t Total Gen Loss : 32.5042610168457, \t Total Dis Loss : 0.0003192902950104326\n",
      "Steps : 29000, \t Total Gen Loss : 34.618492126464844, \t Total Dis Loss : 0.00021088030189275742\n",
      "Steps : 29100, \t Total Gen Loss : 34.43022918701172, \t Total Dis Loss : 0.006366997491568327\n",
      "Steps : 29200, \t Total Gen Loss : 33.97932815551758, \t Total Dis Loss : 0.0003330394101794809\n",
      "Steps : 29300, \t Total Gen Loss : 31.288829803466797, \t Total Dis Loss : 0.0003424656460992992\n",
      "Steps : 29400, \t Total Gen Loss : 32.373470306396484, \t Total Dis Loss : 0.0008270315011031926\n",
      "Steps : 29500, \t Total Gen Loss : 30.849285125732422, \t Total Dis Loss : 0.0005606670747511089\n",
      "Steps : 29600, \t Total Gen Loss : 33.03834533691406, \t Total Dis Loss : 0.0009698588401079178\n",
      "Steps : 29700, \t Total Gen Loss : 30.97648811340332, \t Total Dis Loss : 0.0008026961586438119\n",
      "Steps : 29800, \t Total Gen Loss : 33.4222412109375, \t Total Dis Loss : 0.001139021827839315\n",
      "Steps : 29900, \t Total Gen Loss : 31.78774642944336, \t Total Dis Loss : 0.0014843326061964035\n",
      "Steps : 30000, \t Total Gen Loss : 33.62694549560547, \t Total Dis Loss : 0.0006421389989554882\n",
      "Steps : 30100, \t Total Gen Loss : 29.959543228149414, \t Total Dis Loss : 0.0006316946819424629\n",
      "Steps : 30200, \t Total Gen Loss : 32.91532516479492, \t Total Dis Loss : 0.00016990816220641136\n",
      "Steps : 30300, \t Total Gen Loss : 28.856990814208984, \t Total Dis Loss : 0.11691536009311676\n",
      "Steps : 30400, \t Total Gen Loss : 30.21791648864746, \t Total Dis Loss : 0.0003759285027626902\n",
      "Steps : 30500, \t Total Gen Loss : 29.309301376342773, \t Total Dis Loss : 0.0011456195497885346\n",
      "Steps : 30600, \t Total Gen Loss : 33.92607116699219, \t Total Dis Loss : 0.002142771612852812\n",
      "Steps : 30700, \t Total Gen Loss : 32.9437255859375, \t Total Dis Loss : 0.002063304651528597\n",
      "Steps : 30800, \t Total Gen Loss : 31.999496459960938, \t Total Dis Loss : 0.0003828348417300731\n",
      "Steps : 30900, \t Total Gen Loss : 33.597747802734375, \t Total Dis Loss : 0.0001954072795342654\n",
      "Steps : 31000, \t Total Gen Loss : 31.736852645874023, \t Total Dis Loss : 0.002406798768788576\n",
      "Steps : 31100, \t Total Gen Loss : 33.84357452392578, \t Total Dis Loss : 0.00033688495750539005\n",
      "Steps : 31200, \t Total Gen Loss : 33.515663146972656, \t Total Dis Loss : 9.241653606295586e-05\n",
      "Steps : 31300, \t Total Gen Loss : 31.720718383789062, \t Total Dis Loss : 0.0008015845669433475\n",
      "Steps : 31400, \t Total Gen Loss : 34.1065673828125, \t Total Dis Loss : 0.0002573218080215156\n",
      "Steps : 31500, \t Total Gen Loss : 32.547264099121094, \t Total Dis Loss : 0.0005812523304484785\n",
      "Steps : 31600, \t Total Gen Loss : 30.512378692626953, \t Total Dis Loss : 0.002564874943345785\n",
      "Steps : 31700, \t Total Gen Loss : 28.816089630126953, \t Total Dis Loss : 0.001536215771920979\n",
      "Steps : 31800, \t Total Gen Loss : 29.684175491333008, \t Total Dis Loss : 0.0005130096687935293\n",
      "Steps : 31900, \t Total Gen Loss : 30.441936492919922, \t Total Dis Loss : 0.0012568014208227396\n",
      "Steps : 32000, \t Total Gen Loss : 29.395933151245117, \t Total Dis Loss : 0.0006051243981346488\n",
      "Steps : 32100, \t Total Gen Loss : 33.21788787841797, \t Total Dis Loss : 0.0004988181754015386\n",
      "Steps : 32200, \t Total Gen Loss : 31.945606231689453, \t Total Dis Loss : 0.00033230031840503216\n",
      "Steps : 32300, \t Total Gen Loss : 31.954917907714844, \t Total Dis Loss : 0.0003580941120162606\n",
      "Steps : 32400, \t Total Gen Loss : 31.579694747924805, \t Total Dis Loss : 0.00016848341329023242\n",
      "Steps : 32500, \t Total Gen Loss : 32.900970458984375, \t Total Dis Loss : 0.00011441591050243005\n",
      "Steps : 32600, \t Total Gen Loss : 32.658966064453125, \t Total Dis Loss : 0.0006032748497091234\n",
      "Steps : 32700, \t Total Gen Loss : 30.26686668395996, \t Total Dis Loss : 0.001153786201030016\n",
      "Steps : 32800, \t Total Gen Loss : 31.891834259033203, \t Total Dis Loss : 0.00018143723718822002\n",
      "Steps : 32900, \t Total Gen Loss : 36.825260162353516, \t Total Dis Loss : 0.0004045061068609357\n",
      "Steps : 33000, \t Total Gen Loss : 33.77399826049805, \t Total Dis Loss : 0.00040641563828103244\n",
      "Steps : 33100, \t Total Gen Loss : 35.12828826904297, \t Total Dis Loss : 0.00013131169544067234\n",
      "Steps : 33200, \t Total Gen Loss : 35.044403076171875, \t Total Dis Loss : 2.8719017791445367e-05\n",
      "Steps : 33300, \t Total Gen Loss : 32.82917404174805, \t Total Dis Loss : 7.025853119557723e-05\n",
      "Steps : 33400, \t Total Gen Loss : 32.591495513916016, \t Total Dis Loss : 0.0004295790567994118\n",
      "Steps : 33500, \t Total Gen Loss : 32.4903678894043, \t Total Dis Loss : 0.0010112342424690723\n",
      "Steps : 33600, \t Total Gen Loss : 31.389610290527344, \t Total Dis Loss : 0.048895951360464096\n",
      "Steps : 33700, \t Total Gen Loss : 34.69602966308594, \t Total Dis Loss : 0.0002183851902373135\n",
      "Time for epoch 5 is 413.0996980667114 sec\n"
     ]
    }
   ],
   "source": [
    "max_epochs = 5\n",
    "steps = 0\n",
    "\n",
    "for epoch in range(max_epochs):\n",
    "    start = time.time()\n",
    "\n",
    "    for images, labels in train_dataset:\n",
    "        steps += 1\n",
    "        gen_loss, disc_loss = train_step(images)\n",
    "        \n",
    "        if steps % 100 == 0:\n",
    "            print ('Steps : {}, \\t Total Gen Loss : {}, \\t Total Dis Loss : {}'.format(steps, gen_loss.numpy(), disc_loss.numpy()))\n",
    "        \n",
    "    if (epoch + 1) % 5 == 0:\n",
    "        checkpoint.save(file_prefix = checkpoint_path)\n",
    "        \n",
    "    print ('Time for epoch {} is {} sec'.format(epoch + 1, time.time() - start))"
   ]
  },
  {
   "cell_type": "code",
   "execution_count": 31,
   "metadata": {},
   "outputs": [
    {
     "data": {
      "text/plain": [
       "<tensorflow.python.training.tracking.util.InitializationOnlyStatus at 0x7fdba208dad0>"
      ]
     },
     "execution_count": 31,
     "metadata": {},
     "output_type": "execute_result"
    }
   ],
   "source": [
    "checkpoint.restore(tf.train.latest_checkpoint(checkpoint_path))"
   ]
  },
  {
   "cell_type": "code",
   "execution_count": 32,
   "metadata": {},
   "outputs": [],
   "source": [
    "def _evaluate(test_dataset, set_lambda=0.9):\n",
    "    an_scores = []\n",
    "    gt_labels = []\n",
    "    for step, (x_batch_train, y_batch_train) in enumerate(test_dataset):\n",
    "        generated_images = generator(x_batch_train, training=True)\n",
    "        _, feat_real = discriminator(x_batch_train, training=True)\n",
    "        _, feat_fake = discriminator(generated_images, training=True)\n",
    "\n",
    "        generated_images, feat_real, feat_fake = generated_images.numpy(), feat_real.numpy(), feat_fake.numpy()        \n",
    "\n",
    "        rec = abs(x_batch_train - generated_images)\n",
    "        lat = (feat_real - feat_fake) ** 2\n",
    "\n",
    "        rec = tf.reduce_sum(rec, [1,2,3])\n",
    "        lat = tf.reduce_sum(lat, [1,2,3])\n",
    "        \n",
    "        error = (set_lambda * tf.cast(rec, tf.float32)) + ((1 - set_lambda) * tf.cast(lat, tf.float32))\n",
    "        \n",
    "        an_scores.append(error)\n",
    "        gt_labels.append(y_batch_train)\n",
    "        \n",
    "    an_scores = np.concatenate(an_scores, axis=0).reshape([-1])\n",
    "    gt_labels = np.concatenate(gt_labels, axis=0).reshape([-1])\n",
    "    \n",
    "    an_scores = (an_scores - np.amin(an_scores)) / (np.amax(an_scores) - np.amin(an_scores))\n",
    "    \n",
    "    return an_scores, gt_labels"
   ]
  },
  {
   "cell_type": "code",
   "execution_count": 33,
   "metadata": {},
   "outputs": [
    {
     "name": "stdout",
     "output_type": "stream",
     "text": [
      "16000 16000\n"
     ]
    }
   ],
   "source": [
    "an_scores, gt_labels = _evaluate(test_dataset)\n",
    "\n",
    "print(len(an_scores), len(gt_labels))"
   ]
  },
  {
   "cell_type": "code",
   "execution_count": 34,
   "metadata": {},
   "outputs": [
    {
     "name": "stdout",
     "output_type": "stream",
     "text": [
      "(9000,)\n",
      "(7000,)\n"
     ]
    }
   ],
   "source": [
    "normal = []\n",
    "anormaly = []\n",
    "for score, label in zip(an_scores, gt_labels):\n",
    "    if label == 0:\n",
    "        anormaly.append(score)\n",
    "    else:\n",
    "        normal.append(score)\n",
    "\n",
    "normal = np.array(normal)\n",
    "print(normal.shape)\n",
    "anormaly = np.array(anormaly)\n",
    "print(anormaly.shape)"
   ]
  },
  {
   "cell_type": "code",
   "execution_count": 35,
   "metadata": {},
   "outputs": [
    {
     "data": {
      "image/png": "[encoded data removed]",
      "text/plain": [
       "<Figure size 432x288 with 1 Axes>"
      ]
     },
     "metadata": {
      "needs_background": "light"
     },
     "output_type": "display_data"
    }
   ],
   "source": [
    "plt.hist(normal, bins=np.linspace(0.0, 1.0, num=100))\n",
    "plt.hist(anormaly, bins=np.linspace(0.0, 1.0, num=100))\n",
    "plt.show()"
   ]
  },
  {
   "cell_type": "code",
   "execution_count": 36,
   "metadata": {},
   "outputs": [
    {
     "name": "stdout",
     "output_type": "stream",
     "text": [
      "0.4865234 0.47190255\n",
      "0.1448972 0.14040434\n"
     ]
    },
    {
     "data": {
      "image/png": "[encoded data removed]",
      "text/plain": [
       "<Figure size 432x288 with 1 Axes>"
      ]
     },
     "metadata": {
      "needs_background": "light"
     },
     "output_type": "display_data"
    }
   ],
   "source": [
    "plt.plot(normal, norm.pdf(normal, np.mean(normal), np.std(normal)), 'o')\n",
    "plt.plot(anormaly, norm.pdf(anormaly, np.mean(anormaly), np.std(anormaly)), 'o')\n",
    "\n",
    "print(np.mean(normal), np.mean(anormaly))\n",
    "print(np.std(normal), np.std(anormaly))"
   ]
  },
  {
   "cell_type": "markdown",
   "metadata": {},
   "source": [
    "- 이상감지용 데이터셋 구축 (개구리 데이터를 학습데이터셋에서 제외하여 테스트 데이터셋에 포함)\n",
    "- Skip-GANomaly 모델의 구현\n",
    "- 모델의 학습과 검증\n",
    "- 검증 결과의 시각화 (정상-이상 데이터의 anomaly score 분포 시각화, 적절한 threshold에 따른 이삼감지율 계-산, 감지 성공/실패사례 시각화 포함)"
   ]
  },
  {
   "cell_type": "code",
   "execution_count": null,
   "metadata": {},
   "outputs": [],
   "source": []
  }
 ],
 "metadata": {
  "kernelspec": {
   "display_name": "Python 3",
   "language": "python",
   "name": "python3"
  },
  "language_info": {
   "codemirror_mode": {
    "name": "ipython",
    "version": 3
   },
   "file_extension": ".py",
   "mimetype": "text/x-python",
   "name": "python",
   "nbconvert_exporter": "python",
   "pygments_lexer": "ipython3",
   "version": "3.7.6"
  }
 },
 "nbformat": 4,
 "nbformat_minor": 4
}
