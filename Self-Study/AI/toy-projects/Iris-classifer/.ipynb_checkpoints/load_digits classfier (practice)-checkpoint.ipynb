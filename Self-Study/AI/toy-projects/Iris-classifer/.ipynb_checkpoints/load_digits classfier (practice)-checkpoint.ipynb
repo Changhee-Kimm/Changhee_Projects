{
 "cells": [
  {
   "cell_type": "markdown",
   "metadata": {},
   "source": [
    "# 손글씨 분류해보기 실습"
   ]
  },
  {
   "cell_type": "markdown",
   "metadata": {},
   "source": [
    "- 필요한 모듈 Import 하기"
   ]
  },
  {
   "cell_type": "code",
   "execution_count": 81,
   "metadata": {},
   "outputs": [],
   "source": [
    "from sklearn.datasets import load_digits\n",
    "from sklearn.model_selection import train_test_split\n",
    "from sklearn.metrics import classification_report"
   ]
  },
  {
   "cell_type": "markdown",
   "metadata": {},
   "source": [
    "- 데이터 준비하기"
   ]
  },
  {
   "cell_type": "code",
   "execution_count": 82,
   "metadata": {},
   "outputs": [],
   "source": [
    "digits = load_digits()\n",
    "digits_data = digits.data\n",
    "digits_label = digits.target"
   ]
  },
  {
   "cell_type": "markdown",
   "metadata": {},
   "source": [
    " - 데이터 이해하기\n",
    " 1. feature data 지정하기\n",
    " 2. label data 지정하기\n",
    " 3. Target Names 출력해보기\n",
    " 4. 데이터 Describe 해보기"
   ]
  },
  {
   "cell_type": "code",
   "execution_count": 83,
   "metadata": {},
   "outputs": [
    {
     "name": "stdout",
     "output_type": "stream",
     "text": [
      "\n",
      "데이터의 키값 \n",
      " dict_keys(['data', 'target', 'target_names', 'images', 'DESCR'])\n",
      "\n",
      "데이터 모양 \n",
      " 데이터 갯수 :  1797 \n",
      "데이터 크기 :  64\n",
      "데이터 셈플\n",
      " [ 0.  0.  5. 13.  9.  1.  0.  0.  0.  0. 13. 15. 10. 15.  5.  0.  0.  3.\n",
      " 15.  2.  0. 11.  8.  0.  0.  4. 12.  0.  0.  8.  8.  0.  0.  5.  8.  0.\n",
      "  0.  9.  8.  0.  0.  4. 11.  0.  1. 12.  7.  0.  0.  2. 14.  5. 10. 12.\n",
      "  0.  0.  0.  0.  6. 13. 10.  0.  0.  0.]\n"
     ]
    }
   ],
   "source": [
    "print(\"\\n데이터의 키값 \\n\",digits.keys())\n",
    "\n",
    "print(\"\\n데이터 모양 \\n\",\"데이터 갯수 : \",digits.data.shape[0],\"\\n데이터 크기 : \", digits.data.shape[1])\n",
    "\n",
    "print(\"데이터 셈플\\n\", digits_data[0])"
   ]
  },
  {
   "cell_type": "code",
   "execution_count": 84,
   "metadata": {},
   "outputs": [
    {
     "data": {
      "image/png": "[encoded data removed]",
      "text/plain": [
       "<Figure size 432x288 with 1 Axes>"
      ]
     },
     "metadata": {
      "needs_background": "light"
     },
     "output_type": "display_data"
    }
   ],
   "source": [
    "import matplotlib.pyplot as plt\n",
    "\n",
    "plt.imshow(digits.data[0].reshape(8,8),cmap=\"gray\")\n",
    "plt.axis('off')\n",
    "plt.show()"
   ]
  },
  {
   "cell_type": "code",
   "execution_count": 85,
   "metadata": {},
   "outputs": [
    {
     "data": {
      "image/png": "[encoded data removed]",
      "text/plain": [
       "<Figure size 432x288 with 10 Axes>"
      ]
     },
     "metadata": {
      "needs_background": "light"
     },
     "output_type": "display_data"
    }
   ],
   "source": [
    "for i in range(10):\n",
    "    plt.subplot(2, 5, i+1)\n",
    "    plt.imshow(digits.data[i].reshape(8, 8), cmap='gray')\n",
    "    plt.axis(\"off\")\n",
    "plt.show()"
   ]
  },
  {
   "cell_type": "code",
   "execution_count": 86,
   "metadata": {},
   "outputs": [
    {
     "name": "stdout",
     "output_type": "stream",
     "text": [
      "[0 1 2 ... 8 9 8]\n",
      "[0 1 2 3 4 5 6 7 8 9]\n"
     ]
    }
   ],
   "source": [
    "print(digits_label)\n",
    "print(digits.target_names)"
   ]
  },
  {
   "cell_type": "markdown",
   "metadata": {},
   "source": [
    " - 데이터셋 분류하기"
   ]
  },
  {
   "cell_type": "code",
   "execution_count": 87,
   "metadata": {},
   "outputs": [
    {
     "name": "stdout",
     "output_type": "stream",
     "text": [
      "[5 3 6 ... 0 8 9]\n",
      "[0 8 4 4 0 5 1 3 9 9 4 5 0 0 6 4 6 2 2 8 9 7 7 8 1 3 9 0 7 7 6 7 4 4 5 0 6\n",
      " 3 2 1 0 8 7 6 9 7 8 6 7 1 8 3 4 7 4 4 2 8 8 7 4 8 5 4 6 8 6 1 5 1 7 7 9 1\n",
      " 2 4 9 6 4 1 7 2 0 2 3 2 8 9 9 3 1 8 3 7 2 2 6 8 0 6 6 4 7 4 5 7 0 9 3 4 4\n",
      " 0 3 9 8 0 5 5 7 0 9 1 4 1 9 0 7 3 2 9 6 0 0 7 4 4 3 4 5 6 3 3 5 7 3 6 9 5\n",
      " 4 2 5 9 4 4 7 3 5 0 9 2 4 0 7 3 6 1 9 3 7 3 8 5 3 6 3 5 7 4 5 7 5 9 0 2 6\n",
      " 4 1 5 5 2 9 9 1 3 6 7 3 6 8 8 8 8 4 4 2 6 6 4 3 5 3 8 9 5 6 4 3 2 9 4 9 3\n",
      " 0 2 0 2 1 7 5 6 1 3 6 1 6 8 0 5 3 5 1 1 4 6 2 6 4 4 5 6 9 3 7 8 8 3 3 9 2\n",
      " 1 3 7 4 1 1 5 7 2 4 9 2 3 3 6 0 2 8 3 8 2 1 9 7 4 6 3 6 1 8 6 2 3 2 7 7 8\n",
      " 2 9 6 0 9 2 9 4 6 7 7 2 9 5 7 9 1 7 5 9 9 6 1 3 3 0 4 8 5 2 4 1 4 8 2 6 6\n",
      " 1 1 8 2 4 0 7 1 6 6 1 8 8 9 3 1 9 4 5 4 6 2 7 0 1 2 3 6 2 3 0 8 9 2 3 9 4\n",
      " 3 9 0 0 9 5 1 9 9 3 4 0 1 2 1 0 0 9 7 8 8 7 0 0 2 0 3 8 2 8 9 9 7 9 7 5 9\n",
      " 2 5 9 5 5 3 6 5 3 7 3 2 5 9 0 9 8 5 9 3 1 2 4 4 7 2 0 3 2 8 6 4 5 4 7 4 7\n",
      " 2 1 2 4 0 0]\n",
      "1347\n",
      "450\n"
     ]
    }
   ],
   "source": [
    "X_train,X_test,y_train,y_test=train_test_split(digits_data,\n",
    "                                               digits_label,\n",
    "                                               test_size=0.25,\n",
    "                                               random_state=45)\n",
    "\n",
    "from sklearn import preprocessing\n",
    "import numpy as np\n",
    "X_train = preprocessing.scale(X_train)\n",
    "X_test = preprocessing.scale(X_test)\n",
    "\n",
    "print(y_train)\n",
    "print(y_test)\n",
    "print(len(X_train))\n",
    "print(len(X_test))"
   ]
  },
  {
   "cell_type": "markdown",
   "metadata": {},
   "source": [
    " - 모델 불러오기"
   ]
  },
  {
   "cell_type": "code",
   "execution_count": 88,
   "metadata": {},
   "outputs": [],
   "source": [
    "from sklearn.tree import DecisionTreeClassifier\n",
    "decision_tree = DecisionTreeClassifier(random_state=32)\n",
    "\n",
    "from sklearn.ensemble import RandomForestClassifier\n",
    "random_forest = RandomForestClassifier(random_state=32)\n",
    "\n",
    "from sklearn import svm\n",
    "svm_model = svm.SVC()\n",
    "\n",
    "from sklearn.linear_model import SGDClassifier\n",
    "sgd_model = SGDClassifier()\n",
    "\n",
    "from sklearn.linear_model import LogisticRegression\n",
    "logistic_model = LogisticRegression()\n",
    "\n",
    "accuracy_model={}"
   ]
  },
  {
   "cell_type": "code",
   "execution_count": 89,
   "metadata": {},
   "outputs": [
    {
     "name": "stdout",
     "output_type": "stream",
     "text": [
      "              precision    recall  f1-score   support\n",
      "\n",
      "           0       0.95      0.97      0.96        40\n",
      "           1       0.79      0.79      0.79        38\n",
      "           2       0.84      0.79      0.81        47\n",
      "           3       0.95      0.78      0.86        51\n",
      "           4       0.92      0.83      0.87        53\n",
      "           5       0.75      0.85      0.80        39\n",
      "           6       0.95      0.93      0.94        44\n",
      "           7       0.75      0.94      0.83        47\n",
      "           8       0.76      0.74      0.75        39\n",
      "           9       0.79      0.81      0.80        52\n",
      "\n",
      "    accuracy                           0.84       450\n",
      "   macro avg       0.85      0.84      0.84       450\n",
      "weighted avg       0.85      0.84      0.84       450\n",
      "\n"
     ]
    }
   ],
   "source": [
    "#Decision Tree\n",
    "decision_tree.fit(X_train, y_train)\n",
    "decision_y_predict=decision_tree.predict(X_test)\n",
    "char_Decision=classification_report(y_test,decision_y_predict)\n",
    "print(char_Decision)\n",
    "\n",
    "char_Decision=char_Decision.split()\n",
    "accuracy_model[\"Decision Tree\" + char_Decision[54]]=char_Decision[55]"
   ]
  },
  {
   "cell_type": "code",
   "execution_count": 90,
   "metadata": {},
   "outputs": [
    {
     "name": "stdout",
     "output_type": "stream",
     "text": [
      "              precision    recall  f1-score   support\n",
      "\n",
      "           0       0.95      1.00      0.98        40\n",
      "           1       1.00      1.00      1.00        38\n",
      "           2       1.00      0.98      0.99        47\n",
      "           3       0.98      0.96      0.97        51\n",
      "           4       1.00      0.98      0.99        53\n",
      "           5       1.00      0.95      0.97        39\n",
      "           6       1.00      0.98      0.99        44\n",
      "           7       0.84      1.00      0.91        47\n",
      "           8       0.95      0.95      0.95        39\n",
      "           9       0.94      0.85      0.89        52\n",
      "\n",
      "    accuracy                           0.96       450\n",
      "   macro avg       0.97      0.96      0.96       450\n",
      "weighted avg       0.96      0.96      0.96       450\n",
      "\n"
     ]
    }
   ],
   "source": [
    "#RandomForest\n",
    "random_forest.fit(X_train, y_train)\n",
    "random_forest_y_predict=random_forest.predict(X_test)\n",
    "char_Random=classification_report(y_test,random_forest_y_predict)\n",
    "print(char_Random)\n",
    "\n",
    "char_Random=char_Random.split()\n",
    "accuracy_model[\"randomforest\" + char_Random[54]]=char_Random[55]"
   ]
  },
  {
   "cell_type": "code",
   "execution_count": 91,
   "metadata": {
    "scrolled": true
   },
   "outputs": [
    {
     "name": "stdout",
     "output_type": "stream",
     "text": [
      "              precision    recall  f1-score   support\n",
      "\n",
      "           0       0.95      0.97      0.96        40\n",
      "           1       0.79      0.79      0.79        38\n",
      "           2       0.84      0.79      0.81        47\n",
      "           3       0.95      0.78      0.86        51\n",
      "           4       0.92      0.83      0.87        53\n",
      "           5       0.75      0.85      0.80        39\n",
      "           6       0.95      0.93      0.94        44\n",
      "           7       0.75      0.94      0.83        47\n",
      "           8       0.76      0.74      0.75        39\n",
      "           9       0.79      0.81      0.80        52\n",
      "\n",
      "    accuracy                           0.84       450\n",
      "   macro avg       0.85      0.84      0.84       450\n",
      "weighted avg       0.85      0.84      0.84       450\n",
      "\n"
     ]
    }
   ],
   "source": [
    "#SVM\n",
    "svm_model.fit(X_train, y_train)\n",
    "svm_model_y_predict=svm_model.predict(X_test)\n",
    "\n",
    "char_SVM=classification_report(y_test,decision_y_predict)\n",
    "print(char_SVM)\n",
    "\n",
    "char_SVM=char_SVM.split()\n",
    "accuracy_model[\"SVM\" + char_SVM[54]]=char_SVM[55]"
   ]
  },
  {
   "cell_type": "code",
   "execution_count": 92,
   "metadata": {},
   "outputs": [
    {
     "name": "stdout",
     "output_type": "stream",
     "text": [
      "              precision    recall  f1-score   support\n",
      "\n",
      "           0       1.00      1.00      1.00        40\n",
      "           1       1.00      0.92      0.96        38\n",
      "           2       1.00      1.00      1.00        47\n",
      "           3       0.98      0.98      0.98        51\n",
      "           4       1.00      0.92      0.96        53\n",
      "           5       0.97      0.92      0.95        39\n",
      "           6       0.96      1.00      0.98        44\n",
      "           7       0.98      0.94      0.96        47\n",
      "           8       0.80      1.00      0.89        39\n",
      "           9       0.90      0.88      0.89        52\n",
      "\n",
      "    accuracy                           0.96       450\n",
      "   macro avg       0.96      0.96      0.96       450\n",
      "weighted avg       0.96      0.96      0.96       450\n",
      "\n"
     ]
    }
   ],
   "source": [
    "#SGD\n",
    "sgd_model.fit(X_train, y_train)\n",
    "sgd_model_y_predict=sgd_model.predict(X_test)\n",
    "char_SGD=classification_report(y_test,sgd_model_y_predict)\n",
    "print(classification_report(y_test,sgd_model_y_predict))\n",
    "\n",
    "char_SGD=char_SGD.split()\n",
    "accuracy_model[\"SGD\" + char_SGD[54]]=char_SGD[55]"
   ]
  },
  {
   "cell_type": "code",
   "execution_count": 93,
   "metadata": {
    "scrolled": true
   },
   "outputs": [
    {
     "name": "stdout",
     "output_type": "stream",
     "text": [
      "              precision    recall  f1-score   support\n",
      "\n",
      "           0       1.00      1.00      1.00        40\n",
      "           1       1.00      0.92      0.96        38\n",
      "           2       1.00      1.00      1.00        47\n",
      "           3       0.98      0.98      0.98        51\n",
      "           4       1.00      0.92      0.96        53\n",
      "           5       0.97      0.92      0.95        39\n",
      "           6       0.96      1.00      0.98        44\n",
      "           7       0.98      0.94      0.96        47\n",
      "           8       0.80      1.00      0.89        39\n",
      "           9       0.90      0.88      0.89        52\n",
      "\n",
      "    accuracy                           0.96       450\n",
      "   macro avg       0.96      0.96      0.96       450\n",
      "weighted avg       0.96      0.96      0.96       450\n",
      "\n"
     ]
    }
   ],
   "source": [
    "#logistic Regression\n",
    "logistic_model.fit(X_train, y_train)\n",
    "logistic_model_y_predict=logistic_model.predict(X_test)\n",
    "char_Logistic=classification_report(y_test,sgd_model_y_predict)\n",
    "print(char_Logistic)\n",
    "\n",
    "char_Logistic=char_Logistic.split()\n",
    "accuracy_model[\"Logistic Regression\" + char_Logistic[54]]=char_Logistic[55]"
   ]
  },
  {
   "cell_type": "code",
   "execution_count": 94,
   "metadata": {},
   "outputs": [
    {
     "name": "stdout",
     "output_type": "stream",
     "text": [
      "{'Decision Treeaccuracy': '0.84', 'randomforestaccuracy': '0.96', 'SVMaccuracy': '0.84', 'SGDaccuracy': '0.96', 'Logistic Regressionaccuracy': '0.96'}\n"
     ]
    }
   ],
   "source": [
    "\n",
    "print(accuracy_model)"
   ]
  },
  {
   "cell_type": "markdown",
   "metadata": {},
   "source": [
    " ## Digits 데이터 학습 결과\n",
    " ## ACCURACY비교 결과, RANDOM FOREST의 정확도가 96%로 가장 좋다."
   ]
  },
  {
   "cell_type": "code",
   "execution_count": null,
   "metadata": {},
   "outputs": [],
   "source": []
  }
 ],
 "metadata": {
  "kernelspec": {
   "display_name": "Python 3",
   "language": "python",
   "name": "python3"
  },
  "language_info": {
   "codemirror_mode": {
    "name": "ipython",
    "version": 3
   },
   "file_extension": ".py",
   "mimetype": "text/x-python",
   "name": "python",
   "nbconvert_exporter": "python",
   "pygments_lexer": "ipython3",
   "version": "3.7.6"
  }
 },
 "nbformat": 4,
 "nbformat_minor": 4
}
