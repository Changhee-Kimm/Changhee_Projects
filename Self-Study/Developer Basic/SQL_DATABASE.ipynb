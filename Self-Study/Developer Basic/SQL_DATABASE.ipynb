{
 "cells": [
  {
   "cell_type": "markdown",
   "metadata": {},
   "source": [
    "https://anaconda.org/gwinnen/sf-salaries-exercise/notebook"
   ]
  },
  {
   "cell_type": "markdown",
   "metadata": {},
   "source": [
    "### 데이터 베이스의 필요성\n",
    "\n",
    " - 우리가 쓰던 csv, pandas, excel 로는 관리가 불가능한가?\n"
   ]
  },
  {
   "cell_type": "code",
   "execution_count": 1,
   "metadata": {},
   "outputs": [
    {
     "name": "stdout",
     "output_type": "stream",
     "text": [
      "130\n"
     ]
    }
   ],
   "source": [
    "C_account = 100      # 현재 C 고객 계좌 잔고는 100\n",
    "\n",
    "C_account_by_A_process = 100    # A 고객 응대 프로그램이 C 고객 계좌 잔고를 조회했습니다 \n",
    "C_account_by_B_process = 100    # B 고객 응대 프로그램이 C 고객 계좌 잔고를 조회했습니다 \n",
    "\n",
    "C_account_by_A_process = C_account_by_A_process + 50   # A 고객이 50을 입금했습니다. \n",
    "C_account_by_B_process = C_account_by_B_process + 30   # A 고객이 30을 입금했습니다. \n",
    "\n",
    "C_account = C_account_by_A_process     # A 고객의 입금이 C 고객 계좌 잔고에 반영되었습니다. \n",
    "C_account = C_account_by_B_process     # B 고객의 입금이 C 고객 계좌 잔고에 반영되었습니다. \n",
    "\n",
    "print(C_account)     # C 고객 계좌 잔고는 얼마일까요?"
   ]
  },
  {
   "cell_type": "markdown",
   "metadata": {},
   "source": [
    " - 위의 예시처럼, 영속성(Persistence)관리가 어렵다. \n",
    "트랜잭션 개념이 필요함\n",
    " - 트렌잭션 : 동일한 데이터를 여러 프로세스가 동시에 접근해서 변경하려고 할 때, 한 프로세스의 변경이 다른 프로세스의 변경을 무시해서는 안돼!\n",
    " \n",
    "  #### DMBS : 다수 사용자가 대응할 수 있는 트랜잭션 처리 기능을 갖추고, 데이터의 정합성을 보장하는 관리 프로그램\n",
    "  \n",
    "![png](im2.png)"
   ]
  },
  {
   "cell_type": "markdown",
   "metadata": {},
   "source": [
    "- 물리적 컴퓨터에 둔 것 : 서버 컴퓨터\n",
    "- 정보의 집합 : 데이터 베이스\n",
    "\n",
    "\n",
    "\n",
    " - 쿼리 : 데이터 요청하는 일\n",
    " - 쿼리를 작성하는 언어 : SQL(Structured Query Language)\n",
    " \n",
    " - DBA(Database Architect) : 데이터를 어떻게 관리할 지 설계하고 쿼리를 작성함\n",
    " - 설계하는 데이터베이스의 구조 : 스키마\n",
    " \n",
    " #### 관계형 데이터베이스(RDB) : key 와 value들의 관계를 테이블로 보여줌\n",
    " \n",
    " #### RDB 용어\n",
    " \n",
    "![image.png](im3.png)\n",
    "\n",
    "![image.png](im4.png)"
   ]
  },
  {
   "cell_type": "markdown",
   "metadata": {},
   "source": [
    "### SQL(Structured Query Language)\n",
    "\n",
    " #### SQL문 종류 \n",
    " \n",
    " - DDL(Data Definition Language, 데이터 정의어)\n",
    " \n",
    " ![image](im5.png)"
   ]
  },
  {
   "cell_type": "markdown",
   "metadata": {},
   "source": [
    " - DML(Data Manipulation Language,데이터 조작어)\n",
    " \n",
    " 데이터 기본 조작 행위 : CRUD\n",
    " Create : INSERT 문 사용\n",
    " Read : SELECT 문 사용\n",
    " Updata : UPDATE문 사용\n",
    " Delete : DELETE문 사용\n",
    " \n",
    "  ![image](im6.png)"
   ]
  },
  {
   "cell_type": "code",
   "execution_count": 1,
   "metadata": {},
   "outputs": [],
   "source": [
    "import sqlite3\n",
    "#데이터베이스와 연결\n",
    "conn = sqlite3.connect('example1.db')\n"
   ]
  },
  {
   "cell_type": "code",
   "execution_count": 2,
   "metadata": {},
   "outputs": [],
   "source": [
    "## 커서 객체 만들기\n",
    "c = conn.cursor()\n",
    "#쿼리 명령어 입력\n",
    "# Create table\n",
    "c.execute('''CREATE TABLE stocks\n",
    "             (date text, trans text, symbol text, qty real, price real)''')\n",
    "\n",
    "# Insert a row of data\n",
    "c.execute(\"INSERT INTO stocks VALUES ('2006-01-05','BUY','RHAT',100,35.14)\")\n",
    "\n",
    "# 데이터베이스 반영\n",
    "conn.commit()\n"
   ]
  },
  {
   "cell_type": "code",
   "execution_count": 3,
   "metadata": {},
   "outputs": [],
   "source": [
    "#종료\n",
    "conn.close()"
   ]
  },
  {
   "cell_type": "markdown",
   "metadata": {},
   "source": [
    "#### 1. 메모리에 SQLite3 데이터베이스를 만들고 4가지 속성을 지닌 'sales' 테이블을 만든다."
   ]
  },
  {
   "cell_type": "code",
   "execution_count": 4,
   "metadata": {},
   "outputs": [],
   "source": [
    "import sqlite3\n",
    "\n",
    "conn = sqlite3.connect(':memory:')\n",
    "query = \"\"\"CREATE TABLE sales\n",
    "            (product VARCHAR(20),\n",
    "            maker VARCHAR(40),\n",
    "            amount FLOAT,\n",
    "            date DATE);\"\"\"\n",
    "conn.execute(query)\n",
    "conn.commit()"
   ]
  },
  {
   "cell_type": "markdown",
   "metadata": {},
   "source": [
    "#### 2. 테이블에 데이터 삽입"
   ]
  },
  {
   "cell_type": "code",
   "execution_count": 5,
   "metadata": {},
   "outputs": [],
   "source": [
    "data = [('smart phone', 'Apple', '47.2', '2019-08-03'),\n",
    "        ('printer', 'Samsung', '15.2', '2018-02-10',),\n",
    "        ('monitor', 'LG', '14.25', '2019-12-20'),\n",
    "        ('python book', 'Amazon', '12.40', '2020-01-23')]\n",
    "statement = \"INSERT INTO sales VALUES(?, ?, ?, ?)\"\n",
    "conn.executemany(statement, data)\n",
    "conn.commit()"
   ]
  },
  {
   "cell_type": "markdown",
   "metadata": {},
   "source": [
    "#### 3. sales테이블에 질의한다."
   ]
  },
  {
   "cell_type": "code",
   "execution_count": 6,
   "metadata": {},
   "outputs": [],
   "source": [
    "cursor = conn.execute(\"SELECT * FROM sales\")\n",
    "rows = cursor.fetchall()"
   ]
  },
  {
   "cell_type": "markdown",
   "metadata": {},
   "source": [
    "#### 4. 출력 데이터의 갯수를 샌다."
   ]
  },
  {
   "cell_type": "code",
   "execution_count": 7,
   "metadata": {},
   "outputs": [
    {
     "name": "stdout",
     "output_type": "stream",
     "text": [
      "('smart phone', 'Apple', 47.2, '2019-08-03')\n",
      "('printer', 'Samsung', 15.2, '2018-02-10')\n",
      "('monitor', 'LG', 14.25, '2019-12-20')\n",
      "('python book', 'Amazon', 12.4, '2020-01-23')\n",
      "Number of rows: 4\n"
     ]
    }
   ],
   "source": [
    "row_counter = 0\n",
    "for row in rows:\n",
    "    print(row)\n",
    "    row_counter +=1\n",
    "\n",
    "print(\"Number of rows: {}\".format(row_counter))"
   ]
  },
  {
   "cell_type": "code",
   "execution_count": null,
   "metadata": {},
   "outputs": [],
   "source": []
  },
  {
   "cell_type": "markdown",
   "metadata": {},
   "source": [
    "# Database 다뤄보기"
   ]
  },
  {
   "cell_type": "code",
   "execution_count": 8,
   "metadata": {},
   "outputs": [],
   "source": [
    "import sqlite3\n"
   ]
  },
  {
   "cell_type": "markdown",
   "metadata": {},
   "source": [
    "```\n",
    "$ mkdir -p ~/aiffel/sql_to_db/sqlite\n",
    "```\n",
    "\n"
   ]
  },
  {
   "cell_type": "markdown",
   "metadata": {},
   "source": [
    " - mydb라는 데이터베이스를 만들어 준다."
   ]
  },
  {
   "cell_type": "code",
   "execution_count": 9,
   "metadata": {},
   "outputs": [
    {
     "name": "stdout",
     "output_type": "stream",
     "text": [
      "<sqlite3.Connection object at 0x7f28a68fcb90>\n"
     ]
    }
   ],
   "source": [
    "import os\n",
    "db_path = os.getenv('HOME')+'/aiffel/sql_to_db/sqlite/mydb.db'\n",
    "conn = sqlite3.connect(db_path)  # mydb.db에 연결합니다."
   ]
  },
  {
   "cell_type": "markdown",
   "metadata": {},
   "source": [
    " - 함수의 연결을 사용하는 cursor 라는 객체를 만들자\n",
    " - Cursor는 SQL의 질의(Query)를 수행하고 결과를 얻는데 사용하는 객체\n",
    " \n",
    " - INSERT 는 DB에만 적용되는 명령어라 Cursor가 필수는 아님.\n",
    " - SELECT 는 SQL 질의 수행 결과에 접근하기 위한 Cursor가 필요하다.\n",
    " \n",
    " - conn.cursor()를 습관적으로 사용하는게 좋다!"
   ]
  },
  {
   "cell_type": "code",
   "execution_count": 12,
   "metadata": {},
   "outputs": [],
   "source": [
    "c = conn.cursor()"
   ]
  },
  {
   "cell_type": "code",
   "execution_count": 13,
   "metadata": {},
   "outputs": [
    {
     "name": "stdout",
     "output_type": "stream",
     "text": [
      "('20200701', 'TEST', 'AIFFEL', 1.0, 10000.0)\n"
     ]
    }
   ],
   "source": [
    "# stocks이라는 이름의 테이블을 하나 생성합니다. 혹시 이미 생성되었다면 생략합니다. \n",
    "c.execute(\"CREATE TABLE  IF NOT EXISTS  stocks (date text, trans text, symbol text, qty real, price real)\")\n",
    "\n",
    "# stocks 테이블에 데이터를 하나 인서트합니다. \n",
    "c.execute(\"INSERT INTO stocks VALUES ('20200701', 'TEST', 'AIFFEL', 1, 10000)\")\n",
    "\n",
    "# 방금 인서트한 데이터를 조회해 봅니다.\n",
    "c.execute(\"SELECT * FROM stocks\")\n",
    "\n",
    "# 조회된 내역을 커서를 통해 가져와 출력해 봅니다.\n",
    "print(c.fetchone())"
   ]
  },
  {
   "cell_type": "markdown",
   "metadata": {},
   "source": [
    "SQL LITE Database를 시각화 해서 볼 수 있는 앱 \n",
    "\n",
    "```\n",
    "$ sudo add-apt-repository -y ppa:linuxgndu/sqlitebrowser\n",
    "$ sudo apt-get update\n",
    "$ sudo apt-get install sqlitebrowser\n",
    "```"
   ]
  },
  {
   "cell_type": "markdown",
   "metadata": {},
   "source": [
    "~/mydb 파일을 열어서 확인해보면  아직 데이터가 보이지 않음.!\n",
    "\n",
    "그 이유는 \n",
    "## conn.commit()을 호출해야 DB가 업데이트 됨!\n",
    "\n",
    " - 아래의 코드를 실행시키고 다시  DB를 열어보면 데이터가 들어가 있는것을 볼 수 있다."
   ]
  },
  {
   "cell_type": "code",
   "execution_count": 14,
   "metadata": {},
   "outputs": [],
   "source": [
    "conn.commit()   # commit()은 cursor의 메소드가 아니라 connection의 메소드입니다. "
   ]
  },
  {
   "cell_type": "markdown",
   "metadata": {},
   "source": [
    " - 데이터 베이스를 conn.commit()을 통해 실제로 반여하는 걱을 트랜잭션 관리 라고 한다.\n",
    " \n",
    " - 트랜잭션 : 쪼개지면 안되는 업무단위 를 말하며, 예를 들어, 은행에서 계좌이체 할 때 내 계좌에서 돈을 빼는 일과 상대방 계좌에 돈을 넣는 일이 분리되면 안되고 하나의 일 이라는 뜻이다.\n",
    " \n",
    "\n",
    "#### DB를 다 사용했으면 마무리 지어야 함. conn.close()"
   ]
  },
  {
   "cell_type": "code",
   "execution_count": 15,
   "metadata": {},
   "outputs": [],
   "source": [
    "c.close()      # 먼저 커서를 닫은 후\n",
    "conn.close()    # DB 연결을 닫아 줍니다."
   ]
  },
  {
   "cell_type": "markdown",
   "metadata": {},
   "source": [
    "### DDL 문으로 테이블 생성해보기"
   ]
  },
  {
   "cell_type": "code",
   "execution_count": 16,
   "metadata": {},
   "outputs": [
    {
     "name": "stdout",
     "output_type": "stream",
     "text": [
      "뿅💛\n"
     ]
    }
   ],
   "source": [
    "import sqlite3\n",
    "import os\n",
    "db_path = os.getenv('HOME')+'/aiffel/sql_to_db/sqlite/mydb.db'\n",
    "\n",
    "conn = sqlite3.connect(db_path)\n",
    "c = conn.cursor()\n",
    "\n",
    "#- ! 재실행 시 테이블이 존재할 수 있으므로 아래처럼 해당 테이블들을 모두 지워줍니다.\n",
    "c.execute(\"DROP TABLE IF EXISTS 도서대출내역\")\n",
    "c.execute(\"DROP TABLE IF EXISTS 도서대출내역2\")\n",
    "c.execute(\"DROP TABLE IF EXISTS 대출내역\")\n",
    "c.execute(\"DROP TABLE IF EXISTS 도서명\")\n",
    "\n",
    "\n",
    "#----- 1st table : 도서대출내역 -----#\n",
    "c.execute(\"CREATE TABLE IF NOT EXISTS 도서대출내역 (ID varchar, 이름 varchar, 도서ID varchar, 대출일 varchar, 반납일 varchar)\")\n",
    "#- 생성(create)문 : 테이블명, 변수명, 변수타입을 지정\n",
    "\n",
    "data = [('101','문강태','aaa','2020-06-01','2020-06-05'),\n",
    "             ('101','문강태','ccc','2020-06-20','2020-06-25'),\n",
    "             ('102','고문영','bbb','2020-06-01',None),\n",
    "             ('102','고문영','ddd','2020-06-08',None),\n",
    "             ('103','문상태','ccc','2020-06-01','2020-06-05'),\n",
    "             ('104','강기둥',None,None,None)]\n",
    "#- 입력할 데이터를 그대로 입력 (변수명 순서 기준대로)\n",
    "\n",
    "c.executemany('INSERT INTO 도서대출내역 VALUES (?,?,?,?,?)', data)\n",
    "#- 입력할 데이터를 실제 테이블에 insert하기\n",
    "#-----------------------------------------------#\n",
    "\n",
    "\n",
    "#----- 2nd table : 도서대출내역2 -----#\n",
    "c.execute(\"CREATE TABLE IF NOT EXISTS 도서대출내역2 (ID varchar, 이름 varchar, 대출년월 varchar, 대출일수 varchar)\")\n",
    "\n",
    "data = [('101','문강태','2020-06','20일'),\n",
    "             ('102','고문영','2020-06','10일'),\n",
    "             ('103','문상태','2020-06','8일'),\n",
    "             ('104','강기둥','2020-06','3일')]\n",
    "c.executemany('INSERT INTO 도서대출내역2 VALUES (?,?,?,?)', data)\n",
    "#--------------------------------------------------#\n",
    "\n",
    "\n",
    "#----- 3rd table : 대출내역 -----#\n",
    "c.execute(\"CREATE TABLE IF NOT EXISTS 대출내역 (ID varchar, 이름 varchar, 도서ID varchar)\")\n",
    "\n",
    "data = [('101','문강태','aaa'),\n",
    "             ('102','고문영','bbb'),\n",
    "             ('102','고문영','fff'),\n",
    "             ('103','문상태','ccc'),\n",
    "             ('104','강기둥',None)]\n",
    "c.executemany('INSERT INTO 대출내역 VALUES (?,?,?)', data)\n",
    "#-----------------------------------------#\n",
    "\n",
    "\n",
    "#----- 4th table : 도서명 -----#\n",
    "c.execute(\"CREATE TABLE IF NOT EXISTS 도서명 (도서ID varchar, 도서명 varchar)\")\n",
    "\n",
    "data = [('aaa','악몽을 먹고 자란 소년'),\n",
    "             ('bbb','좀비아이'),\n",
    "             ('ccc','공룡백과사전'),\n",
    "             ('ddd','빨간구두'),\n",
    "             ('eee','잠자는 숲속의 미녀')]\n",
    "\n",
    "c.executemany('INSERT INTO 도서명 VALUES (?,?)', data)\n",
    "#--------------------------------------#\n",
    "\n",
    "conn.commit()\n",
    "conn.close()"
   ]
  },
  {
   "cell_type": "markdown",
   "metadata": {},
   "source": [
    " 1.  CREATE TABLE IF NOT EXISTS 도서명 (도서ID varchar, 도서명 varchar)  도서명 이름의 테이블이 없으면 만들고, column 정해주기\n",
    " \n",
    " 2. data 에 데이터 입력\n",
    " \n",
    " 3. INSERT INTO = 도서명에 data를 넣겠다는 뜻. 데이터 쿼리에 바인딩 할 때 저런 식으로 ? 를 많이 사용한다.\n",
    " '\n",
    " #### 그리고 c.excecutemany() 한꺼번에 여러개의 데이터 처리하게 해준다."
   ]
  },
  {
   "cell_type": "code",
   "execution_count": 17,
   "metadata": {},
   "outputs": [
    {
     "name": "stdout",
     "output_type": "stream",
     "text": [
      "('aaa', '악몽을 먹고 자란 소년')\n",
      "('bbb', '좀비아이')\n",
      "('ccc', '공룡백과사전')\n",
      "('ddd', '빨간구두')\n",
      "('eee', '잠자는 숲속의 미녀')\n"
     ]
    }
   ],
   "source": [
    "conn = sqlite3.connect(db_path)\n",
    "c = conn.cursor()\n",
    "\n",
    "for row in c.execute('SELECT * FROM 도서명'):\n",
    "  print(row)"
   ]
  },
  {
   "cell_type": "markdown",
   "metadata": {},
   "source": [
    "### SQL = Structured Query Language\n",
    "\n",
    " - Database를 구조화 할 때 필요한 언어\n",
    " \n",
    " ![image](SQLim1.png)"
   ]
  },
  {
   "cell_type": "markdown",
   "metadata": {},
   "source": [
    "### 쿼리의 기본 구조.\n",
    "\n",
    "- SELECT ~ : 조회할 컬럼명을 선택\n",
    "- FROM ~ : 조회할 테이블명을 지정 (위치와 테이블명을 입력)\n",
    "- WHERE ~ : 질의할 때 필요한 조건을 설정\n",
    "- GROUP BY ~ : 특정 컬럼을 기준으로 그룹을 지어 출력\n",
    "- ORDER BY ~ : SELECT 다음에 오는 컬럼 중 정렬이 필요한 부분을 정렬 (기본 설정 : 오름차순)\n",
    "- LIMIT 숫자 : Display하고자 하는 행의 수를 설정\n",
    "\n",
    " ![image](SLQim2.png)\n",
    " ![image](SQLim3.png)"
   ]
  },
  {
   "cell_type": "code",
   "execution_count": 24,
   "metadata": {},
   "outputs": [
    {
     "name": "stdout",
     "output_type": "stream",
     "text": [
      "('101', '문강태', 'aaa', '2020-06-01', '2020-06-05')\n",
      "('101', '문강태', 'ccc', '2020-06-20', '2020-06-25')\n",
      "('102', '고문영', 'bbb', '2020-06-01', None)\n",
      "('102', '고문영', 'ddd', '2020-06-08', None)\n",
      "('103', '문상태', 'ccc', '2020-06-01', '2020-06-05')\n",
      "('104', '강기둥', None, None, None)\n"
     ]
    }
   ],
   "source": [
    "#- 참고 : 실제 조회를 해보시려면 아래처럼 쓰시면 됩니다.\n",
    "#- c.execute() 괄호 안에 SQL문을 넣으시면 됩니다.\n",
    "\n",
    "import os\n",
    "db_path = os.getenv('HOME')+'/aiffel/sql_to_db/sqlite/mydb.db'\n",
    "conn = sqlite3.connect(db_path)  # mydb.db에 연결합니다.\n",
    "c = conn.cursor()\n",
    "\n",
    "for row in c.execute('SELECT * FROM 도서대출내역'):\n",
    "  print(row)\n",
    "\n",
    "#- ! 출력 시 'NULL' 대신 'None'으로 출력될 수 있으나 동일하게 이해하시면 됩니다."
   ]
  },
  {
   "cell_type": "code",
   "execution_count": null,
   "metadata": {},
   "outputs": [],
   "source": []
  },
  {
   "cell_type": "markdown",
   "metadata": {},
   "source": [
    "## sqlite DB Browser를 이용해 쿼리 수행해보기\n",
    "\n",
    "### 테이블 전체를 다 가져와!\n",
    "\n",
    " - SELECT * FROM 도서대출내역;\n",
    " *은 테이블 전체를 다 가져오라는 뜻\n",
    "\n",
    "### 특정 컬럼 지정하기\n",
    " - SELECT ID FROM 도서대출내역;\n",
    "\n",
    "\n",
    "\n",
    "### 조건 입력하기\n",
    "\n",
    " - SELECT * FROM 도서대출내역     \n",
    " WHERE 이름 = \"문강태\";\n",
    " \n",
    " \n",
    "### GROUP BY 로 중복 제거하기\n",
    " \n",
    " - SELECT 이름 FROM 도서대출내역    \n",
    "GROUP BY 이름;\n",
    "\n",
    "### DISTINCT 로 중복 제거하기\n",
    " \n",
    " - SELECT DISTINCT 이름 FROM 도서대출내역;\n",
    " \n",
    "### ORDER BY 로 정렬하기\n",
    " \n",
    " - SELECT * FROM 도서대출내역   \n",
    "ORDER BY ID ;\n",
    "\n",
    " - SELECT * FROM 도서대출내역    \n",
    "ORDER BY ID DESC ;\n",
    "\n",
    "### 원하는 수 만큼의 row 만 조회하기\n",
    " \n",
    " - SELECT * FROM 도서대출내역 LIMIT 5 ;\n",
    " \n",
    " \n",
    " - SELECT 이름, 대출일, 반납일     \n",
    "FROM 도서대출내역    \n",
    "ORDER BY 대출일 DESC    \n",
    "LIMIT 1;\n",
    " "
   ]
  },
  {
   "cell_type": "markdown",
   "metadata": {},
   "source": [
    "### DISTINCT 와 GROUP BY 잘 써보기\n",
    "\n",
    "![image](SQLim4.png)\n",
    "![image](SQLim5.png)"
   ]
  },
  {
   "cell_type": "markdown",
   "metadata": {},
   "source": [
    "#### 도서대출내역' 테이블에서 |이름|대출건수| 를 출력하는 쿼리를 작성해 보세요.  'GROUP BY 이름'  구문을 활용해야 하며, 'COUNT(*) AS 대출건수' 라고 alias를 활용할 수 있습니다\n",
    "\n",
    "- SELECT 이름 COUNT(*) AS 대출건수   \n",
    "FROM 도서대출내역   \n",
    "GROUP BY 이름"
   ]
  },
  {
   "cell_type": "markdown",
   "metadata": {},
   "source": [
    "### DATA type 바꾸기\n",
    "\n",
    " - SELECT * FROM 도서대출내역2;\n",
    " \n",
    " 대출자별 대출 연월 정보와 해당 월에 총 몇 일을 대출 했는지 정보가 들어있다.\n",
    " \n",
    " #### 평균 대출 일수를 구해보기\n",
    " - 일단 표를 보면, 20일, 10일, 8일 , 이런식으로 저장이 되어있기 때문에, 문자형 데이터임을 알 수 있다.\n",
    " \n",
    " - 데이터 타입을 먼저 확인해보자!"
   ]
  },
  {
   "cell_type": "code",
   "execution_count": 25,
   "metadata": {},
   "outputs": [
    {
     "name": "stdout",
     "output_type": "stream",
     "text": [
      "(0, 'ID', 'varchar', 0, None, 0)\n",
      "(1, '이름', 'varchar', 0, None, 0)\n",
      "(2, '도서ID', 'varchar', 0, None, 0)\n",
      "(3, '대출일', 'varchar', 0, None, 0)\n",
      "(4, '반납일', 'varchar', 0, None, 0)\n"
     ]
    }
   ],
   "source": [
    "import os\n",
    "db_path = os.getenv('HOME')+'/aiffel/sql_to_db/sqlite/mydb.db'\n",
    "conn = sqlite3.connect(db_path)  # mydb.db에 연결합니다.\n",
    "c = conn.cursor()\n",
    "\n",
    "for row in c.execute('pragma table_info(도서대출내역)'):\n",
    "  print(row)"
   ]
  },
  {
   "cell_type": "markdown",
   "metadata": {},
   "source": [
    " - 모두 varchar, 문자형으로 되어 있다.\n",
    " \n",
    " - 대출 일수를 문자형에서 숫자형으로 변환해야함!\n",
    " \n",
    " ####  LEFT, RIGHT, SUBSTRING 사용하기\n",
    " ![image](SQLim6.png)\n",
    " \n",
    " - SELECT *, SUBSTR(대출일수, 1, (length(대출일수)-1)) AS 대출일수_수정    \n",
    "FROM 도서대출내역2;\n",
    "\n",
    "\n",
    " ##### CAST 함수러 숫자로 변환까지\n",
    " - SELECT *, CAST(SUBSTR(대출일수, 1, (length(대출일수)-1)) AS INT) AS 대출일수_수정    \n",
    "FROM 도서대출내역2 ;\n",
    "\n",
    "\n",
    " #### 대출 일수 평균 구하기\n",
    " - SELECT ID, 이름, 대출년월   \n",
    ", AVG(CAST(SUBSTR(대출일수, 1, (length(대출일수)-1)) AS INT)) AS 대출일수_평균    \n",
    "FROM 도서대출내역2    \n",
    "GROUP BY 1,2,3;"
   ]
  },
  {
   "cell_type": "markdown",
   "metadata": {},
   "source": [
    "### WHERE 조건으로 조회하기! (IF 문과 비슷\n",
    "\n",
    " #### 특정 문자를 포함하는 row 가져오기\n",
    " - SELECT * FROM 도서대출내역2    \n",
    "WHERE 이름 LIKE \"문%\" ;\n",
    "\n",
    "  이름이 문으로 시작하는 row 다 가져오기 %문% , %문 도 가능\n",
    "  \n",
    " #### 특정 기간, 날짜 이전 이후의 row 가져오기\n",
    " \n",
    " - SELECT * FROM 도서대출내역   \n",
    "WHERE    \n",
    "     대출일 >= \"2020-06-01\"    \n",
    "AND 대출일 <= \"2020-06-07\" ;   \n",
    "\n",
    " - SELECT * FROM 도서대출내역   \n",
    "WHERE    \n",
    "     대출일 BETWEEN \"2020-06-01\" AND \"2020-06-07\" ;\n",
    "     \n",
    " #### 특정 숫자 이상 또는 이하의 row를 조회하고 싶을 때\n",
    "  - SELECT *   \n",
    ", CAST(SUBSTR(대출일수, 1, (length(대출일수)-1)) AS    INT) AS  \n",
    "대출일수_수정    \n",
    "FROM 도서대출내역2 \n",
    "WHERE    \n",
    "    대출일수_수정 > 5 ;\n",
    "    \n",
    "    \n",
    " #### NULL 조건 다루기\n",
    " - SELECT * FROM 도서대출내역   \n",
    "WHERE 반납일 IS NOT NULL;   \n",
    "\n",
    " - SELECT * FROM 도서대출내역   \n",
    "WHERE 반납일 IS NULL ;\n",
    "\n",
    "\n",
    "#### 조건 1 : 이름이 '태'로 끝나는 데이터를 조회 조건 2 : 대출일이 2020년 6월 19일 이후인 데이터를 조회 조건 3 : ID가 102 아래인 데이터를 조회 조건 4 : 반납일이 NULL이 아닌 데이터를 조회\n",
    "\n",
    " - SELECT *FROM 도서대출내역   \n",
    "WHERE 이름 LIKE \"%태\"   \n",
    "AND 대출일 >=  \"2020-06-19\"   \n",
    "AND ID < 102   \n",
    "AND 반납일 IS NOT NULL;"
   ]
  },
  {
   "cell_type": "markdown",
   "metadata": {},
   "source": [
    "## SQL JOIN 수행하기\n",
    "![image](SQLim7.png)\n",
    "\n",
    "- INNER JOIN : A 테이블과 B 테이블의 교집합을 조회\n",
    "- LEFT JOIN : (기준은 A 테이블) A 테이블을 기준으로 해서 B 테이블은 공통되는 부분만 조회\n",
    "- RIGHT JOIN : (기준은 B 테이블) B 테이블을 기준으로 해서 A 테이블은 공통되는 부분만 조회\n",
    "- FULL JOIN : A 테이블과 B 테이블 모두에서 빠트리는 부분 없이 모두 조회\n"
   ]
  },
  {
   "cell_type": "markdown",
   "metadata": {},
   "source": [
    "#### 데이터 구조 파악\n",
    "- SELECT * FROM 대출내역 ;   \n",
    "SELECT * FROM 도서명 ;\n",
    "\n",
    "#### INNER JOIN \n",
    " - SELECT A.*, B.도서명    \n",
    "FROM 대출내역 AS A    \n",
    "INNER JOIN 도서명 AS B   \n",
    "ON A.도서ID = B.도서ID\n",
    "\n",
    "#### LEFT JOIN\n",
    " - SELECT A.*, B.도서명    \n",
    "FROM 대출내역 AS A    \n",
    "LEFT JOIN 도서명 AS B   \n",
    "ON A.도서ID = B.도서ID\n",
    "\n",
    "#### RIGHT JOIN\n",
    " - SELECT B.*, A.ID, A.이름    \n",
    "FROM 대출내역 AS A    \n",
    "RIGHT JOIN 도서명 AS B   \n",
    "ON A.도서ID = B.도서ID\n",
    "\n",
    "#### FULL OUTER JOIN\n",
    " - SELECT A.*, B.도서명    \n",
    "FROM 대출내역 AS A    \n",
    "FULL OUTER JOIN 도서명 AS B   \n",
    "ON A.도서ID = B.도서ID   \n",
    "ORDER BY 도서ID ;\n",
    "\n",
    "#### 중첩질의\n",
    "\n",
    " -SELECT C.이름, COUNT(*) 대출건수   \n",
    "FROM (\n",
    "    SELECT A.*, B.도서명    \n",
    "    FROM 대출내역 AS A    \n",
    "    LEFT JOIN 도서명 AS B   \n",
    "    ON A.도서ID = B.도서ID ) C   \n",
    "GROUP BY C.이름\n",
    "\n",
    "#### 쿼리 조건절 1. IFNULL\n",
    "\n",
    " - SELECT A.*, IFNULL(B.도서명, '도서명미상') AS 도서명   \n",
    "    FROM 대출내역 AS A    \n",
    "    LEFT JOIN 도서명 AS B   \n",
    "    ON A.도서ID = B.도서ID   \n",
    "    \n",
    " 도서명 항목이 NULL인지 체크해서, NULL이면 값 2, NULL 이 아니면 그대로 리턴\n",
    " \n",
    "#### 쿼리 조건잘 2.CASE\n",
    "\n",
    " - SELECT 이름, CASE WHEN 대출일수_수정 > 5 THEN '기간초과' ELSE '기간내' END AS 대출기간   \n",
    "FROM (   \n",
    "SELECT *, CAST(SUBSTR(대출일수, 1, (length(대출일수)-1)) AS INT) AS 대출일수_수정 \n",
    "FROM 도서대출내역2 )\n",
    "\n",
    " \n",
    "#### IFNULL(B.도서명, '도서명미상')을 CASE 문을 사용해서 동일하게 바꾼다면 어떻게 될까요?\n",
    " - CASE WHEN  B.도서명 IS NULL THEN '도서명미상' ELSE B.도서명 END\n",
    " \n",
    " \n",
    "#### '도서명' 테이블과 '도서대출내역' 테이블을 도서ID를 key로 하여 LEFT  JOIN해서 |도서ID|도서명|대출건수|대출상태| 항목을 출력하는 쿼리를 작성해 보세요. \n",
    "\n",
    "\n",
    "\n",
    "대출건수 : 도서별로 도서대출내역 테이블에 대출일자가 있으면 대출건수 1로 본다. 여러 번 대출되었으면 대출된 회수만큼 합산된다. \n",
    "\n",
    "대출상태 : 대출일자는 NOT NULL인데 반납일자가 NULL인 도서대출내역이 있으면 '대출중', 그렇지 않고 모든 대출내역에 반납일자가 명시되어 있으면  '보관중'으로 본다.\n",
    "\n",
    "- SELECT C.도서ID, C.도서명, SUM(C.대출건수) AS 대출건수,    \n",
    " CASE SUM(C.대출건수)-SUM(C.반납건수) WHEN 0 THEN '보관중' ELSE   \n",
    " '대출중' END AS 대출상태\n",
    "FROM (   \n",
    "    SELECT A.도서ID, A.도서명,    \n",
    "     CASE WHEN B.대출일 IS NULL THEN 0 ELSE 1 END AS 대출건수,   \n",
    "     CASE WHEN B.반납일 IS NULL THEN 0 ELSE 1 END AS 반납건수   \n",
    "    FROM 도서명 AS A     \n",
    "    LEFT JOIN 도서대출내역 AS B     \n",
    "    ON A.도서ID = B.도서ID ) AS C   \n",
    "GROUP BY C.도서ID, C.도서명 ;   \n",
    "\n",
    " "
   ]
  },
  {
   "cell_type": "code",
   "execution_count": null,
   "metadata": {},
   "outputs": [],
   "source": []
  }
 ],
 "metadata": {
  "kernelspec": {
   "display_name": "Python 3",
   "language": "python",
   "name": "python3"
  },
  "language_info": {
   "codemirror_mode": {
    "name": "ipython",
    "version": 3
   },
   "file_extension": ".py",
   "mimetype": "text/x-python",
   "name": "python",
   "nbconvert_exporter": "python",
   "pygments_lexer": "ipython3",
   "version": "3.7.6"
  }
 },
 "nbformat": 4,
 "nbformat_minor": 4
}
