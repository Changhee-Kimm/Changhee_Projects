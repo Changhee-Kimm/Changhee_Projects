{
 "cells": [
  {
   "cell_type": "markdown",
   "metadata": {},
   "source": [
    "## 1. 데이터 준비와 확인\n",
    "\n",
    "## 2. 데이터로더 구성\n",
    "\n",
    "## 3. 모델구성을 위한 데이터 분석 및 가공\n",
    " - 데이터셋 내 문장 길이 분포\n",
    " - 적절한 최대 문장 길이 지정\n",
    " - keras.preprocessing.sequence.pad_sequences 을 활용한 패딩 추가\n",
    " \n",
    " \n",
    "## 4. 모델구성 및 validation set 구성\n",
    " - 3가지 이상\n",
    " \n",
    "## 5. 모델 훈련\n",
    "\n",
    "## 6. Loss, Accuracy 그래프 시각화\n",
    "\n",
    "## 7. 학습된 Embedding 레이어 분석\n",
    "\n",
    "## 8 . 한국어 Word2Vec 임베딩 활용하여 성능개선\n",
    "\n",
    " - 한국어 Word2Vec은 다음 경로에서 구할 수 있습니다.\n",
    "\n",
    "https://github.com/Kyubyong/wordvectors"
   ]
  },
  {
   "cell_type": "markdown",
   "metadata": {},
   "source": [
    "## 1. 데이터 준비와 확인\n",
    "```\n",
    "$ wget https://raw.githubusercontent.com/e9t/nsmc/master/ratings_train.txt\n",
    "$ wget https://raw.githubusercontent.com/e9t/nsmc/master/ratings_test.txt\n",
    "$ mv ratings_*.txt ~/aiffel/sentimental_classification\n",
    "```"
   ]
  },
  {
   "cell_type": "code",
   "execution_count": 1,
   "metadata": {},
   "outputs": [
    {
     "data": {
      "text/html": [
       "<div>\n",
       "<style scoped>\n",
       "    .dataframe tbody tr th:only-of-type {\n",
       "        vertical-align: middle;\n",
       "    }\n",
       "\n",
       "    .dataframe tbody tr th {\n",
       "        vertical-align: top;\n",
       "    }\n",
       "\n",
       "    .dataframe thead th {\n",
       "        text-align: right;\n",
       "    }\n",
       "</style>\n",
       "<table border=\"1\" class=\"dataframe\">\n",
       "  <thead>\n",
       "    <tr style=\"text-align: right;\">\n",
       "      <th></th>\n",
       "      <th>id</th>\n",
       "      <th>document</th>\n",
       "      <th>label</th>\n",
       "    </tr>\n",
       "  </thead>\n",
       "  <tbody>\n",
       "    <tr>\n",
       "      <th>0</th>\n",
       "      <td>9976970</td>\n",
       "      <td>아 더빙.. 진짜 짜증나네요 목소리</td>\n",
       "      <td>0</td>\n",
       "    </tr>\n",
       "    <tr>\n",
       "      <th>1</th>\n",
       "      <td>3819312</td>\n",
       "      <td>흠...포스터보고 초딩영화줄....오버연기조차 가볍지 않구나</td>\n",
       "      <td>1</td>\n",
       "    </tr>\n",
       "    <tr>\n",
       "      <th>2</th>\n",
       "      <td>10265843</td>\n",
       "      <td>너무재밓었다그래서보는것을추천한다</td>\n",
       "      <td>0</td>\n",
       "    </tr>\n",
       "    <tr>\n",
       "      <th>3</th>\n",
       "      <td>9045019</td>\n",
       "      <td>교도소 이야기구먼 ..솔직히 재미는 없다..평점 조정</td>\n",
       "      <td>0</td>\n",
       "    </tr>\n",
       "    <tr>\n",
       "      <th>4</th>\n",
       "      <td>6483659</td>\n",
       "      <td>사이몬페그의 익살스런 연기가 돋보였던 영화!스파이더맨에서 늙어보이기만 했던 커스틴 ...</td>\n",
       "      <td>1</td>\n",
       "    </tr>\n",
       "  </tbody>\n",
       "</table>\n",
       "</div>"
      ],
      "text/plain": [
       "         id                                           document  label\n",
       "0   9976970                                아 더빙.. 진짜 짜증나네요 목소리      0\n",
       "1   3819312                  흠...포스터보고 초딩영화줄....오버연기조차 가볍지 않구나      1\n",
       "2  10265843                                  너무재밓었다그래서보는것을추천한다      0\n",
       "3   9045019                      교도소 이야기구먼 ..솔직히 재미는 없다..평점 조정      0\n",
       "4   6483659  사이몬페그의 익살스런 연기가 돋보였던 영화!스파이더맨에서 늙어보이기만 했던 커스틴 ...      1"
      ]
     },
     "execution_count": 1,
     "metadata": {},
     "output_type": "execute_result"
    }
   ],
   "source": [
    "import pandas as pd\n",
    "import urllib.request\n",
    "%matplotlib inline\n",
    "import matplotlib.pyplot as plt\n",
    "import re\n",
    "from konlpy.tag import Okt\n",
    "from tensorflow import keras\n",
    "from tensorflow.keras.preprocessing.text import Tokenizer\n",
    "import numpy as np\n",
    "from tensorflow.keras.preprocessing.sequence import pad_sequences\n",
    "from collections import Counter\n",
    "\n",
    "# 데이터를 읽어봅시다. \n",
    "train_data = pd.read_table('~/aiffel/sentiment_classification/ratings_train.txt')\n",
    "test_data = pd.read_table('~/aiffel/sentiment_classification/ratings_test.txt')\n",
    "\n",
    "train_data.head()"
   ]
  },
  {
   "cell_type": "markdown",
   "metadata": {},
   "source": [
    "## 2. 데이터 로더 구성\n",
    "\n",
    " - 데이터의 중복 제거\n",
    " - NaN 결측치 제거\n",
    " - 한국어 토크나이저로 토큰화\n",
    " - 불용어(Stopwords) 제거\n",
    " - 사전word_to_index 구성\n",
    " - 텍스트 스트링을 사전 인덱스 스트링으로 변환\n",
    " - X_train, y_train, X_test, y_test, word_to_index 리턴"
   ]
  },
  {
   "cell_type": "code",
   "execution_count": 2,
   "metadata": {},
   "outputs": [],
   "source": [
    "from konlpy.tag import Mecab\n",
    "tokenizer = Mecab()\n",
    "stopwords = ['의','가','이','은','들','는','좀','잘','걍','과','도',\n",
    "             '를','으로','자','에','와','한','하다','다','고','하','을','.','..',\n",
    "             ',','었','만','는데','로','음','것','아','네요','어','같','했','에서','기','네','거'\n",
    "             ,'수','되','면','게','지','있','나','점','인','주','내','~','던','어요','할','겠','1'\n",
    "             ,'해','습니다','...','더','라','그','볼']\n",
    "\n",
    "def load_data(train_data, test_data, num_words=10000):\n",
    "    train_data.drop_duplicates(subset=['document'], inplace=True)\n",
    "    train_data = train_data.dropna(how = 'any') \n",
    "    test_data.drop_duplicates(subset=['document'], inplace=True)\n",
    "    test_data = test_data.dropna(how = 'any') \n",
    "\n",
    "    X_train = []\n",
    "    for sentence in train_data['document']:\n",
    "        temp_X = tokenizer.morphs(sentence) # 토큰화\n",
    "        temp_X = [word for word in temp_X if not word in stopwords] # 불용어 제거\n",
    "        X_train.append(temp_X)\n",
    "\n",
    "    X_test = []\n",
    "    for sentence in test_data['document']:\n",
    "        temp_X = tokenizer.morphs(sentence) # 토큰화\n",
    "        temp_X = [word for word in temp_X if not word in stopwords] # 불용어 제거\n",
    "        X_test.append(temp_X)\n",
    "\n",
    "    words = np.concatenate(X_train).tolist()\n",
    "    counter = Counter(words)\n",
    "    counter = counter.most_common(10000-4)\n",
    "    vocab = ['<PAD>', '<BOS>', '<UNK>', '<UNUSED>'] + [key for key, _ in counter]\n",
    "    word_to_index = {word:index for index, word in enumerate(vocab)}\n",
    "\n",
    "    def wordlist_to_indexlist(wordlist):\n",
    "        return [word_to_index[word] if word in word_to_index else word_to_index['<UNK>'] for word in wordlist]\n",
    "\n",
    "    X_train = list(map(wordlist_to_indexlist, X_train))\n",
    "    X_test = list(map(wordlist_to_indexlist, X_test))\n",
    "\n",
    "    return X_train, np.array(list(train_data['label'])), X_test, np.array(list(test_data['label'])), word_to_index\n",
    "\n",
    "X_train, y_train, X_test, y_test, word_to_index = load_data(train_data, test_data) "
   ]
  },
  {
   "cell_type": "code",
   "execution_count": 3,
   "metadata": {},
   "outputs": [
    {
     "name": "stdout",
     "output_type": "stream",
     "text": [
      "<PAD>\n",
      "<BOS>\n",
      "<UNK>\n",
      "<UNUSED>\n",
      "영화\n",
      "보\n",
      "!\n",
      "없\n",
      "?\n",
      "좋\n",
      "너무\n",
      "봤\n",
      "적\n",
      "안\n",
      "정말\n",
      "재밌\n",
      "지만\n",
      "진짜\n",
      "않\n",
      "았\n",
      "ㅋㅋ\n",
      "말\n",
      "연기\n",
      "최고\n",
      "평점\n",
      "이런\n",
      "왜\n",
      "스토리\n",
      "ㅋㅋㅋ\n",
      "드라마\n",
      "생각\n",
      "아니\n",
      "싶\n",
      "사람\n",
      "듯\n",
      "때\n",
      "감동\n",
      "함\n",
      "배우\n",
      "본\n",
      "까지\n",
      "뭐\n",
      "알\n",
      "만들\n",
      "내용\n",
      "감독\n",
      "보다\n",
      "그냥\n",
      "재미\n",
      "시간\n"
     ]
    }
   ],
   "source": [
    "index_to_word = {index:word for word, index in word_to_index.items()}\n",
    "\n",
    "###상위 100개 에서 불용어 제거하기\n",
    "for i in range(50):\n",
    "    print(index_to_word[i])"
   ]
  },
  {
   "cell_type": "code",
   "execution_count": 4,
   "metadata": {},
   "outputs": [],
   "source": [
    "# 문장 1개를 활용할 딕셔너리와 함께 주면, 단어 인덱스 리스트 벡터로 변환해 주는 함수입니다. \n",
    "# 단, 모든 문장은 <BOS>로 시작하는 것으로 합니다. \n",
    "def get_encoded_sentence(sentence, word_to_index):\n",
    "    return [word_to_index['<BOS>']]+[word_to_index[word] if word in word_to_index else word_to_index['<UNK>'] for word in sentence.split()]\n",
    "\n",
    "# 여러 개의 문장 리스트를 한꺼번에 단어 인덱스 리스트 벡터로 encode해 주는 함수입니다. \n",
    "def get_encoded_sentences(sentences, word_to_index):\n",
    "    return [get_encoded_sentence(sentence, word_to_index) for sentence in sentences]\n",
    "\n",
    "# 숫자 벡터로 encode된 문장을 원래대로 decode하는 함수입니다. \n",
    "def get_decoded_sentence(encoded_sentence, index_to_word):\n",
    "    return ' '.join(index_to_word[index] if index in index_to_word else '<UNK>' for index in encoded_sentence[1:])  #[1:]를 통해 <BOS>를 제외\n",
    "\n",
    "# 여러개의 숫자 벡터로 encode된 문장을 한꺼번에 원래대로 decode하는 함수입니다. \n",
    "def get_decoded_sentences(encoded_sentences, index_to_word):\n",
    "    return [get_decoded_sentence(encoded_sentence, index_to_word) for encoded_sentence in encoded_sentences]"
   ]
  },
  {
   "cell_type": "markdown",
   "metadata": {},
   "source": [
    "## 3. 모델구성을 위한 데이터 분석 및 가공\n",
    "\n",
    "- 데이터셋 내 문장 길이 분포\n",
    "- 적절한 최대 문장 길이 지정\n",
    "- keras.preprocessing.sequence.pad_sequences 을 활용한 패딩 추가"
   ]
  },
  {
   "cell_type": "code",
   "execution_count": 5,
   "metadata": {},
   "outputs": [
    {
     "name": "stdout",
     "output_type": "stream",
     "text": [
      "문장길이 평균 :  11.119909490680305\n",
      "문장길이 최대 :  115\n",
      "문장길이 표준편차 :  8.994011651277654\n",
      "pad_sequences maxlen :  47\n",
      "전체 문장의 0.9969796098065414%가 maxlen 설정값 이내에 포함됩니다. \n"
     ]
    }
   ],
   "source": [
    "total_data_text = list(X_train) + list(X_test)\n",
    "# 텍스트데이터 문장길이의 리스트를 생성한 후\n",
    "num_tokens = [len(tokens) for tokens in total_data_text]\n",
    "num_tokens = np.array(num_tokens)\n",
    "# 문장길이의 평균값, 최대값, 표준편차를 계산해 본다. \n",
    "print('문장길이 평균 : ', np.mean(num_tokens))\n",
    "print('문장길이 최대 : ', np.max(num_tokens))\n",
    "print('문장길이 표준편차 : ', np.std(num_tokens))\n",
    "\n",
    "# 예를들어, 최대 길이를 (평균 + 2*표준편차)로 한다면,  \n",
    "max_tokens = np.mean(num_tokens) + 4 * np.std(num_tokens)\n",
    "maxlen = int(max_tokens)\n",
    "print('pad_sequences maxlen : ', maxlen)\n",
    "print('전체 문장의 {}%가 maxlen 설정값 이내에 포함됩니다. '.format(np.sum(num_tokens < max_tokens) / len(num_tokens)))"
   ]
  },
  {
   "cell_type": "markdown",
   "metadata": {},
   "source": [
    "#### pre padding이 더 성능이 좋다.\n",
    "#### RNN 은 뒤로 갈 수록 앞의 데이터가 쌓이게 되는데, 최종 state값에 가장 영향을 많이 미친다.\n",
    "#### 뒤의 데이터가 0이면 끝에 가서 데이터의 의미가 더 줄어들게 된다.\n",
    "#### 따라서 앞에 부분을 0으로 Padding하는것이 좋다."
   ]
  },
  {
   "cell_type": "code",
   "execution_count": 6,
   "metadata": {},
   "outputs": [
    {
     "name": "stdout",
     "output_type": "stream",
     "text": [
      "(146182, 47)\n"
     ]
    }
   ],
   "source": [
    "X_train = keras.preprocessing.sequence.pad_sequences(X_train,\n",
    "                                                        value=word_to_index[\"<PAD>\"],\n",
    "                                                        padding='pre', # 혹은 'pre'\n",
    "                                                        maxlen=maxlen)\n",
    "\n",
    "X_test = keras.preprocessing.sequence.pad_sequences(X_test,\n",
    "                                                       value=word_to_index[\"<PAD>\"],\n",
    "                                                       padding='pre', # 혹은 'pre'\n",
    "                                                       maxlen=maxlen)\n",
    "\n",
    "print(X_train.shape)"
   ]
  },
  {
   "cell_type": "markdown",
   "metadata": {},
   "source": [
    "## 4. 모델구성 및 validation set 구성\n",
    " - 3가지 이상\n",
    " \n",
    " \n",
    " #### 4-1. LSTM"
   ]
  },
  {
   "cell_type": "code",
   "execution_count": 7,
   "metadata": {},
   "outputs": [
    {
     "name": "stdout",
     "output_type": "stream",
     "text": [
      "Model: \"sequential\"\n",
      "_________________________________________________________________\n",
      "Layer (type)                 Output Shape              Param #   \n",
      "=================================================================\n",
      "embedding (Embedding)        (None, None, 47)          4700000   \n",
      "_________________________________________________________________\n",
      "lstm (LSTM)                  (None, 128)               90112     \n",
      "_________________________________________________________________\n",
      "dense (Dense)                (None, 8)                 1032      \n",
      "_________________________________________________________________\n",
      "dense_1 (Dense)              (None, 1)                 9         \n",
      "=================================================================\n",
      "Total params: 4,791,153\n",
      "Trainable params: 4,791,153\n",
      "Non-trainable params: 0\n",
      "_________________________________________________________________\n"
     ]
    }
   ],
   "source": [
    "vocab_size = 100000    # 어휘 사전의 크기입니다(10,000개의 단어)\n",
    "word_vector_dim = 47  # 워드 벡터의 차원수 (변경가능한 하이퍼파라미터)\n",
    "\n",
    "\n",
    "model_LSTM = keras.Sequential()\n",
    "# [[YOUR CODE]]\n",
    "model_LSTM.add(keras.layers.Embedding(vocab_size, word_vector_dim, input_shape=(None,)))\n",
    "model_LSTM.add(keras.layers.LSTM(128))   # 가장 널리 쓰이는 RNN인 LSTM 레이어를 사용하였습니다. 이때 LSTM state 벡터의 차원수는 8로 하였습니다. (변경가능)\n",
    "model_LSTM.add(keras.layers.Dense(8, activation='relu'))\n",
    "model_LSTM.add(keras.layers.Dense(1, activation='sigmoid'))  # 최종 출력은 긍정/부정을 나타내는 1dim 입니다.\n",
    "\n",
    "model_LSTM.summary()"
   ]
  },
  {
   "cell_type": "markdown",
   "metadata": {},
   "source": [
    "#### 4-2.   1-D CNN"
   ]
  },
  {
   "cell_type": "code",
   "execution_count": 8,
   "metadata": {},
   "outputs": [
    {
     "name": "stdout",
     "output_type": "stream",
     "text": [
      "Model: \"sequential_1\"\n",
      "_________________________________________________________________\n",
      "Layer (type)                 Output Shape              Param #   \n",
      "=================================================================\n",
      "embedding_1 (Embedding)      (None, None, 47)          4700000   \n",
      "_________________________________________________________________\n",
      "conv1d (Conv1D)              (None, None, 16)          5280      \n",
      "_________________________________________________________________\n",
      "max_pooling1d (MaxPooling1D) (None, None, 16)          0         \n",
      "_________________________________________________________________\n",
      "conv1d_1 (Conv1D)            (None, None, 16)          1808      \n",
      "_________________________________________________________________\n",
      "global_max_pooling1d (Global (None, 16)                0         \n",
      "_________________________________________________________________\n",
      "dense_2 (Dense)              (None, 8)                 136       \n",
      "_________________________________________________________________\n",
      "dense_3 (Dense)              (None, 1)                 9         \n",
      "=================================================================\n",
      "Total params: 4,707,233\n",
      "Trainable params: 4,707,233\n",
      "Non-trainable params: 0\n",
      "_________________________________________________________________\n"
     ]
    }
   ],
   "source": [
    "model_1DCNN = keras.Sequential()\n",
    "model_1DCNN.add(keras.layers.Embedding(vocab_size, word_vector_dim, input_shape=(None,)))\n",
    "model_1DCNN.add(keras.layers.Conv1D(16, 7, activation='relu'))\n",
    "model_1DCNN.add(keras.layers.MaxPooling1D(5))\n",
    "model_1DCNN.add(keras.layers.Conv1D(16, 7, activation='relu'))\n",
    "model_1DCNN.add(keras.layers.GlobalMaxPooling1D())\n",
    "model_1DCNN.add(keras.layers.Dense(8, activation='relu'))\n",
    "model_1DCNN.add(keras.layers.Dense(1, activation='sigmoid'))  # 최종 출력은 긍정/부정을 나타내는 1dim 입니다.\n",
    "\n",
    "model_1DCNN.summary()"
   ]
  },
  {
   "cell_type": "markdown",
   "metadata": {},
   "source": [
    "#### 4-3.  GlobalMaxPooling1D"
   ]
  },
  {
   "cell_type": "code",
   "execution_count": 9,
   "metadata": {},
   "outputs": [
    {
     "name": "stdout",
     "output_type": "stream",
     "text": [
      "Model: \"sequential_2\"\n",
      "_________________________________________________________________\n",
      "Layer (type)                 Output Shape              Param #   \n",
      "=================================================================\n",
      "embedding_2 (Embedding)      (None, None, 47)          4700000   \n",
      "_________________________________________________________________\n",
      "global_max_pooling1d_1 (Glob (None, 47)                0         \n",
      "_________________________________________________________________\n",
      "dense_4 (Dense)              (None, 8)                 384       \n",
      "_________________________________________________________________\n",
      "dense_5 (Dense)              (None, 1)                 9         \n",
      "=================================================================\n",
      "Total params: 4,700,393\n",
      "Trainable params: 4,700,393\n",
      "Non-trainable params: 0\n",
      "_________________________________________________________________\n"
     ]
    }
   ],
   "source": [
    "model_GlobMaxPool = keras.Sequential()\n",
    "model_GlobMaxPool.add(keras.layers.Embedding(vocab_size, word_vector_dim, input_shape=(None,)))\n",
    "model_GlobMaxPool.add(keras.layers.GlobalMaxPooling1D())\n",
    "model_GlobMaxPool.add(keras.layers.Dense(8, activation='relu'))\n",
    "model_GlobMaxPool.add(keras.layers.Dense(1, activation='sigmoid'))  # 최종 출력은 긍정/부정을 나타내는 1dim 입니다.\n",
    "\n",
    "model_GlobMaxPool.summary()"
   ]
  },
  {
   "cell_type": "markdown",
   "metadata": {},
   "source": [
    "#### Validation Set"
   ]
  },
  {
   "cell_type": "code",
   "execution_count": 10,
   "metadata": {},
   "outputs": [
    {
     "name": "stdout",
     "output_type": "stream",
     "text": [
      "(100000, 47)\n",
      "(100000,)\n"
     ]
    }
   ],
   "source": [
    "# validation set 46182건 분리\n",
    "X_val = X_train[:46182]   \n",
    "y_val = y_train[:46182]\n",
    "\n",
    "# validation set을 제외한 나머지 100000건\n",
    "partial_X_train = X_train[46182:]  \n",
    "partial_y_train = y_train[46182:]\n",
    "\n",
    "print(partial_X_train.shape)\n",
    "print(partial_y_train.shape)"
   ]
  },
  {
   "cell_type": "markdown",
   "metadata": {},
   "source": [
    "## 5. Training Model"
   ]
  },
  {
   "cell_type": "code",
   "execution_count": 11,
   "metadata": {
    "scrolled": true
   },
   "outputs": [
    {
     "name": "stdout",
     "output_type": "stream",
     "text": [
      "Epoch 1/10\n",
      "196/196 [==============================] - 31s 157ms/step - loss: 0.4811 - accuracy: 0.7734 - val_loss: 0.3608 - val_accuracy: 0.8424\n",
      "Epoch 2/10\n",
      "196/196 [==============================] - 30s 151ms/step - loss: 0.3397 - accuracy: 0.8558 - val_loss: 0.3544 - val_accuracy: 0.8449\n",
      "Epoch 3/10\n",
      "196/196 [==============================] - 29s 150ms/step - loss: 0.3177 - accuracy: 0.8670 - val_loss: 0.3537 - val_accuracy: 0.8462\n",
      "Epoch 4/10\n",
      "196/196 [==============================] - 29s 150ms/step - loss: 0.3037 - accuracy: 0.8736 - val_loss: 0.3561 - val_accuracy: 0.8466\n",
      "Epoch 5/10\n",
      "196/196 [==============================] - 29s 150ms/step - loss: 0.2889 - accuracy: 0.8815 - val_loss: 0.3616 - val_accuracy: 0.8449\n",
      "Epoch 6/10\n",
      "196/196 [==============================] - 29s 150ms/step - loss: 0.2740 - accuracy: 0.8893 - val_loss: 0.3672 - val_accuracy: 0.8444\n",
      "Epoch 7/10\n",
      "196/196 [==============================] - 29s 149ms/step - loss: 0.2573 - accuracy: 0.8971 - val_loss: 0.3803 - val_accuracy: 0.8430\n",
      "Epoch 8/10\n",
      "196/196 [==============================] - 29s 149ms/step - loss: 0.2396 - accuracy: 0.9051 - val_loss: 0.3793 - val_accuracy: 0.8434\n",
      "Epoch 9/10\n",
      "196/196 [==============================] - 29s 149ms/step - loss: 0.2234 - accuracy: 0.9113 - val_loss: 0.4120 - val_accuracy: 0.8418\n",
      "Epoch 10/10\n",
      "196/196 [==============================] - 29s 149ms/step - loss: 0.2069 - accuracy: 0.9180 - val_loss: 0.4485 - val_accuracy: 0.8400\n"
     ]
    }
   ],
   "source": [
    "model_LSTM.compile(optimizer='adam',\n",
    "              loss='binary_crossentropy',\n",
    "              metrics=['accuracy'])\n",
    "              \n",
    "epochs=10  # 몇 epoch를 훈련하면 좋을지 결과를 보면서 바꾸어 봅시다. \n",
    "\n",
    "history_LSTM = model_LSTM.fit(partial_X_train,\n",
    "                    partial_y_train,\n",
    "                    epochs=epochs,\n",
    "                    batch_size=512,\n",
    "                    validation_data=(X_val, y_val),\n",
    "                    verbose=1)"
   ]
  },
  {
   "cell_type": "code",
   "execution_count": 12,
   "metadata": {},
   "outputs": [
    {
     "name": "stdout",
     "output_type": "stream",
     "text": [
      "Epoch 1/8\n",
      "196/196 [==============================] - 7s 35ms/step - loss: 0.5371 - accuracy: 0.7225 - val_loss: 0.4038 - val_accuracy: 0.8122\n",
      "Epoch 2/8\n",
      "196/196 [==============================] - 7s 35ms/step - loss: 0.3699 - accuracy: 0.8357 - val_loss: 0.3926 - val_accuracy: 0.8207\n",
      "Epoch 3/8\n",
      "196/196 [==============================] - 7s 35ms/step - loss: 0.3233 - accuracy: 0.8602 - val_loss: 0.3965 - val_accuracy: 0.8211\n",
      "Epoch 4/8\n",
      "196/196 [==============================] - 7s 34ms/step - loss: 0.2806 - accuracy: 0.8820 - val_loss: 0.4140 - val_accuracy: 0.8192\n",
      "Epoch 5/8\n",
      "196/196 [==============================] - 6s 32ms/step - loss: 0.2361 - accuracy: 0.9039 - val_loss: 0.4479 - val_accuracy: 0.8153\n",
      "Epoch 6/8\n",
      "196/196 [==============================] - 6s 32ms/step - loss: 0.1939 - accuracy: 0.9241 - val_loss: 0.4928 - val_accuracy: 0.8112\n",
      "Epoch 7/8\n",
      "196/196 [==============================] - 6s 32ms/step - loss: 0.1578 - accuracy: 0.9392 - val_loss: 0.5490 - val_accuracy: 0.8085\n",
      "Epoch 8/8\n",
      "196/196 [==============================] - 6s 32ms/step - loss: 0.1294 - accuracy: 0.9503 - val_loss: 0.6160 - val_accuracy: 0.8044\n"
     ]
    }
   ],
   "source": [
    "model_1DCNN.compile(optimizer='adam',\n",
    "              loss='binary_crossentropy',\n",
    "              metrics=['accuracy'])\n",
    "              \n",
    "epochs=8  # 몇 epoch를 훈련하면 좋을지 결과를 보면서 바꾸어 봅시다. \n",
    "\n",
    "history_1DCNN = model_1DCNN.fit(partial_X_train,\n",
    "                    partial_y_train,\n",
    "                    epochs=epochs,\n",
    "                    batch_size=512,\n",
    "                    validation_data=(X_val, y_val),\n",
    "                    verbose=1)"
   ]
  },
  {
   "cell_type": "code",
   "execution_count": 13,
   "metadata": {},
   "outputs": [
    {
     "name": "stdout",
     "output_type": "stream",
     "text": [
      "Epoch 1/7\n",
      "196/196 [==============================] - 5s 28ms/step - loss: 0.5551 - accuracy: 0.7712 - val_loss: 0.3982 - val_accuracy: 0.8284\n",
      "Epoch 2/7\n",
      "196/196 [==============================] - 5s 25ms/step - loss: 0.3551 - accuracy: 0.8481 - val_loss: 0.3518 - val_accuracy: 0.8449\n",
      "Epoch 3/7\n",
      "196/196 [==============================] - 5s 25ms/step - loss: 0.3038 - accuracy: 0.8738 - val_loss: 0.3469 - val_accuracy: 0.8485\n",
      "Epoch 4/7\n",
      "196/196 [==============================] - 5s 25ms/step - loss: 0.2708 - accuracy: 0.8900 - val_loss: 0.3518 - val_accuracy: 0.8495\n",
      "Epoch 5/7\n",
      "196/196 [==============================] - 5s 27ms/step - loss: 0.2436 - accuracy: 0.9031 - val_loss: 0.3622 - val_accuracy: 0.8478\n",
      "Epoch 6/7\n",
      "196/196 [==============================] - 5s 26ms/step - loss: 0.2186 - accuracy: 0.9155 - val_loss: 0.3770 - val_accuracy: 0.8464\n",
      "Epoch 7/7\n",
      "196/196 [==============================] - 5s 24ms/step - loss: 0.1950 - accuracy: 0.9260 - val_loss: 0.3964 - val_accuracy: 0.8454\n"
     ]
    }
   ],
   "source": [
    "model_GlobMaxPool.compile(optimizer='adam',\n",
    "              loss='binary_crossentropy',\n",
    "              metrics=['accuracy'])\n",
    "              \n",
    "epochs=7  # 몇 epoch를 훈련하면 좋을지 결과를 보면서 바꾸어 봅시다. \n",
    "\n",
    "history_GlobMaxPool = model_GlobMaxPool.fit(partial_X_train,\n",
    "                    partial_y_train,\n",
    "                    epochs=epochs,\n",
    "                    batch_size=512,\n",
    "                    validation_data=(X_val, y_val),\n",
    "                    verbose=1)"
   ]
  },
  {
   "cell_type": "markdown",
   "metadata": {},
   "source": [
    "## 6. Loss, Accuracy 그래프 시각화"
   ]
  },
  {
   "cell_type": "code",
   "execution_count": 14,
   "metadata": {},
   "outputs": [
    {
     "name": "stdout",
     "output_type": "stream",
     "text": [
      "1537/1537 - 11s - loss: 0.4479 - accuracy: 0.8356\n",
      "1537/1537 - 1s - loss: 0.6387 - accuracy: 0.7967\n",
      "1537/1537 - 1s - loss: 0.4096 - accuracy: 0.8381\n",
      "[0.4478563964366913, 0.8356286883354187]\n",
      "[0.638695478439331, 0.7967329025268555]\n",
      "[0.40962332487106323, 0.838090181350708]\n"
     ]
    }
   ],
   "source": [
    "results_LSTM = model_LSTM.evaluate(X_test,  y_test, verbose=2)\n",
    "results_1DCNN = model_1DCNN.evaluate(X_test,  y_test, verbose=2)\n",
    "results_GlobMaxPool = model_GlobMaxPool.evaluate(X_test,  y_test, verbose=2)\n",
    "print(results_LSTM)\n",
    "print(results_1DCNN)\n",
    "print(results_GlobMaxPool)"
   ]
  },
  {
   "cell_type": "code",
   "execution_count": 15,
   "metadata": {},
   "outputs": [
    {
     "name": "stdout",
     "output_type": "stream",
     "text": [
      "dict_keys(['loss', 'accuracy', 'val_loss', 'val_accuracy'])\n",
      "dict_keys(['loss', 'accuracy', 'val_loss', 'val_accuracy'])\n",
      "dict_keys(['loss', 'accuracy', 'val_loss', 'val_accuracy'])\n"
     ]
    }
   ],
   "source": [
    "history__LSTM_dict = history_LSTM.history\n",
    "history__1DCNN_dict = history_1DCNN.history\n",
    "history__GlobMaxPool_dict = history_GlobMaxPool.history\n",
    "print(history__LSTM_dict.keys()) # epoch에 따른 그래프를 그려볼 수 있는 항목들\n",
    "print(history__1DCNN_dict.keys())\n",
    "print(history__GlobMaxPool_dict.keys())\n"
   ]
  },
  {
   "cell_type": "code",
   "execution_count": 16,
   "metadata": {},
   "outputs": [
    {
     "data": {
      "image/png": "[encoded data removed]",
      "text/plain": [
       "<Figure size 432x288 with 3 Axes>"
      ]
     },
     "metadata": {
      "needs_background": "light"
     },
     "output_type": "display_data"
    }
   ],
   "source": [
    "import matplotlib.pyplot as plt\n",
    "\n",
    "acc_LSTM = history__LSTM_dict['accuracy']\n",
    "val_acc_LSTM = history__LSTM_dict['val_accuracy']\n",
    "loss_LSTM = history__LSTM_dict['loss']\n",
    "val_loss_LSTM = history__LSTM_dict['val_loss']\n",
    "\n",
    "acc_1DCNN = history__1DCNN_dict['accuracy']\n",
    "val_acc_1DCNN = history__1DCNN_dict['val_accuracy']\n",
    "loss_1DCNN = history__1DCNN_dict['loss']\n",
    "val_loss_1DCNN = history__1DCNN_dict['val_loss']\n",
    "\n",
    "acc_GlobMaxPool = history__GlobMaxPool_dict['accuracy']\n",
    "val_acc_GlobMaxPool= history__GlobMaxPool_dict['val_accuracy']\n",
    "loss_GlobMaxPool = history__GlobMaxPool_dict['loss']\n",
    "val_loss_GlobMaxPool = history__GlobMaxPool_dict['val_loss']\n",
    "\n",
    "epochs_LSTM = range(1, len(acc_LSTM) + 1)\n",
    "epochs_1DCNN = range(1, len(acc_1DCNN) + 1)\n",
    "epochs_GlobMaxPool = range(1, len(acc_GlobMaxPool) + 1)\n",
    "\n",
    "\n",
    "# \"bo\"는 \"파란색 점\"입니다\n",
    "plt.subplot(2,2,1)\n",
    "plt.rcParams[\"figure.figsize\"] = (15,10)\n",
    "plt.plot(epochs_LSTM, loss_LSTM, 'bo', label='Training loss')\n",
    "# b는 \"파란 실선\"입니다\n",
    "plt.plot(epochs_LSTM, val_loss_LSTM, 'b', label='Validation loss')\n",
    "plt.title('LSTM Training and validation loss')\n",
    "plt.xlabel('Epochs')\n",
    "plt.ylabel('Loss')\n",
    "plt.legend()\n",
    "\n",
    "plt.subplot(2,2,2)\n",
    "plt.rcParams[\"figure.figsize\"] = (15,10)\n",
    "plt.plot(epochs_1DCNN, loss_1DCNN, 'bo', label='Training loss')\n",
    "# b는 \"파란 실선\"입니다\n",
    "plt.plot(epochs_1DCNN, val_loss_1DCNN, 'b', label='Validation loss')\n",
    "plt.title('1DCNN Training and validation loss')\n",
    "plt.xlabel('Epochs')\n",
    "plt.ylabel('Loss')\n",
    "plt.legend()\n",
    "\n",
    "plt.subplot(2,2,3)\n",
    "plt.rcParams[\"figure.figsize\"] = (15,10)\n",
    "plt.plot(epochs_GlobMaxPool, loss_GlobMaxPool, 'bo', label='Training loss')\n",
    "# b는 \"파란 실선\"입니다\n",
    "plt.plot(epochs_GlobMaxPool, val_loss_GlobMaxPool, 'b', label='Validation loss')\n",
    "plt.title('GlobMaxPool Training and validation loss')\n",
    "plt.xlabel('Epochs')\n",
    "plt.ylabel('Loss')\n",
    "plt.legend()\n",
    "\n",
    "plt.show()"
   ]
  },
  {
   "cell_type": "code",
   "execution_count": 17,
   "metadata": {},
   "outputs": [
    {
     "data": {
      "image/png": "[encoded data removed]",
      "text/plain": [
       "<Figure size 1080x720 with 3 Axes>"
      ]
     },
     "metadata": {
      "needs_background": "light"
     },
     "output_type": "display_data"
    }
   ],
   "source": [
    "plt.clf()   # 그림을 초기화합니다\n",
    "\n",
    "plt.subplot(2,2,1)\n",
    "plt.rcParams[\"figure.figsize\"] = (15,10)\n",
    "plt.plot(epochs_LSTM, acc_LSTM, 'bo', label='Training acc')\n",
    "plt.plot(epochs_LSTM, val_acc_LSTM, 'b', label='Validation acc')\n",
    "plt.title('Training and validation accuracy')\n",
    "plt.xlabel('Epochs')\n",
    "plt.ylabel('Accuracy')\n",
    "plt.legend()\n",
    "\n",
    "plt.subplot(2,2,2)\n",
    "plt.rcParams[\"figure.figsize\"] = (15,10)\n",
    "plt.plot(epochs_1DCNN, acc_1DCNN, 'bo', label='Training acc')\n",
    "plt.plot(epochs_1DCNN, val_acc_1DCNN, 'b', label='Validation acc')\n",
    "plt.title('Training and validation accuracy')\n",
    "plt.xlabel('Epochs')\n",
    "plt.ylabel('Accuracy')\n",
    "plt.legend()\n",
    "\n",
    "plt.subplot(2,2,3)\n",
    "plt.rcParams[\"figure.figsize\"] = (15,10)\n",
    "plt.plot(epochs_GlobMaxPool, acc_GlobMaxPool, 'bo', label='Training acc')\n",
    "plt.plot(epochs_GlobMaxPool, val_acc_GlobMaxPool, 'b', label='Validation acc')\n",
    "plt.title('Training and validation accuracy')\n",
    "plt.xlabel('Epochs')\n",
    "plt.ylabel('Accuracy')\n",
    "plt.legend()\n",
    "\n",
    "plt.show()"
   ]
  },
  {
   "cell_type": "markdown",
   "metadata": {},
   "source": [
    "## 7. 학습된 Embedding 레이어 분석\n",
    "\n",
    "- 1. 가장 많이 쓰인 단어를 Sort 하고 그 중 많이 쓰인 Top100의 불용어를 추가하였다.\n",
    "\n",
    "- 2. Train set = 100000, Test set = 46000 개로 설정하였다.\n",
    "\n",
    "- 3. Maxlen = 47로, Model의 Feature를 47로 설정하였다.\n",
    "\n",
    "- 4. 3개의 모델 모두 Epoch가 2~3 이상이면 오버피팅했다.\n",
    "\n",
    "- 5. Data는 많지만 Model이 Shallow 해서 성능이 잘 안올라 가는 것으로 분석된다."
   ]
  },
  {
   "cell_type": "markdown",
   "metadata": {},
   "source": [
    "## 8.  한국어 Word2Vec 임베딩 활용하여 성능개선\n",
    " - 한국어 Word2Vec은 다음 경로에서 구할 수 있습니다.\n",
    "https://github.com/Kyubyong/wordvectors"
   ]
  },
  {
   "cell_type": "code",
   "execution_count": 92,
   "metadata": {
    "scrolled": true
   },
   "outputs": [],
   "source": [
    "import os\n",
    "from gensim.models import KeyedVectors\n",
    "import gensim\n",
    "\n",
    "word2vec_path = os.getenv('HOME')+'/aiffel/sentiment_classification/ko/ko.bin'\n",
    "word2vec = gensim.models.Word2Vec.load(word2vec_path)"
   ]
  },
  {
   "cell_type": "code",
   "execution_count": 93,
   "metadata": {},
   "outputs": [],
   "source": [
    "from konlpy.tag import Mecab\n",
    "tokenizer = Mecab()\n",
    "stopwords = ['의','가','이','은','들','는','좀','잘','걍','과','도',\n",
    "             '를','으로','자','에','와','한','하다','다','고','하','을','.','..',\n",
    "             ',','었','만','는데','로','음','것','아','네요','어','같','했','에서','기','네','거'\n",
    "             ,'수','되','면','게','지','있','나','점','인','주','내','~','던','어요','할','겠','1'\n",
    "             ,'해','습니다','...','더','라','그','볼','!','?','보','았','영화','적','듯','때'\n",
    "            ,'함','본','까지','뭐','알','감독','내용','중','년','였','서','2','라고','야','니','면서'\n",
    "            ,'이거','하나','해서','임','3','입니다','라는','다는' ]\n",
    "\n",
    "\n",
    "\n",
    "vocab_size = 30185\n",
    "word_vector_dim = 200\n",
    "\n",
    "def load_data(train_data, test_data, num_words=vocab_size):\n",
    "    train_data.drop_duplicates(subset=['document'], inplace=True)\n",
    "    train_data = train_data.dropna(how = 'any') \n",
    "    test_data.drop_duplicates(subset=['document'], inplace=True)\n",
    "    test_data = test_data.dropna(how = 'any') \n",
    "\n",
    "    X_train = []\n",
    "    for sentence in train_data['document']:\n",
    "        temp_X = tokenizer.morphs(sentence) # 토큰화\n",
    "        temp_X = [word for word in temp_X if not word in stopwords] # 불용어 제거\n",
    "        X_train.append(temp_X)\n",
    "\n",
    "    X_test = []\n",
    "    for sentence in test_data['document']:\n",
    "        temp_X = tokenizer.morphs(sentence) # 토큰화\n",
    "        temp_X = [word for word in temp_X if not word in stopwords] # 불용어 제거\n",
    "        X_test.append(temp_X)\n",
    "\n",
    "    words = np.concatenate(X_train).tolist()\n",
    "    counter = Counter(words)\n",
    "    counter = counter.most_common(vocab_size-4)\n",
    "    vocab = ['<PAD>', '<BOS>', '<UNK>', '<UNUSED>'] + [key for key, _ in counter]\n",
    "    word_to_index = {word:index for index, word in enumerate(vocab)}\n",
    "\n",
    "    def wordlist_to_indexlist(wordlist):\n",
    "        return [word_to_index[word] if word in word_to_index else word_to_index['<UNK>'] for word in wordlist]\n",
    "\n",
    "    X_train = list(map(wordlist_to_indexlist, X_train))\n",
    "    X_test = list(map(wordlist_to_indexlist, X_test))\n",
    "\n",
    "    return X_train, np.array(list(train_data['label'])), X_test, np.array(list(test_data['label'])), word_to_index\n",
    "\n",
    "X_train, y_train, X_test, y_test, word_to_index = load_data(train_data, test_data) "
   ]
  },
  {
   "cell_type": "code",
   "execution_count": 94,
   "metadata": {},
   "outputs": [
    {
     "name": "stdout",
     "output_type": "stream",
     "text": [
      "<PAD>\n",
      "<BOS>\n",
      "<UNK>\n",
      "<UNUSED>\n",
      "없\n",
      "좋\n",
      "너무\n",
      "봤\n",
      "안\n",
      "정말\n"
     ]
    }
   ],
   "source": [
    "index_to_word = {index:word for word, index in word_to_index.items()}\n",
    "for i in range(10):\n",
    "    print(index_to_word[i])"
   ]
  },
  {
   "cell_type": "code",
   "execution_count": 95,
   "metadata": {},
   "outputs": [
    {
     "name": "stderr",
     "output_type": "stream",
     "text": [
      "/home/aiffel/anaconda3/envs/aiffel/lib/python3.7/site-packages/ipykernel_launcher.py:6: DeprecationWarning: Call to deprecated `__contains__` (Method will be removed in 4.0.0, use self.wv.__contains__() instead).\n",
      "  \n",
      "/home/aiffel/anaconda3/envs/aiffel/lib/python3.7/site-packages/ipykernel_launcher.py:7: DeprecationWarning: Call to deprecated `__getitem__` (Method will be removed in 4.0.0, use self.wv.__getitem__() instead).\n",
      "  import sys\n"
     ]
    }
   ],
   "source": [
    "import numpy as np\n",
    "\n",
    "embedding_matrix = np.random.rand(vocab_size, word_vector_dim)\n",
    "\n",
    "for i in range(4,vocab_size):\n",
    "    if index_to_word[i] in word2vec:\n",
    "        embedding_matrix[i] = word2vec[index_to_word[i]]"
   ]
  },
  {
   "cell_type": "code",
   "execution_count": 96,
   "metadata": {},
   "outputs": [
    {
     "name": "stdout",
     "output_type": "stream",
     "text": [
      "Model: \"sequential_37\"\n",
      "_________________________________________________________________\n",
      "Layer (type)                 Output Shape              Param #   \n",
      "=================================================================\n",
      "embedding_37 (Embedding)     (None, 47, 200)           6037000   \n",
      "_________________________________________________________________\n",
      "conv1d_80 (Conv1D)           (None, 41, 64)            89664     \n",
      "_________________________________________________________________\n",
      "conv1d_81 (Conv1D)           (None, 35, 64)            28736     \n",
      "_________________________________________________________________\n",
      "max_pooling1d_29 (MaxPooling (None, 17, 64)            0         \n",
      "_________________________________________________________________\n",
      "conv1d_82 (Conv1D)           (None, 11, 128)           57472     \n",
      "_________________________________________________________________\n",
      "conv1d_83 (Conv1D)           (None, 5, 256)            229632    \n",
      "_________________________________________________________________\n",
      "global_max_pooling1d_24 (Glo (None, 256)               0         \n",
      "_________________________________________________________________\n",
      "dense_48 (Dense)             (None, 16)                4112      \n",
      "_________________________________________________________________\n",
      "dense_49 (Dense)             (None, 1)                 17        \n",
      "=================================================================\n",
      "Total params: 6,446,633\n",
      "Trainable params: 6,446,633\n",
      "Non-trainable params: 0\n",
      "_________________________________________________________________\n"
     ]
    }
   ],
   "source": [
    "from keras.initializers import Constant\n",
    "\n",
    "\n",
    "vocab_size = 30185\n",
    "word_vector_dim = 200\n",
    "\n",
    "# 모델 구성\n",
    "model_1DCNN = keras.Sequential()\n",
    "model_1DCNN.add(keras.layers.Embedding(vocab_size, \n",
    "                                 word_vector_dim, \n",
    "                                 embeddings_initializer=Constant(embedding_matrix),  # 카피한 임베딩을 여기서 활용\n",
    "                                 input_length=maxlen, \n",
    "                                 trainable=True))   # trainable을 True로 주면 Fine-tuning\n",
    "model_1DCNN.add(keras.layers.Conv1D(64, 7, activation='relu'))\n",
    "model_1DCNN.add(keras.layers.Conv1D(64, 7, activation='relu'))\n",
    "model_1DCNN.add(keras.layers.MaxPooling1D())\n",
    "model_1DCNN.add(keras.layers.Conv1D(128, 7, activation='relu'))\n",
    "model_1DCNN.add(keras.layers.Conv1D(256, 7, activation='relu'))\n",
    "model_1DCNN.add(keras.layers.GlobalMaxPooling1D())\n",
    "model_1DCNN.add(keras.layers.Dense(16, activation='relu'))\n",
    "model_1DCNN.add(keras.layers.Dense(1, activation='sigmoid')) \n",
    "\n",
    "model_1DCNN.summary()"
   ]
  },
  {
   "cell_type": "code",
   "execution_count": 97,
   "metadata": {
    "scrolled": true
   },
   "outputs": [
    {
     "name": "stdout",
     "output_type": "stream",
     "text": [
      "Epoch 1/15\n",
      "196/196 [==============================] - 22s 111ms/step - loss: 0.6935 - accuracy: 0.5121 - val_loss: 0.6911 - val_accuracy: 0.5178\n",
      "Epoch 2/15\n",
      "196/196 [==============================] - 21s 107ms/step - loss: 0.6874 - accuracy: 0.5451 - val_loss: 0.6807 - val_accuracy: 0.5704\n",
      "Epoch 3/15\n",
      "196/196 [==============================] - 21s 107ms/step - loss: 0.6661 - accuracy: 0.5921 - val_loss: 0.6521 - val_accuracy: 0.6099\n",
      "Epoch 4/15\n",
      "196/196 [==============================] - 21s 106ms/step - loss: 0.6350 - accuracy: 0.6360 - val_loss: 0.6252 - val_accuracy: 0.6517\n",
      "Epoch 5/15\n",
      "196/196 [==============================] - 21s 107ms/step - loss: 0.6082 - accuracy: 0.6653 - val_loss: 0.6063 - val_accuracy: 0.6632\n",
      "Epoch 6/15\n",
      "196/196 [==============================] - 21s 107ms/step - loss: 0.5867 - accuracy: 0.6856 - val_loss: 0.5955 - val_accuracy: 0.6635\n",
      "Epoch 7/15\n",
      "196/196 [==============================] - 21s 106ms/step - loss: 0.5684 - accuracy: 0.7020 - val_loss: 0.5806 - val_accuracy: 0.6805\n",
      "Epoch 8/15\n",
      "196/196 [==============================] - 21s 106ms/step - loss: 0.5534 - accuracy: 0.7120 - val_loss: 0.5657 - val_accuracy: 0.7009\n",
      "Epoch 9/15\n",
      "196/196 [==============================] - 21s 106ms/step - loss: 0.5390 - accuracy: 0.7235 - val_loss: 0.5564 - val_accuracy: 0.7079\n",
      "Epoch 10/15\n",
      "196/196 [==============================] - 21s 106ms/step - loss: 0.5262 - accuracy: 0.7336 - val_loss: 0.5491 - val_accuracy: 0.7142\n",
      "Epoch 11/15\n",
      "196/196 [==============================] - 21s 107ms/step - loss: 0.5145 - accuracy: 0.7414 - val_loss: 0.5510 - val_accuracy: 0.7144\n",
      "Epoch 12/15\n",
      "196/196 [==============================] - 21s 106ms/step - loss: 0.5039 - accuracy: 0.7488 - val_loss: 0.5368 - val_accuracy: 0.7227\n",
      "Epoch 13/15\n",
      "196/196 [==============================] - 21s 108ms/step - loss: 0.4941 - accuracy: 0.7563 - val_loss: 0.5304 - val_accuracy: 0.7281\n",
      "Epoch 14/15\n",
      "196/196 [==============================] - 21s 108ms/step - loss: 0.4840 - accuracy: 0.7624 - val_loss: 0.5258 - val_accuracy: 0.7316\n",
      "Epoch 15/15\n",
      "196/196 [==============================] - 21s 107ms/step - loss: 0.4765 - accuracy: 0.7677 - val_loss: 0.5214 - val_accuracy: 0.7355\n"
     ]
    }
   ],
   "source": [
    "# 학습의 진행\n",
    "from keras import optimizers\n",
    "\n",
    "Adam = optimizers.Adam(lr=0.00003)\n",
    "\n",
    "model_1DCNN.compile(optimizer=Adam,\n",
    "              loss='binary_crossentropy',\n",
    "              metrics=['accuracy'])\n",
    "              \n",
    "epochs=15  # 몇 epoch를 훈련하면 좋을지 결과를 보면서 바꾸어 봅시다. \n",
    "\n",
    "history = model_1DCNN.fit(partial_X_train,\n",
    "                    partial_y_train,\n",
    "                    epochs=epochs,\n",
    "                    batch_size=512,\n",
    "                    validation_data=(X_val, y_val),\n",
    "                    verbose=1)"
   ]
  },
  {
   "cell_type": "code",
   "execution_count": 98,
   "metadata": {},
   "outputs": [
    {
     "name": "stdout",
     "output_type": "stream",
     "text": [
      "Model: \"sequential_38\"\n",
      "_________________________________________________________________\n",
      "Layer (type)                 Output Shape              Param #   \n",
      "=================================================================\n",
      "embedding_38 (Embedding)     (None, 47, 200)           6037000   \n",
      "_________________________________________________________________\n",
      "lstm_23 (LSTM)               (None, 47, 512)           1460224   \n",
      "_________________________________________________________________\n",
      "lstm_24 (LSTM)               (None, 47, 256)           787456    \n",
      "_________________________________________________________________\n",
      "lstm_25 (LSTM)               (None, 47, 128)           197120    \n",
      "_________________________________________________________________\n",
      "lstm_26 (LSTM)               (None, 64)                49408     \n",
      "_________________________________________________________________\n",
      "dense_50 (Dense)             (None, 16)                1040      \n",
      "_________________________________________________________________\n",
      "dense_51 (Dense)             (None, 1)                 17        \n",
      "=================================================================\n",
      "Total params: 8,532,265\n",
      "Trainable params: 8,532,265\n",
      "Non-trainable params: 0\n",
      "_________________________________________________________________\n"
     ]
    }
   ],
   "source": [
    "# 모델 구성\n",
    "model_LSTM = keras.Sequential()\n",
    "# [[YOUR CODE]]\n",
    "model_LSTM.add(keras.layers.Embedding(vocab_size, word_vector_dim,\n",
    "                                      embeddings_initializer=Constant(embedding_matrix),\n",
    "                                      input_length=maxlen, \n",
    "                                      trainable=True))\n",
    "model_LSTM.add(keras.layers.LSTM(512,return_sequences = True ))\n",
    "model_LSTM.add(keras.layers.LSTM(256,return_sequences = True)) \n",
    "model_LSTM.add(keras.layers.LSTM(128,return_sequences = True))#가장 널리 쓰이는 RNN인 LSTM 레이어를 사용하였습\n",
    "model_LSTM.add(keras.layers.LSTM(64,return_sequences = False))\n",
    "model_LSTM.add(keras.layers.Dense(16, activation='relu'))\n",
    "model_LSTM.add(keras.layers.Dense(1, activation='sigmoid'))  # 최종 출력은 긍정/부정을 나타내는 1dim 입니다.\n",
    "\n",
    "model_LSTM.summary()"
   ]
  },
  {
   "cell_type": "code",
   "execution_count": 99,
   "metadata": {
    "scrolled": false
   },
   "outputs": [
    {
     "name": "stdout",
     "output_type": "stream",
     "text": [
      "Epoch 1/10\n",
      "196/196 [==============================] - 266s 1s/step - loss: 0.6458 - accuracy: 0.6122 - val_loss: 0.5769 - val_accuracy: 0.7023\n",
      "Epoch 2/10\n",
      "196/196 [==============================] - 257s 1s/step - loss: 0.5343 - accuracy: 0.7276 - val_loss: 0.4929 - val_accuracy: 0.7549\n",
      "Epoch 3/10\n",
      "196/196 [==============================] - 264s 1s/step - loss: 0.4669 - accuracy: 0.7752 - val_loss: 0.4530 - val_accuracy: 0.7840\n",
      "Epoch 4/10\n",
      "196/196 [==============================] - 260s 1s/step - loss: 0.4300 - accuracy: 0.7991 - val_loss: 0.4253 - val_accuracy: 0.8008\n",
      "Epoch 5/10\n",
      "196/196 [==============================] - 259s 1s/step - loss: 0.4029 - accuracy: 0.8159 - val_loss: 0.4138 - val_accuracy: 0.8086\n",
      "Epoch 6/10\n",
      "196/196 [==============================] - 262s 1s/step - loss: 0.3813 - accuracy: 0.8283 - val_loss: 0.3922 - val_accuracy: 0.8228\n",
      "Epoch 7/10\n",
      "196/196 [==============================] - 263s 1s/step - loss: 0.3627 - accuracy: 0.8393 - val_loss: 0.4166 - val_accuracy: 0.8087\n",
      "Epoch 8/10\n",
      "196/196 [==============================] - 258s 1s/step - loss: 0.3482 - accuracy: 0.8462 - val_loss: 0.3824 - val_accuracy: 0.8278\n",
      "Epoch 9/10\n",
      "196/196 [==============================] - 258s 1s/step - loss: 0.3312 - accuracy: 0.8563 - val_loss: 0.3830 - val_accuracy: 0.8295\n",
      "Epoch 10/10\n",
      "196/196 [==============================] - 270s 1s/step - loss: 0.3182 - accuracy: 0.8632 - val_loss: 0.3839 - val_accuracy: 0.8310\n"
     ]
    }
   ],
   "source": [
    "Adam = optimizers.Adam(lr=0.00008)\n",
    "model_LSTM.compile(optimizer=Adam,\n",
    "              loss='binary_crossentropy',\n",
    "              metrics=['accuracy'])\n",
    "              \n",
    "epochs=10  # 몇 epoch를 훈련하면 좋을지 결과를 보면서 바꾸어 봅시다. \n",
    "\n",
    "history_LSTM = model_LSTM.fit(partial_X_train,\n",
    "                    partial_y_train,\n",
    "                    epochs=epochs,\n",
    "                    batch_size=512,\n",
    "                    validation_data=(X_val, y_val),\n",
    "                    verbose=1)"
   ]
  },
  {
   "cell_type": "code",
   "execution_count": 100,
   "metadata": {
    "scrolled": true
   },
   "outputs": [
    {
     "name": "stdout",
     "output_type": "stream",
     "text": [
      "Model: \"sequential_39\"\n",
      "_________________________________________________________________\n",
      "Layer (type)                 Output Shape              Param #   \n",
      "=================================================================\n",
      "embedding_39 (Embedding)     (None, 47, 200)           6037000   \n",
      "_________________________________________________________________\n",
      "global_max_pooling1d_25 (Glo (None, 200)               0         \n",
      "_________________________________________________________________\n",
      "dense_52 (Dense)             (None, 4)                 804       \n",
      "_________________________________________________________________\n",
      "dense_53 (Dense)             (None, 1)                 5         \n",
      "=================================================================\n",
      "Total params: 6,037,809\n",
      "Trainable params: 6,037,809\n",
      "Non-trainable params: 0\n",
      "_________________________________________________________________\n"
     ]
    }
   ],
   "source": [
    "model_GlobMaxPool = keras.Sequential()\n",
    "model_GlobMaxPool.add(keras.layers.Embedding(vocab_size, word_vector_dim, \n",
    "                                             input_length=maxlen, \n",
    "                                             trainable=True))\n",
    "model_GlobMaxPool.add(keras.layers.GlobalMaxPooling1D())\n",
    "model_GlobMaxPool.add(keras.layers.Dense(4, activation='relu'))\n",
    "model_GlobMaxPool.add(keras.layers.Dense(1, activation='sigmoid'))  # 최종 출력은 긍정/부정을 나타내는 1dim 입니다.\n",
    "\n",
    "model_GlobMaxPool.summary()"
   ]
  },
  {
   "cell_type": "code",
   "execution_count": 101,
   "metadata": {},
   "outputs": [
    {
     "name": "stdout",
     "output_type": "stream",
     "text": [
      "Epoch 1/20\n",
      "196/196 [==============================] - 9s 45ms/step - loss: 0.6895 - accuracy: 0.7200 - val_loss: 0.6841 - val_accuracy: 0.7924\n",
      "Epoch 2/20\n",
      "196/196 [==============================] - 9s 46ms/step - loss: 0.6684 - accuracy: 0.7914 - val_loss: 0.6492 - val_accuracy: 0.8012\n",
      "Epoch 3/20\n",
      "196/196 [==============================] - 9s 46ms/step - loss: 0.6229 - accuracy: 0.8115 - val_loss: 0.5950 - val_accuracy: 0.8112\n",
      "Epoch 4/20\n",
      "196/196 [==============================] - 9s 44ms/step - loss: 0.5612 - accuracy: 0.8237 - val_loss: 0.5311 - val_accuracy: 0.8192\n",
      "Epoch 5/20\n",
      "196/196 [==============================] - 9s 45ms/step - loss: 0.4971 - accuracy: 0.8323 - val_loss: 0.4739 - val_accuracy: 0.8255\n",
      "Epoch 6/20\n",
      "196/196 [==============================] - 9s 44ms/step - loss: 0.4443 - accuracy: 0.8391 - val_loss: 0.4319 - val_accuracy: 0.8296\n",
      "Epoch 7/20\n",
      "196/196 [==============================] - 8s 43ms/step - loss: 0.4060 - accuracy: 0.8448 - val_loss: 0.4040 - val_accuracy: 0.8331\n",
      "Epoch 8/20\n",
      "196/196 [==============================] - 9s 44ms/step - loss: 0.3791 - accuracy: 0.8507 - val_loss: 0.3856 - val_accuracy: 0.8366\n",
      "Epoch 9/20\n",
      "196/196 [==============================] - 9s 43ms/step - loss: 0.3595 - accuracy: 0.8557 - val_loss: 0.3734 - val_accuracy: 0.8390\n",
      "Epoch 10/20\n",
      "196/196 [==============================] - 9s 43ms/step - loss: 0.3446 - accuracy: 0.8602 - val_loss: 0.3650 - val_accuracy: 0.8410\n",
      "Epoch 11/20\n",
      "196/196 [==============================] - 9s 44ms/step - loss: 0.3326 - accuracy: 0.8643 - val_loss: 0.3590 - val_accuracy: 0.8430\n",
      "Epoch 12/20\n",
      "196/196 [==============================] - 9s 44ms/step - loss: 0.3224 - accuracy: 0.8680 - val_loss: 0.3547 - val_accuracy: 0.8446\n",
      "Epoch 13/20\n",
      "196/196 [==============================] - 9s 45ms/step - loss: 0.3136 - accuracy: 0.8716 - val_loss: 0.3515 - val_accuracy: 0.8460\n",
      "Epoch 14/20\n",
      "196/196 [==============================] - 8s 43ms/step - loss: 0.3056 - accuracy: 0.8752 - val_loss: 0.3491 - val_accuracy: 0.8470\n",
      "Epoch 15/20\n",
      "196/196 [==============================] - 9s 44ms/step - loss: 0.2983 - accuracy: 0.8787 - val_loss: 0.3473 - val_accuracy: 0.8479\n",
      "Epoch 16/20\n",
      "196/196 [==============================] - 9s 44ms/step - loss: 0.2915 - accuracy: 0.8819 - val_loss: 0.3460 - val_accuracy: 0.8488\n",
      "Epoch 17/20\n",
      "196/196 [==============================] - 9s 44ms/step - loss: 0.2851 - accuracy: 0.8846 - val_loss: 0.3452 - val_accuracy: 0.8491\n",
      "Epoch 18/20\n",
      "196/196 [==============================] - 8s 43ms/step - loss: 0.2790 - accuracy: 0.8877 - val_loss: 0.3447 - val_accuracy: 0.8497\n",
      "Epoch 19/20\n",
      "196/196 [==============================] - 8s 43ms/step - loss: 0.2733 - accuracy: 0.8901 - val_loss: 0.3445 - val_accuracy: 0.8501\n",
      "Epoch 20/20\n",
      "196/196 [==============================] - 9s 44ms/step - loss: 0.2677 - accuracy: 0.8926 - val_loss: 0.3445 - val_accuracy: 0.8506\n"
     ]
    }
   ],
   "source": [
    "Adam = optimizers.Adam(lr=0.0001)\n",
    "model_GlobMaxPool.compile(optimizer=Adam,\n",
    "              loss='binary_crossentropy',\n",
    "              metrics=['accuracy'])\n",
    "              \n",
    "epochs=20  # 몇 epoch를 훈련하면 좋을지 결과를 보면서 바꾸어 봅시다. \n",
    "\n",
    "history_GlobMaxPool = model_GlobMaxPool.fit(partial_X_train,\n",
    "                    partial_y_train,\n",
    "                    epochs=epochs,\n",
    "                    batch_size=512,\n",
    "                    validation_data=(X_val, y_val),\n",
    "                    verbose=1)"
   ]
  },
  {
   "cell_type": "code",
   "execution_count": 102,
   "metadata": {},
   "outputs": [
    {
     "name": "stdout",
     "output_type": "stream",
     "text": [
      "dict_keys(['loss', 'accuracy', 'val_loss', 'val_accuracy'])\n",
      "dict_keys(['loss', 'accuracy', 'val_loss', 'val_accuracy'])\n",
      "dict_keys(['loss', 'accuracy', 'val_loss', 'val_accuracy'])\n"
     ]
    }
   ],
   "source": [
    "history__LSTM_dict = history_LSTM.history\n",
    "history__1DCNN_dict = history_1DCNN.history\n",
    "history__GlobMaxPool_dict = history_GlobMaxPool.history\n",
    "print(history__LSTM_dict.keys()) # epoch에 따른 그래프를 그려볼 수 있는 항목들\n",
    "print(history__1DCNN_dict.keys())\n",
    "print(history__GlobMaxPool_dict.keys())"
   ]
  },
  {
   "cell_type": "code",
   "execution_count": 103,
   "metadata": {},
   "outputs": [
    {
     "data": {
      "image/png": "[encoded data removed]",
      "text/plain": [
       "<Figure size 1080x720 with 3 Axes>"
      ]
     },
     "metadata": {
      "needs_background": "light"
     },
     "output_type": "display_data"
    }
   ],
   "source": [
    "import matplotlib.pyplot as plt\n",
    "\n",
    "acc_LSTM = history__LSTM_dict['accuracy']\n",
    "val_acc_LSTM = history__LSTM_dict['val_accuracy']\n",
    "loss_LSTM = history__LSTM_dict['loss']\n",
    "val_loss_LSTM = history__LSTM_dict['val_loss']\n",
    "\n",
    "acc_1DCNN = history__1DCNN_dict['accuracy']\n",
    "val_acc_1DCNN = history__1DCNN_dict['val_accuracy']\n",
    "loss_1DCNN = history__1DCNN_dict['loss']\n",
    "val_loss_1DCNN = history__1DCNN_dict['val_loss']\n",
    "\n",
    "acc_GlobMaxPool = history__GlobMaxPool_dict['accuracy']\n",
    "val_acc_GlobMaxPool= history__GlobMaxPool_dict['val_accuracy']\n",
    "loss_GlobMaxPool = history__GlobMaxPool_dict['loss']\n",
    "val_loss_GlobMaxPool = history__GlobMaxPool_dict['val_loss']\n",
    "\n",
    "epochs_LSTM = range(1, len(acc_LSTM) + 1)\n",
    "epochs_1DCNN = range(1, len(acc_1DCNN) + 1)\n",
    "epochs_GlobMaxPool = range(1, len(acc_GlobMaxPool) + 1)\n",
    "\n",
    "\n",
    "# \"bo\"는 \"파란색 점\"입니다\n",
    "plt.subplot(2,2,1)\n",
    "plt.rcParams[\"figure.figsize\"] = (15,10)\n",
    "plt.plot(epochs_LSTM, loss_LSTM, 'bo', label='Training loss')\n",
    "# b는 \"파란 실선\"입니다\n",
    "plt.plot(epochs_LSTM, val_loss_LSTM, 'b', label='Validation loss')\n",
    "plt.title('LSTM Training and validation loss')\n",
    "plt.xlabel('Epochs')\n",
    "plt.ylabel('Loss')\n",
    "plt.legend()\n",
    "\n",
    "plt.subplot(2,2,2)\n",
    "plt.rcParams[\"figure.figsize\"] = (15,10)\n",
    "plt.plot(epochs_1DCNN, loss_1DCNN, 'bo', label='Training loss')\n",
    "# b는 \"파란 실선\"입니다\n",
    "plt.plot(epochs_1DCNN, val_loss_1DCNN, 'b', label='Validation loss')\n",
    "plt.title('1DCNN Training and validation loss')\n",
    "plt.xlabel('Epochs')\n",
    "plt.ylabel('Loss')\n",
    "plt.legend()\n",
    "\n",
    "plt.subplot(2,2,3)\n",
    "plt.rcParams[\"figure.figsize\"] = (15,10)\n",
    "plt.plot(epochs_GlobMaxPool, loss_GlobMaxPool, 'bo', label='Training loss')\n",
    "# b는 \"파란 실선\"입니다\n",
    "plt.plot(epochs_GlobMaxPool, val_loss_GlobMaxPool, 'b', label='Validation loss')\n",
    "plt.title('GlobMaxPool Training and validation loss')\n",
    "plt.xlabel('Epochs')\n",
    "plt.ylabel('Loss')\n",
    "plt.legend()\n",
    "\n",
    "plt.show()"
   ]
  },
  {
   "cell_type": "code",
   "execution_count": 104,
   "metadata": {},
   "outputs": [
    {
     "data": {
      "image/png": "[encoded data removed]",
      "text/plain": [
       "<Figure size 1080x720 with 3 Axes>"
      ]
     },
     "metadata": {
      "needs_background": "light"
     },
     "output_type": "display_data"
    }
   ],
   "source": [
    "plt.clf()   # 그림을 초기화합니다\n",
    "\n",
    "plt.subplot(2,2,1)\n",
    "plt.rcParams[\"figure.figsize\"] = (15,10)\n",
    "plt.plot(epochs_LSTM, acc_LSTM, 'bo', label='Training acc')\n",
    "plt.plot(epochs_LSTM, val_acc_LSTM, 'b', label='Validation acc')\n",
    "plt.title('LSTM Training and validation accuracy')\n",
    "plt.xlabel('Epochs')\n",
    "plt.ylabel('Accuracy')\n",
    "plt.legend()\n",
    "\n",
    "plt.subplot(2,2,2)\n",
    "plt.rcParams[\"figure.figsize\"] = (15,10)\n",
    "plt.plot(epochs_1DCNN, acc_1DCNN, 'bo', label='Training acc')\n",
    "plt.plot(epochs_1DCNN, val_acc_1DCNN, 'b', label='Validation acc')\n",
    "plt.title('1DCNN Training and validation accuracy')\n",
    "plt.xlabel('Epochs')\n",
    "plt.ylabel('Accuracy')\n",
    "plt.legend()\n",
    "\n",
    "plt.subplot(2,2,3)\n",
    "plt.rcParams[\"figure.figsize\"] = (15,10)\n",
    "plt.plot(epochs_GlobMaxPool, acc_GlobMaxPool, 'bo', label='Training acc')\n",
    "plt.plot(epochs_GlobMaxPool, val_acc_GlobMaxPool, 'b', label='Validation acc')\n",
    "plt.title('Global Max Pooling Training and validation accuracy')\n",
    "plt.xlabel('Epochs')\n",
    "plt.ylabel('Accuracy')\n",
    "plt.legend()\n",
    "\n",
    "plt.show()"
   ]
  },
  {
   "cell_type": "markdown",
   "metadata": {},
   "source": [
    "### 1. Epochs 가 3 근처에서 Overfitting 이 일어났다. Learning rate 를 0.001 --> 0.0001 까지 조정해본 결과\n",
    " - Adam 이 minimum을 너무 잘 찾는진 모르겠지만, 큰 차이는 없었다.\n",
    "\n",
    "### 2. 불용어를 30개 정도 추가했다. -->  Validation Accuracy 에 큰 차이가 없었다.\n",
    "\n",
    "### 3. LSTM의 벡터를 늘려 여러층 쌓고, Conv1D도 여러층 쌓고 벡터를 늘렸다. --> Validation Accuracy에 큰 차이가 없었다.\n",
    "\n",
    "## 결론 :  Train 시간도 가장 짧고 모델의 구조가 가장 간단한 Global Max Pooling 모델이 성능이 좋은걸로 판별이 났다.\n",
    "\n",
    "\n",
    "### 의문점 1. 이론상으로는 LSTM이 가장 성능이 좋아야 하는데, 왜 그럴까.. 모델을 변경해 보며 실험을 진행해 봐야겠다.\n",
    "\n",
    "### 의문점 2. 별짓을 다해도 성능이 85% 이상 올라가지 않는다. 도대체 왜..\n",
    "\n",
    "### 의문점 3. 불용어를 추가한것과 추가하지 않은것의 성능 차이가 크지 않았다. 왜..."
   ]
  },
  {
   "cell_type": "code",
   "execution_count": null,
   "metadata": {},
   "outputs": [],
   "source": []
  }
 ],
 "metadata": {
  "kernelspec": {
   "display_name": "Python 3",
   "language": "python",
   "name": "python3"
  },
  "language_info": {
   "codemirror_mode": {
    "name": "ipython",
    "version": 3
   },
   "file_extension": ".py",
   "mimetype": "text/x-python",
   "name": "python",
   "nbconvert_exporter": "python",
   "pygments_lexer": "ipython3",
   "version": "3.7.6"
  }
 },
 "nbformat": 4,
 "nbformat_minor": 4
}
